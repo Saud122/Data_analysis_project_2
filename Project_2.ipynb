{
 "cells": [
  {
   "cell_type": "code",
   "execution_count": 194,
   "metadata": {},
   "outputs": [],
   "source": [
    "#Import all relevant libraries\n",
    "import numpy as np\n",
    "import pandas as pd\n",
    "import matplotlib.pyplot as plt\n",
    "import seaborn as sns\n",
    "from scipy.stats import zscore\n",
    " \n",
    "## This statement allows the visuals to render within your Jupyter Notebook.\n",
    "%matplotlib inline"
   ]
  },
  {
   "cell_type": "code",
   "execution_count": 195,
   "metadata": {},
   "outputs": [],
   "source": [
    "df_WRU = pd.read_csv(\"Data/Word Rank University.csv\")"
   ]
  },
  {
   "cell_type": "code",
   "execution_count": 196,
   "metadata": {},
   "outputs": [],
   "source": [
    "df_THE = pd.read_csv(\"Data/Times Higher Education.csv\")"
   ]
  },
  {
   "cell_type": "code",
   "execution_count": 197,
   "metadata": {},
   "outputs": [],
   "source": [
    "df_SR = pd.read_csv(\"Data/shanghai Ranking.csv\")"
   ]
  },
  {
   "cell_type": "markdown",
   "metadata": {},
   "source": [
    "# First data : Word Rank University\n"
   ]
  },
  {
   "cell_type": "markdown",
   "metadata": {},
   "source": [
    "### Data profiling"
   ]
  },
  {
   "cell_type": "code",
   "execution_count": 198,
   "metadata": {},
   "outputs": [
    {
     "data": {
      "text/html": [
       "<div>\n",
       "<style scoped>\n",
       "    .dataframe tbody tr th:only-of-type {\n",
       "        vertical-align: middle;\n",
       "    }\n",
       "\n",
       "    .dataframe tbody tr th {\n",
       "        vertical-align: top;\n",
       "    }\n",
       "\n",
       "    .dataframe thead th {\n",
       "        text-align: right;\n",
       "    }\n",
       "</style>\n",
       "<table border=\"1\" class=\"dataframe\">\n",
       "  <thead>\n",
       "    <tr style=\"text-align: right;\">\n",
       "      <th></th>\n",
       "      <th>World Rank</th>\n",
       "      <th>University Names</th>\n",
       "      <th>Location</th>\n",
       "      <th>National Rank</th>\n",
       "      <th>Educational Rank</th>\n",
       "      <th>Employability Rank</th>\n",
       "      <th>Faculty Rank</th>\n",
       "      <th>Research Rank</th>\n",
       "      <th>Score</th>\n",
       "    </tr>\n",
       "  </thead>\n",
       "  <tbody>\n",
       "    <tr>\n",
       "      <th>0</th>\n",
       "      <td>1Top 0.1%</td>\n",
       "      <td>Harvard University\\r\\n  CWUR Rating System:   ...</td>\n",
       "      <td>USA</td>\n",
       "      <td>1</td>\n",
       "      <td>1</td>\n",
       "      <td>1</td>\n",
       "      <td>1</td>\n",
       "      <td>1</td>\n",
       "      <td>100.0</td>\n",
       "    </tr>\n",
       "    <tr>\n",
       "      <th>1</th>\n",
       "      <td>2Top 0.1%</td>\n",
       "      <td>Massachusetts Institute of Technology\\r\\n  Edu...</td>\n",
       "      <td>USA</td>\n",
       "      <td>2</td>\n",
       "      <td>4</td>\n",
       "      <td>12</td>\n",
       "      <td>3</td>\n",
       "      <td>9</td>\n",
       "      <td>96.7</td>\n",
       "    </tr>\n",
       "    <tr>\n",
       "      <th>2</th>\n",
       "      <td>3Top 0.1%</td>\n",
       "      <td>Stanford University\\r\\n  Education: A+; Employ...</td>\n",
       "      <td>USA</td>\n",
       "      <td>3</td>\n",
       "      <td>11</td>\n",
       "      <td>4</td>\n",
       "      <td>2</td>\n",
       "      <td>2</td>\n",
       "      <td>95.2</td>\n",
       "    </tr>\n",
       "    <tr>\n",
       "      <th>3</th>\n",
       "      <td>4Top 0.1%</td>\n",
       "      <td>University of Cambridge\\r\\n  Education: A+; Em...</td>\n",
       "      <td>United Kingdom</td>\n",
       "      <td>1</td>\n",
       "      <td>3</td>\n",
       "      <td>25</td>\n",
       "      <td>5</td>\n",
       "      <td>11</td>\n",
       "      <td>94.1</td>\n",
       "    </tr>\n",
       "    <tr>\n",
       "      <th>4</th>\n",
       "      <td>5Top 0.1%</td>\n",
       "      <td>University of Oxford\\r\\n  Education: A+; Emplo...</td>\n",
       "      <td>United Kingdom</td>\n",
       "      <td>2</td>\n",
       "      <td>7</td>\n",
       "      <td>27</td>\n",
       "      <td>9</td>\n",
       "      <td>4</td>\n",
       "      <td>93.3</td>\n",
       "    </tr>\n",
       "  </tbody>\n",
       "</table>\n",
       "</div>"
      ],
      "text/plain": [
       "  World Rank                                   University Names  \\\n",
       "0  1Top 0.1%  Harvard University\\r\\n  CWUR Rating System:   ...   \n",
       "1  2Top 0.1%  Massachusetts Institute of Technology\\r\\n  Edu...   \n",
       "2  3Top 0.1%  Stanford University\\r\\n  Education: A+; Employ...   \n",
       "3  4Top 0.1%  University of Cambridge\\r\\n  Education: A+; Em...   \n",
       "4  5Top 0.1%  University of Oxford\\r\\n  Education: A+; Emplo...   \n",
       "\n",
       "        Location   National Rank Educational Rank Employability Rank  \\\n",
       "0             USA              1                1                  1   \n",
       "1             USA              2                4                 12   \n",
       "2             USA              3               11                  4   \n",
       "3  United Kingdom              1                3                 25   \n",
       "4  United Kingdom              2                7                 27   \n",
       "\n",
       "  Faculty Rank Research Rank  Score  \n",
       "0            1             1  100.0  \n",
       "1            3             9   96.7  \n",
       "2            2             2   95.2  \n",
       "3            5            11   94.1  \n",
       "4            9             4   93.3  "
      ]
     },
     "execution_count": 198,
     "metadata": {},
     "output_type": "execute_result"
    }
   ],
   "source": [
    "df_WRU.head()"
   ]
  },
  {
   "cell_type": "code",
   "execution_count": 199,
   "metadata": {},
   "outputs": [
    {
     "data": {
      "text/plain": [
       "World Rank            0\n",
       "University Names      0\n",
       "Location              0\n",
       "National Rank         0\n",
       "Educational Rank      0\n",
       "Employability Rank    0\n",
       "Faculty Rank          0\n",
       "Research Rank         0\n",
       "Score                 0\n",
       "dtype: int64"
      ]
     },
     "execution_count": 199,
     "metadata": {},
     "output_type": "execute_result"
    }
   ],
   "source": [
    "df_WRU.isnull().sum().sort_values(ascending = False)\n"
   ]
  },
  {
   "cell_type": "code",
   "execution_count": 200,
   "metadata": {},
   "outputs": [
    {
     "data": {
      "text/plain": [
       "Index(['World Rank', 'University Names', 'Location ', 'National Rank',\n",
       "       'Educational Rank', 'Employability Rank', 'Faculty Rank',\n",
       "       'Research Rank', 'Score'],\n",
       "      dtype='object')"
      ]
     },
     "execution_count": 200,
     "metadata": {},
     "output_type": "execute_result"
    }
   ],
   "source": [
    "df_WRU.columns"
   ]
  },
  {
   "cell_type": "code",
   "execution_count": 201,
   "metadata": {},
   "outputs": [
    {
     "data": {
      "text/plain": [
       "(Location \n",
       " USA                332\n",
       " China              314\n",
       " Japan              114\n",
       " United Kingdom      93\n",
       " France              76\n",
       "                   ... \n",
       " Uruguay              1\n",
       " Iceland              1\n",
       " Armenia              1\n",
       " Luxembourg           1\n",
       " North Macedonia      1\n",
       " Name: count, Length: 95, dtype: int64,\n",
       " National Rank\n",
       " 1      95\n",
       " 2      73\n",
       " 3      61\n",
       " 4      54\n",
       " 5      48\n",
       "        ..\n",
       " 318     1\n",
       " 317     1\n",
       " 316     1\n",
       " 315     1\n",
       " 332     1\n",
       " Name: count, Length: 332, dtype: int64)"
      ]
     },
     "execution_count": 201,
     "metadata": {},
     "output_type": "execute_result"
    }
   ],
   "source": [
    "df_WRU['Location '].value_counts(),df_WRU['National Rank'].value_counts()"
   ]
  },
  {
   "cell_type": "code",
   "execution_count": 202,
   "metadata": {},
   "outputs": [
    {
     "data": {
      "text/plain": [
       "(Educational Rank\n",
       " -      1562\n",
       " 1         1\n",
       " 440       1\n",
       " 165       1\n",
       " 370       1\n",
       "        ... \n",
       " 489       1\n",
       " 464       1\n",
       " 518       1\n",
       " 404       1\n",
       " 82        1\n",
       " Name: count, Length: 439, dtype: int64,\n",
       " Employability Rank\n",
       " -       967\n",
       " 1672      2\n",
       " 1631      2\n",
       " 1281      2\n",
       " 1642      2\n",
       "        ... \n",
       " 1313      1\n",
       " 989       1\n",
       " 770       1\n",
       " 1147      1\n",
       " 1322      1\n",
       " Name: count, Length: 1030, dtype: int64)"
      ]
     },
     "execution_count": 202,
     "metadata": {},
     "output_type": "execute_result"
    }
   ],
   "source": [
    "df_WRU['Educational Rank'].value_counts(),df_WRU['Employability Rank'].value_counts()"
   ]
  },
  {
   "cell_type": "code",
   "execution_count": 203,
   "metadata": {},
   "outputs": [
    {
     "data": {
      "text/plain": [
       "(Faculty Rank\n",
       " -      1727\n",
       " 107       3\n",
       " 273       2\n",
       " 190       2\n",
       " 148       2\n",
       "        ... \n",
       " 134       1\n",
       " 243       1\n",
       " 140       1\n",
       " 249       1\n",
       " 251       1\n",
       " Name: count, Length: 262, dtype: int64,\n",
       " Research Rank\n",
       " -       66\n",
       " 1277     1\n",
       " 1275     1\n",
       " 1273     1\n",
       " 1272     1\n",
       "         ..\n",
       " 617      1\n",
       " 616      1\n",
       " 620      1\n",
       " 615      1\n",
       " 1923     1\n",
       " Name: count, Length: 1935, dtype: int64)"
      ]
     },
     "execution_count": 203,
     "metadata": {},
     "output_type": "execute_result"
    }
   ],
   "source": [
    "df_WRU['Faculty Rank'].value_counts(), df_WRU['Research Rank'].value_counts()"
   ]
  },
  {
   "cell_type": "code",
   "execution_count": null,
   "metadata": {},
   "outputs": [],
   "source": []
  },
  {
   "cell_type": "code",
   "execution_count": 204,
   "metadata": {},
   "outputs": [
    {
     "data": {
      "text/plain": [
       "(2000, 9)"
      ]
     },
     "execution_count": 204,
     "metadata": {},
     "output_type": "execute_result"
    }
   ],
   "source": [
    "df_WRU.shape"
   ]
  },
  {
   "cell_type": "code",
   "execution_count": 205,
   "metadata": {},
   "outputs": [
    {
     "name": "stdout",
     "output_type": "stream",
     "text": [
      "<class 'pandas.core.frame.DataFrame'>\n",
      "RangeIndex: 2000 entries, 0 to 1999\n",
      "Data columns (total 9 columns):\n",
      " #   Column              Non-Null Count  Dtype  \n",
      "---  ------              --------------  -----  \n",
      " 0   World Rank          2000 non-null   object \n",
      " 1   University Names    2000 non-null   object \n",
      " 2   Location            2000 non-null   object \n",
      " 3   National Rank       2000 non-null   int64  \n",
      " 4   Educational Rank    2000 non-null   object \n",
      " 5   Employability Rank  2000 non-null   object \n",
      " 6   Faculty Rank        2000 non-null   object \n",
      " 7   Research Rank       2000 non-null   object \n",
      " 8   Score               2000 non-null   float64\n",
      "dtypes: float64(1), int64(1), object(7)\n",
      "memory usage: 140.8+ KB\n"
     ]
    }
   ],
   "source": [
    "df_WRU.info()"
   ]
  },
  {
   "cell_type": "code",
   "execution_count": 206,
   "metadata": {},
   "outputs": [
    {
     "data": {
      "text/plain": [
       "World Rank            0\n",
       "University Names      0\n",
       "Location              0\n",
       "National Rank         0\n",
       "Educational Rank      0\n",
       "Employability Rank    0\n",
       "Faculty Rank          0\n",
       "Research Rank         0\n",
       "Score                 0\n",
       "dtype: int64"
      ]
     },
     "execution_count": 206,
     "metadata": {},
     "output_type": "execute_result"
    }
   ],
   "source": [
    "df_WRU.isnull().sum().sort_values(ascending = False)\n"
   ]
  },
  {
   "cell_type": "markdown",
   "metadata": {},
   "source": [
    "### Data Quality Checks "
   ]
  },
  {
   "cell_type": "markdown",
   "metadata": {},
   "source": [
    "  ##### 1 -**Reliability**\n",
    "  ##### 2- **Timeliness**\n",
    "  ##### 3- **Consistency**"
   ]
  },
  {
   "cell_type": "markdown",
   "metadata": {},
   "source": [
    "##### 4- **Relevance**"
   ]
  },
  {
   "cell_type": "code",
   "execution_count": 207,
   "metadata": {},
   "outputs": [
    {
     "data": {
      "text/plain": [
       "Index(['World Rank', 'University Names', 'Location ', 'National Rank',\n",
       "       'Educational Rank', 'Employability Rank', 'Faculty Rank',\n",
       "       'Research Rank', 'Score'],\n",
       "      dtype='object')"
      ]
     },
     "execution_count": 207,
     "metadata": {},
     "output_type": "execute_result"
    }
   ],
   "source": [
    "df_WRU.columns"
   ]
  },
  {
   "cell_type": "code",
   "execution_count": 208,
   "metadata": {},
   "outputs": [
    {
     "data": {
      "text/html": [
       "<div>\n",
       "<style scoped>\n",
       "    .dataframe tbody tr th:only-of-type {\n",
       "        vertical-align: middle;\n",
       "    }\n",
       "\n",
       "    .dataframe tbody tr th {\n",
       "        vertical-align: top;\n",
       "    }\n",
       "\n",
       "    .dataframe thead th {\n",
       "        text-align: right;\n",
       "    }\n",
       "</style>\n",
       "<table border=\"1\" class=\"dataframe\">\n",
       "  <thead>\n",
       "    <tr style=\"text-align: right;\">\n",
       "      <th></th>\n",
       "      <th>World Rank</th>\n",
       "      <th>University Names</th>\n",
       "      <th>Location</th>\n",
       "      <th>National Rank</th>\n",
       "      <th>Educational Rank</th>\n",
       "      <th>Employability Rank</th>\n",
       "      <th>Faculty Rank</th>\n",
       "      <th>Research Rank</th>\n",
       "      <th>Score</th>\n",
       "    </tr>\n",
       "  </thead>\n",
       "  <tbody>\n",
       "    <tr>\n",
       "      <th>0</th>\n",
       "      <td>1Top 0.1%</td>\n",
       "      <td>Harvard University\\r\\n  CWUR Rating System:   ...</td>\n",
       "      <td>USA</td>\n",
       "      <td>1</td>\n",
       "      <td>1</td>\n",
       "      <td>1</td>\n",
       "      <td>1</td>\n",
       "      <td>1</td>\n",
       "      <td>100.0</td>\n",
       "    </tr>\n",
       "    <tr>\n",
       "      <th>1</th>\n",
       "      <td>2Top 0.1%</td>\n",
       "      <td>Massachusetts Institute of Technology\\r\\n  Edu...</td>\n",
       "      <td>USA</td>\n",
       "      <td>2</td>\n",
       "      <td>4</td>\n",
       "      <td>12</td>\n",
       "      <td>3</td>\n",
       "      <td>9</td>\n",
       "      <td>96.7</td>\n",
       "    </tr>\n",
       "    <tr>\n",
       "      <th>2</th>\n",
       "      <td>3Top 0.1%</td>\n",
       "      <td>Stanford University\\r\\n  Education: A+; Employ...</td>\n",
       "      <td>USA</td>\n",
       "      <td>3</td>\n",
       "      <td>11</td>\n",
       "      <td>4</td>\n",
       "      <td>2</td>\n",
       "      <td>2</td>\n",
       "      <td>95.2</td>\n",
       "    </tr>\n",
       "    <tr>\n",
       "      <th>3</th>\n",
       "      <td>4Top 0.1%</td>\n",
       "      <td>University of Cambridge\\r\\n  Education: A+; Em...</td>\n",
       "      <td>United Kingdom</td>\n",
       "      <td>1</td>\n",
       "      <td>3</td>\n",
       "      <td>25</td>\n",
       "      <td>5</td>\n",
       "      <td>11</td>\n",
       "      <td>94.1</td>\n",
       "    </tr>\n",
       "    <tr>\n",
       "      <th>4</th>\n",
       "      <td>5Top 0.1%</td>\n",
       "      <td>University of Oxford\\r\\n  Education: A+; Emplo...</td>\n",
       "      <td>United Kingdom</td>\n",
       "      <td>2</td>\n",
       "      <td>7</td>\n",
       "      <td>27</td>\n",
       "      <td>9</td>\n",
       "      <td>4</td>\n",
       "      <td>93.3</td>\n",
       "    </tr>\n",
       "    <tr>\n",
       "      <th>...</th>\n",
       "      <td>...</td>\n",
       "      <td>...</td>\n",
       "      <td>...</td>\n",
       "      <td>...</td>\n",
       "      <td>...</td>\n",
       "      <td>...</td>\n",
       "      <td>...</td>\n",
       "      <td>...</td>\n",
       "      <td>...</td>\n",
       "    </tr>\n",
       "    <tr>\n",
       "      <th>1995</th>\n",
       "      <td>1996Top 9.8%</td>\n",
       "      <td>Chongqing Jiaotong University</td>\n",
       "      <td>China</td>\n",
       "      <td>314</td>\n",
       "      <td>-</td>\n",
       "      <td>-</td>\n",
       "      <td>-</td>\n",
       "      <td>1917</td>\n",
       "      <td>66.0</td>\n",
       "    </tr>\n",
       "    <tr>\n",
       "      <th>1996</th>\n",
       "      <td>1997Top 9.8%</td>\n",
       "      <td>University of Arkansas at Little Rock</td>\n",
       "      <td>USA</td>\n",
       "      <td>332</td>\n",
       "      <td>-</td>\n",
       "      <td>1322</td>\n",
       "      <td>-</td>\n",
       "      <td>1920</td>\n",
       "      <td>66.0</td>\n",
       "    </tr>\n",
       "    <tr>\n",
       "      <th>1997</th>\n",
       "      <td>1998Top 9.8%</td>\n",
       "      <td>Van Yüzüncü Yıl University</td>\n",
       "      <td>Turkey</td>\n",
       "      <td>54</td>\n",
       "      <td>-</td>\n",
       "      <td>-</td>\n",
       "      <td>-</td>\n",
       "      <td>1919</td>\n",
       "      <td>66.0</td>\n",
       "    </tr>\n",
       "    <tr>\n",
       "      <th>1998</th>\n",
       "      <td>1999Top 9.8%</td>\n",
       "      <td>Bharathidasan University</td>\n",
       "      <td>India</td>\n",
       "      <td>64</td>\n",
       "      <td>-</td>\n",
       "      <td>-</td>\n",
       "      <td>-</td>\n",
       "      <td>1922</td>\n",
       "      <td>66.0</td>\n",
       "    </tr>\n",
       "    <tr>\n",
       "      <th>1999</th>\n",
       "      <td>2000Top 9.8%</td>\n",
       "      <td>Gebze Technical University</td>\n",
       "      <td>Turkey</td>\n",
       "      <td>55</td>\n",
       "      <td>-</td>\n",
       "      <td>-</td>\n",
       "      <td>-</td>\n",
       "      <td>1923</td>\n",
       "      <td>66.0</td>\n",
       "    </tr>\n",
       "  </tbody>\n",
       "</table>\n",
       "<p>2000 rows × 9 columns</p>\n",
       "</div>"
      ],
      "text/plain": [
       "        World Rank                                   University Names  \\\n",
       "0        1Top 0.1%  Harvard University\\r\\n  CWUR Rating System:   ...   \n",
       "1        2Top 0.1%  Massachusetts Institute of Technology\\r\\n  Edu...   \n",
       "2        3Top 0.1%  Stanford University\\r\\n  Education: A+; Employ...   \n",
       "3        4Top 0.1%  University of Cambridge\\r\\n  Education: A+; Em...   \n",
       "4        5Top 0.1%  University of Oxford\\r\\n  Education: A+; Emplo...   \n",
       "...            ...                                                ...   \n",
       "1995  1996Top 9.8%                      Chongqing Jiaotong University   \n",
       "1996  1997Top 9.8%              University of Arkansas at Little Rock   \n",
       "1997  1998Top 9.8%                         Van Yüzüncü Yıl University   \n",
       "1998  1999Top 9.8%                           Bharathidasan University   \n",
       "1999  2000Top 9.8%                         Gebze Technical University   \n",
       "\n",
       "           Location   National Rank Educational Rank Employability Rank  \\\n",
       "0                USA              1                1                  1   \n",
       "1                USA              2                4                 12   \n",
       "2                USA              3               11                  4   \n",
       "3     United Kingdom              1                3                 25   \n",
       "4     United Kingdom              2                7                 27   \n",
       "...              ...            ...              ...                ...   \n",
       "1995           China            314                -                  -   \n",
       "1996             USA            332                -               1322   \n",
       "1997          Turkey             54                -                  -   \n",
       "1998           India             64                -                  -   \n",
       "1999          Turkey             55                -                  -   \n",
       "\n",
       "     Faculty Rank Research Rank  Score  \n",
       "0               1             1  100.0  \n",
       "1               3             9   96.7  \n",
       "2               2             2   95.2  \n",
       "3               5            11   94.1  \n",
       "4               9             4   93.3  \n",
       "...           ...           ...    ...  \n",
       "1995            -          1917   66.0  \n",
       "1996            -          1920   66.0  \n",
       "1997            -          1919   66.0  \n",
       "1998            -          1922   66.0  \n",
       "1999            -          1923   66.0  \n",
       "\n",
       "[2000 rows x 9 columns]"
      ]
     },
     "execution_count": 208,
     "metadata": {},
     "output_type": "execute_result"
    }
   ],
   "source": [
    "df_WRU"
   ]
  },
  {
   "cell_type": "code",
   "execution_count": 209,
   "metadata": {},
   "outputs": [
    {
     "data": {
      "text/plain": [
       "Index(['World Rank', 'University Names', 'Location ', 'National Rank',\n",
       "       'Educational Rank', 'Employability Rank', 'Faculty Rank',\n",
       "       'Research Rank', 'Score'],\n",
       "      dtype='object')"
      ]
     },
     "execution_count": 209,
     "metadata": {},
     "output_type": "execute_result"
    }
   ],
   "source": [
    "df_WRU.columns"
   ]
  },
  {
   "cell_type": "code",
   "execution_count": 210,
   "metadata": {},
   "outputs": [],
   "source": [
    "#Delete unrelevent columns ['Educational Rank', 'Employability Rank', 'Faculty Rank']\n",
    "\"\"\"df_WRU.drop(['Educational Rank'],axis=1,inplace=True)\n",
    "df_WRU.drop(['Employability Rank'],axis=1,inplace=True)\n",
    "df_WRU.drop(['Faculty Rank'],axis=1,inplace=True)\"\"\"\n",
    "\n",
    "\n",
    "df_WRU_Relevent = df_WRU[['World Rank', 'University Names', 'Location ', 'National Rank', 'Research Rank', 'Score']]"
   ]
  },
  {
   "cell_type": "code",
   "execution_count": 211,
   "metadata": {},
   "outputs": [],
   "source": [
    "# Rename the columns to remove the space in \"Location \".\n",
    "\n",
    "df_WRU_Relevent.columns = ['World Rank', 'University Names', 'Location', 'National Rank', 'Research Rank', 'Score']"
   ]
  },
  {
   "cell_type": "code",
   "execution_count": 212,
   "metadata": {},
   "outputs": [
    {
     "data": {
      "text/html": [
       "<div>\n",
       "<style scoped>\n",
       "    .dataframe tbody tr th:only-of-type {\n",
       "        vertical-align: middle;\n",
       "    }\n",
       "\n",
       "    .dataframe tbody tr th {\n",
       "        vertical-align: top;\n",
       "    }\n",
       "\n",
       "    .dataframe thead th {\n",
       "        text-align: right;\n",
       "    }\n",
       "</style>\n",
       "<table border=\"1\" class=\"dataframe\">\n",
       "  <thead>\n",
       "    <tr style=\"text-align: right;\">\n",
       "      <th></th>\n",
       "      <th>World Rank</th>\n",
       "      <th>University Names</th>\n",
       "      <th>Location</th>\n",
       "      <th>National Rank</th>\n",
       "      <th>Research Rank</th>\n",
       "      <th>Score</th>\n",
       "    </tr>\n",
       "  </thead>\n",
       "  <tbody>\n",
       "    <tr>\n",
       "      <th>0</th>\n",
       "      <td>1Top 0.1%</td>\n",
       "      <td>Harvard University\\r\\n  CWUR Rating System:   ...</td>\n",
       "      <td>USA</td>\n",
       "      <td>1</td>\n",
       "      <td>1</td>\n",
       "      <td>100.0</td>\n",
       "    </tr>\n",
       "    <tr>\n",
       "      <th>1</th>\n",
       "      <td>2Top 0.1%</td>\n",
       "      <td>Massachusetts Institute of Technology\\r\\n  Edu...</td>\n",
       "      <td>USA</td>\n",
       "      <td>2</td>\n",
       "      <td>9</td>\n",
       "      <td>96.7</td>\n",
       "    </tr>\n",
       "    <tr>\n",
       "      <th>2</th>\n",
       "      <td>3Top 0.1%</td>\n",
       "      <td>Stanford University\\r\\n  Education: A+; Employ...</td>\n",
       "      <td>USA</td>\n",
       "      <td>3</td>\n",
       "      <td>2</td>\n",
       "      <td>95.2</td>\n",
       "    </tr>\n",
       "    <tr>\n",
       "      <th>3</th>\n",
       "      <td>4Top 0.1%</td>\n",
       "      <td>University of Cambridge\\r\\n  Education: A+; Em...</td>\n",
       "      <td>United Kingdom</td>\n",
       "      <td>1</td>\n",
       "      <td>11</td>\n",
       "      <td>94.1</td>\n",
       "    </tr>\n",
       "    <tr>\n",
       "      <th>4</th>\n",
       "      <td>5Top 0.1%</td>\n",
       "      <td>University of Oxford\\r\\n  Education: A+; Emplo...</td>\n",
       "      <td>United Kingdom</td>\n",
       "      <td>2</td>\n",
       "      <td>4</td>\n",
       "      <td>93.3</td>\n",
       "    </tr>\n",
       "    <tr>\n",
       "      <th>...</th>\n",
       "      <td>...</td>\n",
       "      <td>...</td>\n",
       "      <td>...</td>\n",
       "      <td>...</td>\n",
       "      <td>...</td>\n",
       "      <td>...</td>\n",
       "    </tr>\n",
       "    <tr>\n",
       "      <th>1995</th>\n",
       "      <td>1996Top 9.8%</td>\n",
       "      <td>Chongqing Jiaotong University</td>\n",
       "      <td>China</td>\n",
       "      <td>314</td>\n",
       "      <td>1917</td>\n",
       "      <td>66.0</td>\n",
       "    </tr>\n",
       "    <tr>\n",
       "      <th>1996</th>\n",
       "      <td>1997Top 9.8%</td>\n",
       "      <td>University of Arkansas at Little Rock</td>\n",
       "      <td>USA</td>\n",
       "      <td>332</td>\n",
       "      <td>1920</td>\n",
       "      <td>66.0</td>\n",
       "    </tr>\n",
       "    <tr>\n",
       "      <th>1997</th>\n",
       "      <td>1998Top 9.8%</td>\n",
       "      <td>Van Yüzüncü Yıl University</td>\n",
       "      <td>Turkey</td>\n",
       "      <td>54</td>\n",
       "      <td>1919</td>\n",
       "      <td>66.0</td>\n",
       "    </tr>\n",
       "    <tr>\n",
       "      <th>1998</th>\n",
       "      <td>1999Top 9.8%</td>\n",
       "      <td>Bharathidasan University</td>\n",
       "      <td>India</td>\n",
       "      <td>64</td>\n",
       "      <td>1922</td>\n",
       "      <td>66.0</td>\n",
       "    </tr>\n",
       "    <tr>\n",
       "      <th>1999</th>\n",
       "      <td>2000Top 9.8%</td>\n",
       "      <td>Gebze Technical University</td>\n",
       "      <td>Turkey</td>\n",
       "      <td>55</td>\n",
       "      <td>1923</td>\n",
       "      <td>66.0</td>\n",
       "    </tr>\n",
       "  </tbody>\n",
       "</table>\n",
       "<p>2000 rows × 6 columns</p>\n",
       "</div>"
      ],
      "text/plain": [
       "        World Rank                                   University Names  \\\n",
       "0        1Top 0.1%  Harvard University\\r\\n  CWUR Rating System:   ...   \n",
       "1        2Top 0.1%  Massachusetts Institute of Technology\\r\\n  Edu...   \n",
       "2        3Top 0.1%  Stanford University\\r\\n  Education: A+; Employ...   \n",
       "3        4Top 0.1%  University of Cambridge\\r\\n  Education: A+; Em...   \n",
       "4        5Top 0.1%  University of Oxford\\r\\n  Education: A+; Emplo...   \n",
       "...            ...                                                ...   \n",
       "1995  1996Top 9.8%                      Chongqing Jiaotong University   \n",
       "1996  1997Top 9.8%              University of Arkansas at Little Rock   \n",
       "1997  1998Top 9.8%                         Van Yüzüncü Yıl University   \n",
       "1998  1999Top 9.8%                           Bharathidasan University   \n",
       "1999  2000Top 9.8%                         Gebze Technical University   \n",
       "\n",
       "            Location  National Rank Research Rank  Score  \n",
       "0                USA              1             1  100.0  \n",
       "1                USA              2             9   96.7  \n",
       "2                USA              3             2   95.2  \n",
       "3     United Kingdom              1            11   94.1  \n",
       "4     United Kingdom              2             4   93.3  \n",
       "...              ...            ...           ...    ...  \n",
       "1995           China            314          1917   66.0  \n",
       "1996             USA            332          1920   66.0  \n",
       "1997          Turkey             54          1919   66.0  \n",
       "1998           India             64          1922   66.0  \n",
       "1999          Turkey             55          1923   66.0  \n",
       "\n",
       "[2000 rows x 6 columns]"
      ]
     },
     "execution_count": 212,
     "metadata": {},
     "output_type": "execute_result"
    }
   ],
   "source": [
    "df_WRU_Relevent"
   ]
  },
  {
   "cell_type": "code",
   "execution_count": 213,
   "metadata": {},
   "outputs": [
    {
     "data": {
      "text/html": [
       "<div>\n",
       "<style scoped>\n",
       "    .dataframe tbody tr th:only-of-type {\n",
       "        vertical-align: middle;\n",
       "    }\n",
       "\n",
       "    .dataframe tbody tr th {\n",
       "        vertical-align: top;\n",
       "    }\n",
       "\n",
       "    .dataframe thead th {\n",
       "        text-align: right;\n",
       "    }\n",
       "</style>\n",
       "<table border=\"1\" class=\"dataframe\">\n",
       "  <thead>\n",
       "    <tr style=\"text-align: right;\">\n",
       "      <th></th>\n",
       "      <th>World Rank</th>\n",
       "      <th>University Names</th>\n",
       "      <th>Location</th>\n",
       "      <th>National Rank</th>\n",
       "      <th>Research Rank</th>\n",
       "      <th>Score</th>\n",
       "    </tr>\n",
       "  </thead>\n",
       "  <tbody>\n",
       "    <tr>\n",
       "      <th>0</th>\n",
       "      <td>1Top 0.1%</td>\n",
       "      <td>Harvard University\\r\\n  CWUR Rating System:   ...</td>\n",
       "      <td>USA</td>\n",
       "      <td>1</td>\n",
       "      <td>1</td>\n",
       "      <td>100.0</td>\n",
       "    </tr>\n",
       "    <tr>\n",
       "      <th>1</th>\n",
       "      <td>2Top 0.1%</td>\n",
       "      <td>Massachusetts Institute of Technology\\r\\n  Edu...</td>\n",
       "      <td>USA</td>\n",
       "      <td>2</td>\n",
       "      <td>9</td>\n",
       "      <td>96.7</td>\n",
       "    </tr>\n",
       "    <tr>\n",
       "      <th>2</th>\n",
       "      <td>3Top 0.1%</td>\n",
       "      <td>Stanford University\\r\\n  Education: A+; Employ...</td>\n",
       "      <td>USA</td>\n",
       "      <td>3</td>\n",
       "      <td>2</td>\n",
       "      <td>95.2</td>\n",
       "    </tr>\n",
       "    <tr>\n",
       "      <th>3</th>\n",
       "      <td>4Top 0.1%</td>\n",
       "      <td>University of Cambridge\\r\\n  Education: A+; Em...</td>\n",
       "      <td>United Kingdom</td>\n",
       "      <td>1</td>\n",
       "      <td>11</td>\n",
       "      <td>94.1</td>\n",
       "    </tr>\n",
       "    <tr>\n",
       "      <th>4</th>\n",
       "      <td>5Top 0.1%</td>\n",
       "      <td>University of Oxford\\r\\n  Education: A+; Emplo...</td>\n",
       "      <td>United Kingdom</td>\n",
       "      <td>2</td>\n",
       "      <td>4</td>\n",
       "      <td>93.3</td>\n",
       "    </tr>\n",
       "  </tbody>\n",
       "</table>\n",
       "</div>"
      ],
      "text/plain": [
       "  World Rank                                   University Names  \\\n",
       "0  1Top 0.1%  Harvard University\\r\\n  CWUR Rating System:   ...   \n",
       "1  2Top 0.1%  Massachusetts Institute of Technology\\r\\n  Edu...   \n",
       "2  3Top 0.1%  Stanford University\\r\\n  Education: A+; Employ...   \n",
       "3  4Top 0.1%  University of Cambridge\\r\\n  Education: A+; Em...   \n",
       "4  5Top 0.1%  University of Oxford\\r\\n  Education: A+; Emplo...   \n",
       "\n",
       "         Location  National Rank Research Rank  Score  \n",
       "0             USA              1             1  100.0  \n",
       "1             USA              2             9   96.7  \n",
       "2             USA              3             2   95.2  \n",
       "3  United Kingdom              1            11   94.1  \n",
       "4  United Kingdom              2             4   93.3  "
      ]
     },
     "execution_count": 213,
     "metadata": {},
     "output_type": "execute_result"
    }
   ],
   "source": [
    "df_WRU_Relevent.head()"
   ]
  },
  {
   "cell_type": "markdown",
   "metadata": {},
   "source": [
    "##### 5- **Uniqueness**"
   ]
  },
  {
   "cell_type": "code",
   "execution_count": 214,
   "metadata": {},
   "outputs": [
    {
     "data": {
      "text/plain": [
       "0"
      ]
     },
     "execution_count": 214,
     "metadata": {},
     "output_type": "execute_result"
    }
   ],
   "source": [
    "df_WRU_Relevent.duplicated().sum()"
   ]
  },
  {
   "cell_type": "markdown",
   "metadata": {},
   "source": [
    "##### 6- **Completeness**"
   ]
  },
  {
   "cell_type": "code",
   "execution_count": 215,
   "metadata": {},
   "outputs": [
    {
     "data": {
      "text/plain": [
       "World Rank          0\n",
       "University Names    0\n",
       "Location            0\n",
       "National Rank       0\n",
       "Research Rank       0\n",
       "Score               0\n",
       "dtype: int64"
      ]
     },
     "execution_count": 215,
     "metadata": {},
     "output_type": "execute_result"
    }
   ],
   "source": [
    "df_WRU_Relevent.isnull().sum().sort_values(ascending = False)\n"
   ]
  },
  {
   "cell_type": "markdown",
   "metadata": {},
   "source": [
    "##### 7- **Check Accuracy**"
   ]
  },
  {
   "cell_type": "code",
   "execution_count": 216,
   "metadata": {},
   "outputs": [
    {
     "data": {
      "text/html": [
       "<div>\n",
       "<style scoped>\n",
       "    .dataframe tbody tr th:only-of-type {\n",
       "        vertical-align: middle;\n",
       "    }\n",
       "\n",
       "    .dataframe tbody tr th {\n",
       "        vertical-align: top;\n",
       "    }\n",
       "\n",
       "    .dataframe thead th {\n",
       "        text-align: right;\n",
       "    }\n",
       "</style>\n",
       "<table border=\"1\" class=\"dataframe\">\n",
       "  <thead>\n",
       "    <tr style=\"text-align: right;\">\n",
       "      <th></th>\n",
       "      <th>World Rank</th>\n",
       "      <th>University Names</th>\n",
       "      <th>Location</th>\n",
       "      <th>National Rank</th>\n",
       "      <th>Research Rank</th>\n",
       "      <th>Score</th>\n",
       "    </tr>\n",
       "  </thead>\n",
       "  <tbody>\n",
       "    <tr>\n",
       "      <th>0</th>\n",
       "      <td>1Top 0.1%</td>\n",
       "      <td>Harvard University\\r\\n  CWUR Rating System:   ...</td>\n",
       "      <td>USA</td>\n",
       "      <td>1</td>\n",
       "      <td>1</td>\n",
       "      <td>100.0</td>\n",
       "    </tr>\n",
       "    <tr>\n",
       "      <th>1</th>\n",
       "      <td>2Top 0.1%</td>\n",
       "      <td>Massachusetts Institute of Technology\\r\\n  Edu...</td>\n",
       "      <td>USA</td>\n",
       "      <td>2</td>\n",
       "      <td>9</td>\n",
       "      <td>96.7</td>\n",
       "    </tr>\n",
       "    <tr>\n",
       "      <th>2</th>\n",
       "      <td>3Top 0.1%</td>\n",
       "      <td>Stanford University\\r\\n  Education: A+; Employ...</td>\n",
       "      <td>USA</td>\n",
       "      <td>3</td>\n",
       "      <td>2</td>\n",
       "      <td>95.2</td>\n",
       "    </tr>\n",
       "    <tr>\n",
       "      <th>3</th>\n",
       "      <td>4Top 0.1%</td>\n",
       "      <td>University of Cambridge\\r\\n  Education: A+; Em...</td>\n",
       "      <td>United Kingdom</td>\n",
       "      <td>1</td>\n",
       "      <td>11</td>\n",
       "      <td>94.1</td>\n",
       "    </tr>\n",
       "    <tr>\n",
       "      <th>4</th>\n",
       "      <td>5Top 0.1%</td>\n",
       "      <td>University of Oxford\\r\\n  Education: A+; Emplo...</td>\n",
       "      <td>United Kingdom</td>\n",
       "      <td>2</td>\n",
       "      <td>4</td>\n",
       "      <td>93.3</td>\n",
       "    </tr>\n",
       "  </tbody>\n",
       "</table>\n",
       "</div>"
      ],
      "text/plain": [
       "  World Rank                                   University Names  \\\n",
       "0  1Top 0.1%  Harvard University\\r\\n  CWUR Rating System:   ...   \n",
       "1  2Top 0.1%  Massachusetts Institute of Technology\\r\\n  Edu...   \n",
       "2  3Top 0.1%  Stanford University\\r\\n  Education: A+; Employ...   \n",
       "3  4Top 0.1%  University of Cambridge\\r\\n  Education: A+; Em...   \n",
       "4  5Top 0.1%  University of Oxford\\r\\n  Education: A+; Emplo...   \n",
       "\n",
       "         Location  National Rank Research Rank  Score  \n",
       "0             USA              1             1  100.0  \n",
       "1             USA              2             9   96.7  \n",
       "2             USA              3             2   95.2  \n",
       "3  United Kingdom              1            11   94.1  \n",
       "4  United Kingdom              2             4   93.3  "
      ]
     },
     "execution_count": 216,
     "metadata": {},
     "output_type": "execute_result"
    }
   ],
   "source": [
    "df_WRU_Relevent.head()"
   ]
  },
  {
   "cell_type": "code",
   "execution_count": 217,
   "metadata": {},
   "outputs": [
    {
     "data": {
      "text/plain": [
       "World Rank           object\n",
       "University Names     object\n",
       "Location             object\n",
       "National Rank         int64\n",
       "Research Rank        object\n",
       "Score               float64\n",
       "dtype: object"
      ]
     },
     "execution_count": 217,
     "metadata": {},
     "output_type": "execute_result"
    }
   ],
   "source": [
    "# check columns types \n",
    "df_WRU_Relevent.dtypes"
   ]
  },
  {
   "cell_type": "code",
   "execution_count": 218,
   "metadata": {},
   "outputs": [
    {
     "name": "stdout",
     "output_type": "stream",
     "text": [
      "World Rank            int64\n",
      "University Names     object\n",
      "Location             object\n",
      "National Rank         int64\n",
      "Research Rank        object\n",
      "Score               float64\n",
      "dtype: object\n"
     ]
    },
    {
     "name": "stderr",
     "output_type": "stream",
     "text": [
      "C:\\Users\\alsau\\AppData\\Local\\Temp\\ipykernel_33712\\3836171614.py:2: SettingWithCopyWarning: \n",
      "A value is trying to be set on a copy of a slice from a DataFrame.\n",
      "Try using .loc[row_indexer,col_indexer] = value instead\n",
      "\n",
      "See the caveats in the documentation: https://pandas.pydata.org/pandas-docs/stable/user_guide/indexing.html#returning-a-view-versus-a-copy\n",
      "  df_WRU_Relevent['World Rank'] = df_WRU_Relevent['World Rank'].apply(lambda x: int(x.split('T')[0]))\n"
     ]
    }
   ],
   "source": [
    "# Clean the \"World Rank\" column and convert to int using apply and lambda\n",
    "df_WRU_Relevent['World Rank'] = df_WRU_Relevent['World Rank'].apply(lambda x: int(x.split('T')[0]))\n",
    "\n",
    "print(df_WRU_Relevent.dtypes)"
   ]
  },
  {
   "cell_type": "code",
   "execution_count": 219,
   "metadata": {},
   "outputs": [
    {
     "name": "stderr",
     "output_type": "stream",
     "text": [
      "C:\\Users\\alsau\\AppData\\Local\\Temp\\ipykernel_33712\\3449342601.py:1: SettingWithCopyWarning: \n",
      "A value is trying to be set on a copy of a slice from a DataFrame.\n",
      "Try using .loc[row_indexer,col_indexer] = value instead\n",
      "\n",
      "See the caveats in the documentation: https://pandas.pydata.org/pandas-docs/stable/user_guide/indexing.html#returning-a-view-versus-a-copy\n",
      "  df_WRU_Relevent['Research Rank'] = df_WRU_Relevent['Research Rank'].replace('-', 2000)\n"
     ]
    }
   ],
   "source": [
    "df_WRU_Relevent['Research Rank'] = df_WRU_Relevent['Research Rank'].replace('-', 2000)\n"
   ]
  },
  {
   "cell_type": "code",
   "execution_count": 220,
   "metadata": {},
   "outputs": [
    {
     "data": {
      "text/plain": [
       "Research Rank\n",
       "2000    66\n",
       "1277     1\n",
       "1275     1\n",
       "1273     1\n",
       "1272     1\n",
       "        ..\n",
       "617      1\n",
       "616      1\n",
       "620      1\n",
       "615      1\n",
       "1923     1\n",
       "Name: count, Length: 1935, dtype: int64"
      ]
     },
     "execution_count": 220,
     "metadata": {},
     "output_type": "execute_result"
    }
   ],
   "source": [
    "df_WRU_Relevent['Research Rank'].value_counts()"
   ]
  },
  {
   "cell_type": "code",
   "execution_count": 221,
   "metadata": {},
   "outputs": [
    {
     "name": "stderr",
     "output_type": "stream",
     "text": [
      "C:\\Users\\alsau\\AppData\\Local\\Temp\\ipykernel_33712\\737376058.py:1: SettingWithCopyWarning: \n",
      "A value is trying to be set on a copy of a slice from a DataFrame.\n",
      "Try using .loc[row_indexer,col_indexer] = value instead\n",
      "\n",
      "See the caveats in the documentation: https://pandas.pydata.org/pandas-docs/stable/user_guide/indexing.html#returning-a-view-versus-a-copy\n",
      "  df_WRU_Relevent['Research Rank'] = df_WRU_Relevent['Research Rank'].apply(lambda x: int(x))\n"
     ]
    }
   ],
   "source": [
    "df_WRU_Relevent['Research Rank'] = df_WRU_Relevent['Research Rank'].apply(lambda x: int(x))\n"
   ]
  },
  {
   "cell_type": "code",
   "execution_count": 222,
   "metadata": {},
   "outputs": [
    {
     "data": {
      "text/plain": [
       "(2000, 1)"
      ]
     },
     "execution_count": 222,
     "metadata": {},
     "output_type": "execute_result"
    }
   ],
   "source": [
    "df_WRU_Relevent['Research Rank'].max(), df_WRU_Relevent['Research Rank'].min()"
   ]
  },
  {
   "cell_type": "code",
   "execution_count": 223,
   "metadata": {},
   "outputs": [
    {
     "data": {
      "text/plain": [
       "World Rank            int64\n",
       "University Names     object\n",
       "Location             object\n",
       "National Rank         int64\n",
       "Research Rank         int64\n",
       "Score               float64\n",
       "dtype: object"
      ]
     },
     "execution_count": 223,
     "metadata": {},
     "output_type": "execute_result"
    }
   ],
   "source": [
    "df_WRU_Relevent.dtypes"
   ]
  },
  {
   "cell_type": "code",
   "execution_count": 224,
   "metadata": {},
   "outputs": [
    {
     "data": {
      "text/html": [
       "<div>\n",
       "<style scoped>\n",
       "    .dataframe tbody tr th:only-of-type {\n",
       "        vertical-align: middle;\n",
       "    }\n",
       "\n",
       "    .dataframe tbody tr th {\n",
       "        vertical-align: top;\n",
       "    }\n",
       "\n",
       "    .dataframe thead th {\n",
       "        text-align: right;\n",
       "    }\n",
       "</style>\n",
       "<table border=\"1\" class=\"dataframe\">\n",
       "  <thead>\n",
       "    <tr style=\"text-align: right;\">\n",
       "      <th></th>\n",
       "      <th>World Rank</th>\n",
       "      <th>University Names</th>\n",
       "      <th>Location</th>\n",
       "      <th>National Rank</th>\n",
       "      <th>Research Rank</th>\n",
       "      <th>Score</th>\n",
       "    </tr>\n",
       "  </thead>\n",
       "  <tbody>\n",
       "    <tr>\n",
       "      <th>0</th>\n",
       "      <td>1</td>\n",
       "      <td>Harvard University\\r\\n  CWUR Rating System:   ...</td>\n",
       "      <td>USA</td>\n",
       "      <td>1</td>\n",
       "      <td>1</td>\n",
       "      <td>100.0</td>\n",
       "    </tr>\n",
       "    <tr>\n",
       "      <th>1</th>\n",
       "      <td>2</td>\n",
       "      <td>Massachusetts Institute of Technology\\r\\n  Edu...</td>\n",
       "      <td>USA</td>\n",
       "      <td>2</td>\n",
       "      <td>9</td>\n",
       "      <td>96.7</td>\n",
       "    </tr>\n",
       "    <tr>\n",
       "      <th>2</th>\n",
       "      <td>3</td>\n",
       "      <td>Stanford University\\r\\n  Education: A+; Employ...</td>\n",
       "      <td>USA</td>\n",
       "      <td>3</td>\n",
       "      <td>2</td>\n",
       "      <td>95.2</td>\n",
       "    </tr>\n",
       "    <tr>\n",
       "      <th>3</th>\n",
       "      <td>4</td>\n",
       "      <td>University of Cambridge\\r\\n  Education: A+; Em...</td>\n",
       "      <td>United Kingdom</td>\n",
       "      <td>1</td>\n",
       "      <td>11</td>\n",
       "      <td>94.1</td>\n",
       "    </tr>\n",
       "    <tr>\n",
       "      <th>4</th>\n",
       "      <td>5</td>\n",
       "      <td>University of Oxford\\r\\n  Education: A+; Emplo...</td>\n",
       "      <td>United Kingdom</td>\n",
       "      <td>2</td>\n",
       "      <td>4</td>\n",
       "      <td>93.3</td>\n",
       "    </tr>\n",
       "  </tbody>\n",
       "</table>\n",
       "</div>"
      ],
      "text/plain": [
       "   World Rank                                   University Names  \\\n",
       "0           1  Harvard University\\r\\n  CWUR Rating System:   ...   \n",
       "1           2  Massachusetts Institute of Technology\\r\\n  Edu...   \n",
       "2           3  Stanford University\\r\\n  Education: A+; Employ...   \n",
       "3           4  University of Cambridge\\r\\n  Education: A+; Em...   \n",
       "4           5  University of Oxford\\r\\n  Education: A+; Emplo...   \n",
       "\n",
       "         Location  National Rank  Research Rank  Score  \n",
       "0             USA              1              1  100.0  \n",
       "1             USA              2              9   96.7  \n",
       "2             USA              3              2   95.2  \n",
       "3  United Kingdom              1             11   94.1  \n",
       "4  United Kingdom              2              4   93.3  "
      ]
     },
     "execution_count": 224,
     "metadata": {},
     "output_type": "execute_result"
    }
   ],
   "source": [
    "df_WRU_Relevent.head()"
   ]
  },
  {
   "cell_type": "markdown",
   "metadata": {},
   "source": [
    "### Cleaning"
   ]
  },
  {
   "cell_type": "code",
   "execution_count": 225,
   "metadata": {},
   "outputs": [
    {
     "name": "stderr",
     "output_type": "stream",
     "text": [
      "C:\\Users\\alsau\\AppData\\Local\\Temp\\ipykernel_33712\\891938687.py:1: SettingWithCopyWarning: \n",
      "A value is trying to be set on a copy of a slice from a DataFrame.\n",
      "Try using .loc[row_indexer,col_indexer] = value instead\n",
      "\n",
      "See the caveats in the documentation: https://pandas.pydata.org/pandas-docs/stable/user_guide/indexing.html#returning-a-view-versus-a-copy\n",
      "  df_WRU_Relevent['University Names'] = df_WRU_Relevent['University Names'].apply(lambda x: x.split('\\n')[0])\n"
     ]
    }
   ],
   "source": [
    "df_WRU_Relevent['University Names'] = df_WRU_Relevent['University Names'].apply(lambda x: x.split('\\n')[0])"
   ]
  },
  {
   "cell_type": "code",
   "execution_count": 226,
   "metadata": {},
   "outputs": [
    {
     "data": {
      "text/html": [
       "<div>\n",
       "<style scoped>\n",
       "    .dataframe tbody tr th:only-of-type {\n",
       "        vertical-align: middle;\n",
       "    }\n",
       "\n",
       "    .dataframe tbody tr th {\n",
       "        vertical-align: top;\n",
       "    }\n",
       "\n",
       "    .dataframe thead th {\n",
       "        text-align: right;\n",
       "    }\n",
       "</style>\n",
       "<table border=\"1\" class=\"dataframe\">\n",
       "  <thead>\n",
       "    <tr style=\"text-align: right;\">\n",
       "      <th></th>\n",
       "      <th>World Rank</th>\n",
       "      <th>University Names</th>\n",
       "      <th>Location</th>\n",
       "      <th>National Rank</th>\n",
       "      <th>Research Rank</th>\n",
       "      <th>Score</th>\n",
       "    </tr>\n",
       "  </thead>\n",
       "  <tbody>\n",
       "    <tr>\n",
       "      <th>0</th>\n",
       "      <td>1</td>\n",
       "      <td>Harvard University\\r</td>\n",
       "      <td>USA</td>\n",
       "      <td>1</td>\n",
       "      <td>1</td>\n",
       "      <td>100.0</td>\n",
       "    </tr>\n",
       "    <tr>\n",
       "      <th>1</th>\n",
       "      <td>2</td>\n",
       "      <td>Massachusetts Institute of Technology\\r</td>\n",
       "      <td>USA</td>\n",
       "      <td>2</td>\n",
       "      <td>9</td>\n",
       "      <td>96.7</td>\n",
       "    </tr>\n",
       "    <tr>\n",
       "      <th>2</th>\n",
       "      <td>3</td>\n",
       "      <td>Stanford University\\r</td>\n",
       "      <td>USA</td>\n",
       "      <td>3</td>\n",
       "      <td>2</td>\n",
       "      <td>95.2</td>\n",
       "    </tr>\n",
       "    <tr>\n",
       "      <th>3</th>\n",
       "      <td>4</td>\n",
       "      <td>University of Cambridge\\r</td>\n",
       "      <td>United Kingdom</td>\n",
       "      <td>1</td>\n",
       "      <td>11</td>\n",
       "      <td>94.1</td>\n",
       "    </tr>\n",
       "    <tr>\n",
       "      <th>4</th>\n",
       "      <td>5</td>\n",
       "      <td>University of Oxford\\r</td>\n",
       "      <td>United Kingdom</td>\n",
       "      <td>2</td>\n",
       "      <td>4</td>\n",
       "      <td>93.3</td>\n",
       "    </tr>\n",
       "    <tr>\n",
       "      <th>5</th>\n",
       "      <td>6</td>\n",
       "      <td>Princeton University\\r</td>\n",
       "      <td>USA</td>\n",
       "      <td>4</td>\n",
       "      <td>82</td>\n",
       "      <td>92.6</td>\n",
       "    </tr>\n",
       "    <tr>\n",
       "      <th>6</th>\n",
       "      <td>7</td>\n",
       "      <td>University of Chicago\\r</td>\n",
       "      <td>USA</td>\n",
       "      <td>5</td>\n",
       "      <td>28</td>\n",
       "      <td>92.1</td>\n",
       "    </tr>\n",
       "    <tr>\n",
       "      <th>7</th>\n",
       "      <td>8</td>\n",
       "      <td>Columbia University\\r</td>\n",
       "      <td>USA</td>\n",
       "      <td>6</td>\n",
       "      <td>13</td>\n",
       "      <td>91.6</td>\n",
       "    </tr>\n",
       "    <tr>\n",
       "      <th>8</th>\n",
       "      <td>9</td>\n",
       "      <td>University of Pennsylvania\\r</td>\n",
       "      <td>USA</td>\n",
       "      <td>7</td>\n",
       "      <td>12</td>\n",
       "      <td>91.2</td>\n",
       "    </tr>\n",
       "    <tr>\n",
       "      <th>9</th>\n",
       "      <td>10</td>\n",
       "      <td>Yale University\\r</td>\n",
       "      <td>USA</td>\n",
       "      <td>8</td>\n",
       "      <td>21</td>\n",
       "      <td>90.8</td>\n",
       "    </tr>\n",
       "  </tbody>\n",
       "</table>\n",
       "</div>"
      ],
      "text/plain": [
       "   World Rank                         University Names        Location  \\\n",
       "0           1                     Harvard University\\r             USA   \n",
       "1           2  Massachusetts Institute of Technology\\r             USA   \n",
       "2           3                    Stanford University\\r             USA   \n",
       "3           4                University of Cambridge\\r  United Kingdom   \n",
       "4           5                   University of Oxford\\r  United Kingdom   \n",
       "5           6                   Princeton University\\r             USA   \n",
       "6           7                  University of Chicago\\r             USA   \n",
       "7           8                    Columbia University\\r             USA   \n",
       "8           9             University of Pennsylvania\\r             USA   \n",
       "9          10                        Yale University\\r             USA   \n",
       "\n",
       "   National Rank  Research Rank  Score  \n",
       "0              1              1  100.0  \n",
       "1              2              9   96.7  \n",
       "2              3              2   95.2  \n",
       "3              1             11   94.1  \n",
       "4              2              4   93.3  \n",
       "5              4             82   92.6  \n",
       "6              5             28   92.1  \n",
       "7              6             13   91.6  \n",
       "8              7             12   91.2  \n",
       "9              8             21   90.8  "
      ]
     },
     "execution_count": 226,
     "metadata": {},
     "output_type": "execute_result"
    }
   ],
   "source": [
    "df_WRU_Relevent.head(10)"
   ]
  },
  {
   "cell_type": "markdown",
   "metadata": {},
   "source": [
    "### Visulaization"
   ]
  },
  {
   "cell_type": "code",
   "execution_count": 227,
   "metadata": {},
   "outputs": [
    {
     "data": {
      "text/html": [
       "<div>\n",
       "<style scoped>\n",
       "    .dataframe tbody tr th:only-of-type {\n",
       "        vertical-align: middle;\n",
       "    }\n",
       "\n",
       "    .dataframe tbody tr th {\n",
       "        vertical-align: top;\n",
       "    }\n",
       "\n",
       "    .dataframe thead th {\n",
       "        text-align: right;\n",
       "    }\n",
       "</style>\n",
       "<table border=\"1\" class=\"dataframe\">\n",
       "  <thead>\n",
       "    <tr style=\"text-align: right;\">\n",
       "      <th></th>\n",
       "      <th>World Rank</th>\n",
       "      <th>University Names</th>\n",
       "      <th>Location</th>\n",
       "      <th>National Rank</th>\n",
       "      <th>Research Rank</th>\n",
       "      <th>Score</th>\n",
       "    </tr>\n",
       "  </thead>\n",
       "  <tbody>\n",
       "    <tr>\n",
       "      <th>0</th>\n",
       "      <td>1</td>\n",
       "      <td>Harvard University\\r</td>\n",
       "      <td>USA</td>\n",
       "      <td>1</td>\n",
       "      <td>1</td>\n",
       "      <td>100.0</td>\n",
       "    </tr>\n",
       "    <tr>\n",
       "      <th>1</th>\n",
       "      <td>2</td>\n",
       "      <td>Massachusetts Institute of Technology\\r</td>\n",
       "      <td>USA</td>\n",
       "      <td>2</td>\n",
       "      <td>9</td>\n",
       "      <td>96.7</td>\n",
       "    </tr>\n",
       "  </tbody>\n",
       "</table>\n",
       "</div>"
      ],
      "text/plain": [
       "   World Rank                         University Names Location  \\\n",
       "0           1                     Harvard University\\r      USA   \n",
       "1           2  Massachusetts Institute of Technology\\r      USA   \n",
       "\n",
       "   National Rank  Research Rank  Score  \n",
       "0              1              1  100.0  \n",
       "1              2              9   96.7  "
      ]
     },
     "execution_count": 227,
     "metadata": {},
     "output_type": "execute_result"
    }
   ],
   "source": [
    "df_WRU_Relevent.head(2)"
   ]
  },
  {
   "cell_type": "code",
   "execution_count": 228,
   "metadata": {},
   "outputs": [
    {
     "data": {
      "text/plain": [
       "Index(['World Rank', 'University Names', 'Location', 'National Rank',\n",
       "       'Research Rank', 'Score'],\n",
       "      dtype='object')"
      ]
     },
     "execution_count": 228,
     "metadata": {},
     "output_type": "execute_result"
    }
   ],
   "source": [
    "df_WRU_Relevent.columns"
   ]
  },
  {
   "cell_type": "code",
   "execution_count": 229,
   "metadata": {},
   "outputs": [
    {
     "data": {
      "image/png": "[encoded data removed]",
      "text/plain": [
       "<Figure size 1200x800 with 1 Axes>"
      ]
     },
     "metadata": {},
     "output_type": "display_data"
    }
   ],
   "source": [
    "# Box plot\n",
    "\n",
    "columns_df_2016 = ['National Rank', 'Score']\n",
    "plt.figure(figsize=(12, 8))\n",
    "# Display notches around the median & Customize the appearance of outliers\n",
    "sns.boxplot(data= df_WRU_Relevent[columns_df_2016], width=0.5, linewidth=2.5, notch=True, flierprops=dict(marker='o', markersize=8, markerfacecolor='red'))\n",
    "plt.title('Box Plot of df_2015', fontsize=16)  # Set the title of the plot\n",
    "plt.xlabel('Categories', fontsize=14)           # Set the label for the x-axis\n",
    "plt.ylabel('Values', fontsize=14)               # Set the label for the y-axis\n",
    "plt.xticks(rotation=45)                          # Rotate the x-axis labels for better readability\n",
    "plt.grid(axis='y', linestyle='--', alpha=0.7)    # Add a grid for the y-axis\n",
    "plt.show()                                       # Display the plot\n"
   ]
  },
  {
   "cell_type": "code",
   "execution_count": 230,
   "metadata": {},
   "outputs": [
    {
     "data": {
      "image/png": "[encoded data removed]",
      "text/plain": [
       "<Figure size 1200x800 with 1 Axes>"
      ]
     },
     "metadata": {},
     "output_type": "display_data"
    }
   ],
   "source": [
    "# Box plot\n",
    "\n",
    "columns_df_2016 = ['World Rank', 'Research Rank']\n",
    "plt.figure(figsize=(12, 8))\n",
    "# Display notches around the median & Customize the appearance of outliers\n",
    "sns.boxplot(data= df_WRU_Relevent[columns_df_2016], width=0.5, linewidth=2.5, notch=True, flierprops=dict(marker='o', markersize=8, markerfacecolor='red'))\n",
    "plt.title('Box Plot of df_2015', fontsize=16)  # Set the title of the plot\n",
    "plt.xlabel('Categories', fontsize=14)           # Set the label for the x-axis\n",
    "plt.ylabel('Values', fontsize=14)               # Set the label for the y-axis\n",
    "plt.xticks(rotation=45)                          # Rotate the x-axis labels for better readability\n",
    "plt.grid(axis='y', linestyle='--', alpha=0.7)    # Add a grid for the y-axis\n",
    "plt.show()                                       # Display the plot\n"
   ]
  },
  {
   "cell_type": "markdown",
   "metadata": {},
   "source": [
    "##### a. Which universities are ranked in the top 10 globally?"
   ]
  },
  {
   "cell_type": "code",
   "execution_count": 231,
   "metadata": {},
   "outputs": [
    {
     "ename": "NameError",
     "evalue": "name 'px' is not defined",
     "output_type": "error",
     "traceback": [
      "\u001b[1;31m---------------------------------------------------------------------------\u001b[0m",
      "\u001b[1;31mNameError\u001b[0m                                 Traceback (most recent call last)",
      "Cell \u001b[1;32mIn[231], line 5\u001b[0m\n\u001b[0;32m      1\u001b[0m top_10_universities \u001b[38;5;241m=\u001b[39m df_WRU_Relevent\u001b[38;5;241m.\u001b[39mhead(\u001b[38;5;241m10\u001b[39m)\n\u001b[0;32m      4\u001b[0m \u001b[38;5;66;03m# World Rankings\u001b[39;00m\n\u001b[1;32m----> 5\u001b[0m fig_world_rank \u001b[38;5;241m=\u001b[39m \u001b[43mpx\u001b[49m\u001b[38;5;241m.\u001b[39mbar(top_10_universities, x\u001b[38;5;241m=\u001b[39m\u001b[38;5;124m'\u001b[39m\u001b[38;5;124mWorld Rank\u001b[39m\u001b[38;5;124m'\u001b[39m, y\u001b[38;5;241m=\u001b[39m\u001b[38;5;124m'\u001b[39m\u001b[38;5;124mUniversity Names\u001b[39m\u001b[38;5;124m'\u001b[39m, orientation\u001b[38;5;241m=\u001b[39m\u001b[38;5;124m'\u001b[39m\u001b[38;5;124mh\u001b[39m\u001b[38;5;124m'\u001b[39m,\n\u001b[0;32m      6\u001b[0m                         labels\u001b[38;5;241m=\u001b[39m{\u001b[38;5;124m'\u001b[39m\u001b[38;5;124mUniversity Names\u001b[39m\u001b[38;5;124m'\u001b[39m: \u001b[38;5;124m'\u001b[39m\u001b[38;5;124mUniversity\u001b[39m\u001b[38;5;124m'\u001b[39m, \u001b[38;5;124m'\u001b[39m\u001b[38;5;124mWorld Rank\u001b[39m\u001b[38;5;124m'\u001b[39m: \u001b[38;5;124m'\u001b[39m\u001b[38;5;124mWorld Ranking\u001b[39m\u001b[38;5;124m'\u001b[39m},\n\u001b[0;32m      7\u001b[0m                         title\u001b[38;5;241m=\u001b[39m\u001b[38;5;124m'\u001b[39m\u001b[38;5;124mWorld Rankings of Top 10 Universities Globally\u001b[39m\u001b[38;5;124m'\u001b[39m)\n\u001b[0;32m      8\u001b[0m fig_world_rank\u001b[38;5;241m.\u001b[39mupdate_layout(xaxis\u001b[38;5;241m=\u001b[39m\u001b[38;5;28mdict\u001b[39m(\u001b[38;5;28mrange\u001b[39m\u001b[38;5;241m=\u001b[39m[\u001b[38;5;241m0\u001b[39m, \u001b[38;5;241m11\u001b[39m]))  \u001b[38;5;66;03m# Optional: Set a fixed range for the x-axis\u001b[39;00m\n\u001b[0;32m     10\u001b[0m \u001b[38;5;66;03m# National Rankings\u001b[39;00m\n",
      "\u001b[1;31mNameError\u001b[0m: name 'px' is not defined"
     ]
    }
   ],
   "source": [
    "\n",
    "top_10_universities = df_WRU_Relevent.head(10)\n",
    "\n",
    "\n",
    "# World Rankings\n",
    "fig_world_rank = px.bar(top_10_universities, x='World Rank', y='University Names', orientation='h',\n",
    "                        labels={'University Names': 'University', 'World Rank': 'World Ranking'},\n",
    "                        title='World Rankings of Top 10 Universities Globally')\n",
    "fig_world_rank.update_layout(xaxis=dict(range=[0, 11]))  # Optional: Set a fixed range for the x-axis\n",
    "\n",
    "# National Rankings\n",
    "fig_national_rank = px.bar(top_10_universities, x='National Rank', y='University Names', orientation='h',\n",
    "                           labels={'University Names': 'University', 'National Rank': 'National Ranking'},\n",
    "                           title='National Rankings of Top 10 Universities Within Their Respective Countries')\n",
    "fig_national_rank.update_layout(xaxis=dict(range=[0, 11]))  # Optional: Set a fixed range for the x-axis\n",
    "\n",
    "fig_world_rank.show()\n",
    "fig_national_rank.show()"
   ]
  },
  {
   "cell_type": "markdown",
   "metadata": {},
   "source": [
    "##### c. What positions do universities in Saudi Arabia hold within the global rankings?"
   ]
  },
  {
   "cell_type": "code",
   "execution_count": null,
   "metadata": {},
   "outputs": [
    {
     "data": {
      "application/vnd.plotly.v1+json": {
       "config": {
        "plotlyServerURL": "https://plot.ly"
       },
       "data": [
        {
         "alignmentgroup": "True",
         "hovertemplate": "Global Ranking=%{x}<br>University=%{y}<extra></extra>",
         "legendgroup": "",
         "marker": {
          "color": "#636efa",
          "pattern": {
           "shape": ""
          }
         },
         "name": "",
         "offsetgroup": "",
         "orientation": "h",
         "showlegend": false,
         "textposition": "auto",
         "type": "bar",
         "x": [
          245,
          279,
          352,
          657,
          1311,
          1447,
          1509,
          1547,
          1586,
          1711,
          1742,
          1762,
          1811,
          1907,
          1974,
          1979
         ],
         "xaxis": "x",
         "y": [
          "King Abdulaziz University",
          "King Abdullah University of Science and Technology",
          "King Saud University",
          "King Fahd University of Petroleum and Minerals",
          "King Saud bin Abdulaziz University for Health Sciences",
          "King Khalid University",
          "Taif University",
          "Imam Abdulrahman Bin Faisal University",
          "Taibah University",
          "Prince Sattam Bin Abdulaziz University",
          "Umm Al-Qura University",
          "Alfaisal University",
          "Jazan University",
          "Qassim University",
          "University of Tabuk",
          "King Faisal University"
         ],
         "yaxis": "y"
        }
       ],
       "layout": {
        "barmode": "relative",
        "legend": {
         "tracegroupgap": 0
        },
        "template": {
         "data": {
          "bar": [
           {
            "error_x": {
             "color": "#2a3f5f"
            },
            "error_y": {
             "color": "#2a3f5f"
            },
            "marker": {
             "line": {
              "color": "#E5ECF6",
              "width": 0.5
             },
             "pattern": {
              "fillmode": "overlay",
              "size": 10,
              "solidity": 0.2
             }
            },
            "type": "bar"
           }
          ],
          "barpolar": [
           {
            "marker": {
             "line": {
              "color": "#E5ECF6",
              "width": 0.5
             },
             "pattern": {
              "fillmode": "overlay",
              "size": 10,
              "solidity": 0.2
             }
            },
            "type": "barpolar"
           }
          ],
          "carpet": [
           {
            "aaxis": {
             "endlinecolor": "#2a3f5f",
             "gridcolor": "white",
             "linecolor": "white",
             "minorgridcolor": "white",
             "startlinecolor": "#2a3f5f"
            },
            "baxis": {
             "endlinecolor": "#2a3f5f",
             "gridcolor": "white",
             "linecolor": "white",
             "minorgridcolor": "white",
             "startlinecolor": "#2a3f5f"
            },
            "type": "carpet"
           }
          ],
          "choropleth": [
           {
            "colorbar": {
             "outlinewidth": 0,
             "ticks": ""
            },
            "type": "choropleth"
           }
          ],
          "contour": [
           {
            "colorbar": {
             "outlinewidth": 0,
             "ticks": ""
            },
            "colorscale": [
             [
              0,
              "#0d0887"
             ],
             [
              0.1111111111111111,
              "#46039f"
             ],
             [
              0.2222222222222222,
              "#7201a8"
             ],
             [
              0.3333333333333333,
              "#9c179e"
             ],
             [
              0.4444444444444444,
              "#bd3786"
             ],
             [
              0.5555555555555556,
              "#d8576b"
             ],
             [
              0.6666666666666666,
              "#ed7953"
             ],
             [
              0.7777777777777778,
              "#fb9f3a"
             ],
             [
              0.8888888888888888,
              "#fdca26"
             ],
             [
              1,
              "#f0f921"
             ]
            ],
            "type": "contour"
           }
          ],
          "contourcarpet": [
           {
            "colorbar": {
             "outlinewidth": 0,
             "ticks": ""
            },
            "type": "contourcarpet"
           }
          ],
          "heatmap": [
           {
            "colorbar": {
             "outlinewidth": 0,
             "ticks": ""
            },
            "colorscale": [
             [
              0,
              "#0d0887"
             ],
             [
              0.1111111111111111,
              "#46039f"
             ],
             [
              0.2222222222222222,
              "#7201a8"
             ],
             [
              0.3333333333333333,
              "#9c179e"
             ],
             [
              0.4444444444444444,
              "#bd3786"
             ],
             [
              0.5555555555555556,
              "#d8576b"
             ],
             [
              0.6666666666666666,
              "#ed7953"
             ],
             [
              0.7777777777777778,
              "#fb9f3a"
             ],
             [
              0.8888888888888888,
              "#fdca26"
             ],
             [
              1,
              "#f0f921"
             ]
            ],
            "type": "heatmap"
           }
          ],
          "heatmapgl": [
           {
            "colorbar": {
             "outlinewidth": 0,
             "ticks": ""
            },
            "colorscale": [
             [
              0,
              "#0d0887"
             ],
             [
              0.1111111111111111,
              "#46039f"
             ],
             [
              0.2222222222222222,
              "#7201a8"
             ],
             [
              0.3333333333333333,
              "#9c179e"
             ],
             [
              0.4444444444444444,
              "#bd3786"
             ],
             [
              0.5555555555555556,
              "#d8576b"
             ],
             [
              0.6666666666666666,
              "#ed7953"
             ],
             [
              0.7777777777777778,
              "#fb9f3a"
             ],
             [
              0.8888888888888888,
              "#fdca26"
             ],
             [
              1,
              "#f0f921"
             ]
            ],
            "type": "heatmapgl"
           }
          ],
          "histogram": [
           {
            "marker": {
             "pattern": {
              "fillmode": "overlay",
              "size": 10,
              "solidity": 0.2
             }
            },
            "type": "histogram"
           }
          ],
          "histogram2d": [
           {
            "colorbar": {
             "outlinewidth": 0,
             "ticks": ""
            },
            "colorscale": [
             [
              0,
              "#0d0887"
             ],
             [
              0.1111111111111111,
              "#46039f"
             ],
             [
              0.2222222222222222,
              "#7201a8"
             ],
             [
              0.3333333333333333,
              "#9c179e"
             ],
             [
              0.4444444444444444,
              "#bd3786"
             ],
             [
              0.5555555555555556,
              "#d8576b"
             ],
             [
              0.6666666666666666,
              "#ed7953"
             ],
             [
              0.7777777777777778,
              "#fb9f3a"
             ],
             [
              0.8888888888888888,
              "#fdca26"
             ],
             [
              1,
              "#f0f921"
             ]
            ],
            "type": "histogram2d"
           }
          ],
          "histogram2dcontour": [
           {
            "colorbar": {
             "outlinewidth": 0,
             "ticks": ""
            },
            "colorscale": [
             [
              0,
              "#0d0887"
             ],
             [
              0.1111111111111111,
              "#46039f"
             ],
             [
              0.2222222222222222,
              "#7201a8"
             ],
             [
              0.3333333333333333,
              "#9c179e"
             ],
             [
              0.4444444444444444,
              "#bd3786"
             ],
             [
              0.5555555555555556,
              "#d8576b"
             ],
             [
              0.6666666666666666,
              "#ed7953"
             ],
             [
              0.7777777777777778,
              "#fb9f3a"
             ],
             [
              0.8888888888888888,
              "#fdca26"
             ],
             [
              1,
              "#f0f921"
             ]
            ],
            "type": "histogram2dcontour"
           }
          ],
          "mesh3d": [
           {
            "colorbar": {
             "outlinewidth": 0,
             "ticks": ""
            },
            "type": "mesh3d"
           }
          ],
          "parcoords": [
           {
            "line": {
             "colorbar": {
              "outlinewidth": 0,
              "ticks": ""
             }
            },
            "type": "parcoords"
           }
          ],
          "pie": [
           {
            "automargin": true,
            "type": "pie"
           }
          ],
          "scatter": [
           {
            "fillpattern": {
             "fillmode": "overlay",
             "size": 10,
             "solidity": 0.2
            },
            "type": "scatter"
           }
          ],
          "scatter3d": [
           {
            "line": {
             "colorbar": {
              "outlinewidth": 0,
              "ticks": ""
             }
            },
            "marker": {
             "colorbar": {
              "outlinewidth": 0,
              "ticks": ""
             }
            },
            "type": "scatter3d"
           }
          ],
          "scattercarpet": [
           {
            "marker": {
             "colorbar": {
              "outlinewidth": 0,
              "ticks": ""
             }
            },
            "type": "scattercarpet"
           }
          ],
          "scattergeo": [
           {
            "marker": {
             "colorbar": {
              "outlinewidth": 0,
              "ticks": ""
             }
            },
            "type": "scattergeo"
           }
          ],
          "scattergl": [
           {
            "marker": {
             "colorbar": {
              "outlinewidth": 0,
              "ticks": ""
             }
            },
            "type": "scattergl"
           }
          ],
          "scattermapbox": [
           {
            "marker": {
             "colorbar": {
              "outlinewidth": 0,
              "ticks": ""
             }
            },
            "type": "scattermapbox"
           }
          ],
          "scatterpolar": [
           {
            "marker": {
             "colorbar": {
              "outlinewidth": 0,
              "ticks": ""
             }
            },
            "type": "scatterpolar"
           }
          ],
          "scatterpolargl": [
           {
            "marker": {
             "colorbar": {
              "outlinewidth": 0,
              "ticks": ""
             }
            },
            "type": "scatterpolargl"
           }
          ],
          "scatterternary": [
           {
            "marker": {
             "colorbar": {
              "outlinewidth": 0,
              "ticks": ""
             }
            },
            "type": "scatterternary"
           }
          ],
          "surface": [
           {
            "colorbar": {
             "outlinewidth": 0,
             "ticks": ""
            },
            "colorscale": [
             [
              0,
              "#0d0887"
             ],
             [
              0.1111111111111111,
              "#46039f"
             ],
             [
              0.2222222222222222,
              "#7201a8"
             ],
             [
              0.3333333333333333,
              "#9c179e"
             ],
             [
              0.4444444444444444,
              "#bd3786"
             ],
             [
              0.5555555555555556,
              "#d8576b"
             ],
             [
              0.6666666666666666,
              "#ed7953"
             ],
             [
              0.7777777777777778,
              "#fb9f3a"
             ],
             [
              0.8888888888888888,
              "#fdca26"
             ],
             [
              1,
              "#f0f921"
             ]
            ],
            "type": "surface"
           }
          ],
          "table": [
           {
            "cells": {
             "fill": {
              "color": "#EBF0F8"
             },
             "line": {
              "color": "white"
             }
            },
            "header": {
             "fill": {
              "color": "#C8D4E3"
             },
             "line": {
              "color": "white"
             }
            },
            "type": "table"
           }
          ]
         },
         "layout": {
          "annotationdefaults": {
           "arrowcolor": "#2a3f5f",
           "arrowhead": 0,
           "arrowwidth": 1
          },
          "autotypenumbers": "strict",
          "coloraxis": {
           "colorbar": {
            "outlinewidth": 0,
            "ticks": ""
           }
          },
          "colorscale": {
           "diverging": [
            [
             0,
             "#8e0152"
            ],
            [
             0.1,
             "#c51b7d"
            ],
            [
             0.2,
             "#de77ae"
            ],
            [
             0.3,
             "#f1b6da"
            ],
            [
             0.4,
             "#fde0ef"
            ],
            [
             0.5,
             "#f7f7f7"
            ],
            [
             0.6,
             "#e6f5d0"
            ],
            [
             0.7,
             "#b8e186"
            ],
            [
             0.8,
             "#7fbc41"
            ],
            [
             0.9,
             "#4d9221"
            ],
            [
             1,
             "#276419"
            ]
           ],
           "sequential": [
            [
             0,
             "#0d0887"
            ],
            [
             0.1111111111111111,
             "#46039f"
            ],
            [
             0.2222222222222222,
             "#7201a8"
            ],
            [
             0.3333333333333333,
             "#9c179e"
            ],
            [
             0.4444444444444444,
             "#bd3786"
            ],
            [
             0.5555555555555556,
             "#d8576b"
            ],
            [
             0.6666666666666666,
             "#ed7953"
            ],
            [
             0.7777777777777778,
             "#fb9f3a"
            ],
            [
             0.8888888888888888,
             "#fdca26"
            ],
            [
             1,
             "#f0f921"
            ]
           ],
           "sequentialminus": [
            [
             0,
             "#0d0887"
            ],
            [
             0.1111111111111111,
             "#46039f"
            ],
            [
             0.2222222222222222,
             "#7201a8"
            ],
            [
             0.3333333333333333,
             "#9c179e"
            ],
            [
             0.4444444444444444,
             "#bd3786"
            ],
            [
             0.5555555555555556,
             "#d8576b"
            ],
            [
             0.6666666666666666,
             "#ed7953"
            ],
            [
             0.7777777777777778,
             "#fb9f3a"
            ],
            [
             0.8888888888888888,
             "#fdca26"
            ],
            [
             1,
             "#f0f921"
            ]
           ]
          },
          "colorway": [
           "#636efa",
           "#EF553B",
           "#00cc96",
           "#ab63fa",
           "#FFA15A",
           "#19d3f3",
           "#FF6692",
           "#B6E880",
           "#FF97FF",
           "#FECB52"
          ],
          "font": {
           "color": "#2a3f5f"
          },
          "geo": {
           "bgcolor": "white",
           "lakecolor": "white",
           "landcolor": "#E5ECF6",
           "showlakes": true,
           "showland": true,
           "subunitcolor": "white"
          },
          "hoverlabel": {
           "align": "left"
          },
          "hovermode": "closest",
          "mapbox": {
           "style": "light"
          },
          "paper_bgcolor": "white",
          "plot_bgcolor": "#E5ECF6",
          "polar": {
           "angularaxis": {
            "gridcolor": "white",
            "linecolor": "white",
            "ticks": ""
           },
           "bgcolor": "#E5ECF6",
           "radialaxis": {
            "gridcolor": "white",
            "linecolor": "white",
            "ticks": ""
           }
          },
          "scene": {
           "xaxis": {
            "backgroundcolor": "#E5ECF6",
            "gridcolor": "white",
            "gridwidth": 2,
            "linecolor": "white",
            "showbackground": true,
            "ticks": "",
            "zerolinecolor": "white"
           },
           "yaxis": {
            "backgroundcolor": "#E5ECF6",
            "gridcolor": "white",
            "gridwidth": 2,
            "linecolor": "white",
            "showbackground": true,
            "ticks": "",
            "zerolinecolor": "white"
           },
           "zaxis": {
            "backgroundcolor": "#E5ECF6",
            "gridcolor": "white",
            "gridwidth": 2,
            "linecolor": "white",
            "showbackground": true,
            "ticks": "",
            "zerolinecolor": "white"
           }
          },
          "shapedefaults": {
           "line": {
            "color": "#2a3f5f"
           }
          },
          "ternary": {
           "aaxis": {
            "gridcolor": "white",
            "linecolor": "white",
            "ticks": ""
           },
           "baxis": {
            "gridcolor": "white",
            "linecolor": "white",
            "ticks": ""
           },
           "bgcolor": "#E5ECF6",
           "caxis": {
            "gridcolor": "white",
            "linecolor": "white",
            "ticks": ""
           }
          },
          "title": {
           "x": 0.05
          },
          "xaxis": {
           "automargin": true,
           "gridcolor": "white",
           "linecolor": "white",
           "ticks": "",
           "title": {
            "standoff": 15
           },
           "zerolinecolor": "white",
           "zerolinewidth": 2
          },
          "yaxis": {
           "automargin": true,
           "gridcolor": "white",
           "linecolor": "white",
           "ticks": "",
           "title": {
            "standoff": 15
           },
           "zerolinecolor": "white",
           "zerolinewidth": 2
          }
         }
        },
        "title": {
         "text": "Global Rankings of Universities in Saudi Arabia"
        },
        "xaxis": {
         "anchor": "y",
         "domain": [
          0,
          1
         ],
         "range": [
          0,
          2000
         ],
         "title": {
          "text": "Global Ranking"
         }
        },
        "yaxis": {
         "anchor": "x",
         "domain": [
          0,
          1
         ],
         "title": {
          "text": "University"
         }
        }
       }
      }
     },
     "metadata": {},
     "output_type": "display_data"
    }
   ],
   "source": [
    "import plotly.express as px\n",
    "\n",
    "# in this ranking there are 16 Universities in Saudi Arabia. 245-1979\n",
    "\n",
    "universities_in_saudi_arabia = df_WRU_Relevent[df_WRU_Relevent['Location'] == 'Saudi Arabia']\n",
    "\n",
    "fig = px.bar(universities_in_saudi_arabia, x='World Rank', y='University Names', orientation='h',\n",
    "             labels={'University Names': 'University', 'World Rank': 'Global Ranking'},\n",
    "             title='Global Rankings of Universities in Saudi Arabia')\n",
    "fig.update_layout(xaxis=dict(range=[0, 2000]))  # Optional: Set a fixed range for the x-axis\n",
    "fig.show()\n"
   ]
  },
  {
   "cell_type": "markdown",
   "metadata": {},
   "source": [
    "##### d. Considering various factors such as employment rankings, research rankings, and others, which has the most significant  mpact on a university's overall ranking?"
   ]
  },
  {
   "cell_type": "code",
   "execution_count": null,
   "metadata": {},
   "outputs": [],
   "source": [
    "col = ['Educational Rank', 'Employability Rank', 'Faculty Rank',\n",
    "       'Research Rank', 'Score']\n",
    "\n",
    "filtered_df = df_WRU[col].loc[(df_WRU != '-').all(axis=1)]"
   ]
  },
  {
   "cell_type": "code",
   "execution_count": null,
   "metadata": {},
   "outputs": [
    {
     "data": {
      "image/png": "[encoded data removed]",
      "text/plain": [
       "<Figure size 800x700 with 2 Axes>"
      ]
     },
     "metadata": {},
     "output_type": "display_data"
    }
   ],
   "source": [
    "plt.figure(figsize=(8, 7))\n",
    "sns.heatmap(filtered_df.corr(), annot=True, cmap='coolwarm', fmt=\".2f\")\n",
    "plt.title('Correlation Matrix')\n",
    "plt.show() "
   ]
  },
  {
   "cell_type": "markdown",
   "metadata": {},
   "source": [
    "##### e. Is there a correlation between national and global university rankings, and based on this information, can you recommend a country that appears to have a high concentration of top-ranked universities?"
   ]
  },
  {
   "cell_type": "code",
   "execution_count": null,
   "metadata": {},
   "outputs": [
    {
     "data": {
      "application/vnd.plotly.v1+json": {
       "config": {
        "plotlyServerURL": "https://plot.ly"
       },
       "data": [
        {
         "hovertemplate": "National Rank=%{x}<br>World Rank=%{y}<extra></extra>",
         "legendgroup": "",
         "marker": {
          "color": "#636efa",
          "symbol": "circle"
         },
         "mode": "markers",
         "name": "",
         "showlegend": false,
         "type": "scattergl",
         "x": [
          1,
          2,
          3,
          1,
          2,
          4,
          5,
          6,
          7,
          8,
          9,
          10,
          1,
          11,
          12,
          13,
          14,
          15,
          3,
          16,
          1,
          17,
          1,
          18,
          19,
          2,
          2,
          20,
          4,
          1,
          1,
          2,
          21,
          22,
          1,
          23,
          24,
          1,
          3,
          5,
          4,
          25,
          26,
          1,
          5,
          1,
          27,
          6,
          2,
          7,
          3,
          28,
          29,
          30,
          3,
          31,
          1,
          2,
          3,
          32,
          33,
          34,
          2,
          35,
          36,
          37,
          38,
          4,
          39,
          1,
          40,
          1,
          41,
          4,
          42,
          4,
          2,
          5,
          43,
          2,
          1,
          44,
          1,
          8,
          5,
          45,
          2,
          3,
          6,
          46,
          47,
          2,
          9,
          4,
          48,
          3,
          6,
          49,
          50,
          3,
          2,
          1,
          4,
          3,
          4,
          5,
          1,
          10,
          1,
          4,
          5,
          51,
          7,
          52,
          8,
          1,
          53,
          5,
          7,
          6,
          5,
          5,
          8,
          2,
          11,
          1,
          9,
          6,
          12,
          9,
          54,
          55,
          2,
          1,
          7,
          13,
          6,
          10,
          14,
          3,
          4,
          56,
          6,
          57,
          58,
          5,
          10,
          6,
          8,
          7,
          59,
          15,
          60,
          3,
          16,
          17,
          9,
          11,
          2,
          3,
          7,
          18,
          12,
          61,
          7,
          10,
          62,
          6,
          63,
          13,
          2,
          11,
          14,
          6,
          15,
          4,
          19,
          2,
          16,
          3,
          8,
          64,
          65,
          17,
          4,
          66,
          12,
          7,
          67,
          2,
          18,
          7,
          19,
          4,
          8,
          68,
          3,
          1,
          69,
          20,
          70,
          1,
          21,
          9,
          13,
          22,
          8,
          20,
          71,
          23,
          11,
          10,
          72,
          14,
          24,
          15,
          1,
          25,
          16,
          8,
          3,
          26,
          73,
          74,
          75,
          17,
          5,
          5,
          18,
          76,
          9,
          19,
          27,
          4,
          6,
          77,
          21,
          1,
          78,
          79,
          80,
          20,
          12,
          28,
          1,
          10,
          1,
          22,
          3,
          81,
          29,
          82,
          23,
          30,
          24,
          83,
          13,
          9,
          14,
          84,
          85,
          86,
          10,
          7,
          87,
          31,
          1,
          1,
          88,
          89,
          8,
          9,
          90,
          32,
          21,
          1,
          2,
          1,
          2,
          15,
          11,
          11,
          16,
          25,
          4,
          3,
          91,
          2,
          2,
          2,
          5,
          5,
          33,
          34,
          92,
          6,
          4,
          35,
          12,
          36,
          93,
          94,
          95,
          37,
          96,
          97,
          26,
          98,
          2,
          99,
          10,
          6,
          17,
          100,
          22,
          38,
          2,
          23,
          101,
          102,
          39,
          103,
          104,
          27,
          13,
          40,
          28,
          24,
          11,
          25,
          41,
          18,
          9,
          42,
          29,
          6,
          10,
          7,
          12,
          13,
          30,
          1,
          105,
          2,
          11,
          26,
          7,
          14,
          19,
          2,
          106,
          3,
          107,
          11,
          43,
          5,
          44,
          45,
          46,
          20,
          3,
          1,
          5,
          108,
          31,
          32,
          12,
          27,
          33,
          7,
          15,
          8,
          13,
          8,
          47,
          3,
          2,
          14,
          7,
          15,
          109,
          1,
          1,
          110,
          28,
          14,
          3,
          1,
          29,
          1,
          8,
          9,
          30,
          16,
          16,
          15,
          17,
          21,
          48,
          49,
          3,
          9,
          10,
          17,
          111,
          8,
          112,
          113,
          2,
          10,
          50,
          51,
          3,
          9,
          16,
          31,
          10,
          52,
          1,
          3,
          114,
          53,
          4,
          4,
          115,
          22,
          17,
          1,
          2,
          23,
          54,
          4,
          55,
          56,
          116,
          4,
          12,
          2,
          57,
          24,
          117,
          118,
          34,
          11,
          58,
          59,
          12,
          119,
          12,
          3,
          18,
          120,
          121,
          122,
          60,
          18,
          19,
          11,
          18,
          61,
          5,
          1,
          123,
          124,
          13,
          125,
          5,
          32,
          20,
          11,
          19,
          62,
          126,
          127,
          128,
          20,
          129,
          4,
          130,
          131,
          6,
          21,
          132,
          35,
          13,
          19,
          12,
          133,
          134,
          2,
          135,
          63,
          36,
          2,
          21,
          4,
          64,
          33,
          65,
          14,
          136,
          66,
          6,
          22,
          137,
          34,
          23,
          35,
          36,
          5,
          13,
          138,
          139,
          5,
          67,
          140,
          1,
          37,
          4,
          1,
          14,
          25,
          141,
          38,
          4,
          24,
          22,
          1,
          1,
          23,
          142,
          15,
          37,
          3,
          143,
          144,
          16,
          68,
          20,
          17,
          69,
          25,
          39,
          26,
          6,
          145,
          70,
          2,
          26,
          40,
          71,
          38,
          146,
          3,
          147,
          148,
          5,
          72,
          6,
          2,
          73,
          74,
          3,
          7,
          75,
          76,
          27,
          77,
          5,
          4,
          78,
          39,
          79,
          6,
          27,
          149,
          80,
          3,
          81,
          5,
          28,
          7,
          5,
          40,
          7,
          15,
          24,
          16,
          82,
          6,
          3,
          29,
          17,
          7,
          6,
          83,
          28,
          150,
          84,
          14,
          21,
          3,
          1,
          30,
          151,
          152,
          6,
          85,
          31,
          153,
          3,
          154,
          86,
          9,
          87,
          7,
          8,
          155,
          156,
          22,
          7,
          88,
          29,
          157,
          15,
          32,
          1,
          6,
          89,
          41,
          16,
          17,
          30,
          158,
          9,
          90,
          4,
          2,
          33,
          34,
          23,
          159,
          18,
          42,
          43,
          91,
          18,
          24,
          19,
          41,
          42,
          35,
          20,
          160,
          92,
          161,
          4,
          93,
          94,
          7,
          1,
          95,
          2,
          3,
          3,
          4,
          44,
          4,
          2,
          4,
          162,
          96,
          97,
          13,
          98,
          19,
          99,
          4,
          45,
          100,
          10,
          31,
          2,
          163,
          101,
          8,
          5,
          102,
          18,
          164,
          165,
          1,
          103,
          32,
          33,
          8,
          166,
          9,
          19,
          46,
          167,
          168,
          104,
          4,
          105,
          20,
          169,
          3,
          20,
          34,
          5,
          36,
          170,
          1,
          21,
          106,
          171,
          10,
          8,
          172,
          8,
          107,
          5,
          21,
          108,
          173,
          109,
          1,
          43,
          21,
          37,
          174,
          175,
          110,
          6,
          4,
          22,
          9,
          111,
          112,
          113,
          44,
          2,
          5,
          114,
          22,
          47,
          35,
          22,
          115,
          23,
          116,
          4,
          10,
          23,
          23,
          24,
          176,
          9,
          1,
          38,
          24,
          48,
          177,
          117,
          11,
          49,
          24,
          12,
          6,
          5,
          2,
          25,
          11,
          1,
          10,
          25,
          118,
          178,
          45,
          26,
          46,
          179,
          39,
          2,
          7,
          2,
          50,
          12,
          180,
          40,
          181,
          5,
          3,
          41,
          26,
          182,
          47,
          119,
          120,
          27,
          121,
          183,
          48,
          11,
          49,
          184,
          122,
          123,
          28,
          124,
          13,
          125,
          185,
          6,
          126,
          25,
          186,
          7,
          26,
          51,
          52,
          10,
          6,
          27,
          53,
          127,
          128,
          187,
          1,
          188,
          36,
          4,
          50,
          25,
          3,
          2,
          54,
          129,
          5,
          189,
          8,
          130,
          55,
          27,
          29,
          12,
          25,
          42,
          1,
          131,
          190,
          132,
          30,
          9,
          133,
          12,
          28,
          11,
          11,
          56,
          1,
          43,
          14,
          51,
          12,
          134,
          57,
          191,
          8,
          1,
          44,
          13,
          1,
          13,
          192,
          135,
          14,
          193,
          136,
          194,
          29,
          30,
          45,
          37,
          58,
          7,
          31,
          195,
          38,
          3,
          1,
          14,
          4,
          28,
          9,
          137,
          39,
          10,
          15,
          138,
          8,
          139,
          59,
          140,
          60,
          4,
          31,
          29,
          141,
          196,
          32,
          3,
          197,
          46,
          142,
          30,
          198,
          31,
          5,
          32,
          15,
          1,
          16,
          61,
          9,
          199,
          200,
          33,
          40,
          1,
          143,
          201,
          17,
          7,
          16,
          1,
          18,
          32,
          33,
          2,
          10,
          6,
          62,
          202,
          34,
          5,
          17,
          18,
          1,
          144,
          1,
          1,
          15,
          3,
          26,
          9,
          203,
          145,
          47,
          19,
          41,
          204,
          8,
          205,
          11,
          20,
          4,
          26,
          9,
          12,
          27,
          10,
          63,
          206,
          1,
          33,
          52,
          207,
          21,
          146,
          10,
          147,
          148,
          208,
          22,
          209,
          42,
          3,
          27,
          149,
          48,
          150,
          43,
          34,
          151,
          210,
          28,
          211,
          152,
          35,
          212,
          28,
          36,
          11,
          213,
          153,
          12,
          214,
          154,
          6,
          23,
          24,
          35,
          3,
          44,
          215,
          36,
          155,
          13,
          156,
          16,
          6,
          37,
          157,
          158,
          11,
          216,
          38,
          159,
          53,
          8,
          160,
          2,
          217,
          218,
          13,
          3,
          39,
          29,
          45,
          5,
          25,
          37,
          11,
          219,
          220,
          40,
          64,
          5,
          17,
          12,
          6,
          41,
          42,
          12,
          18,
          161,
          26,
          162,
          38,
          46,
          221,
          163,
          47,
          222,
          39,
          7,
          43,
          14,
          44,
          164,
          13,
          30,
          223,
          224,
          15,
          14,
          34,
          48,
          165,
          19,
          31,
          13,
          3,
          225,
          2,
          54,
          20,
          65,
          166,
          29,
          167,
          1,
          168,
          45,
          32,
          7,
          55,
          19,
          49,
          13,
          46,
          3,
          226,
          21,
          227,
          56,
          35,
          14,
          40,
          47,
          13,
          2,
          169,
          170,
          171,
          4,
          172,
          228,
          48,
          66,
          33,
          6,
          6,
          173,
          15,
          174,
          9,
          229,
          175,
          5,
          22,
          49,
          27,
          230,
          176,
          41,
          177,
          178,
          179,
          36,
          49,
          20,
          50,
          21,
          4,
          14,
          7,
          2,
          231,
          6,
          232,
          50,
          5,
          2,
          57,
          16,
          180,
          8,
          7,
          67,
          1,
          7,
          15,
          6,
          51,
          181,
          8,
          1,
          16,
          4,
          37,
          23,
          182,
          183,
          5,
          2,
          14,
          16,
          22,
          17,
          24,
          25,
          233,
          50,
          184,
          9,
          38,
          2,
          52,
          51,
          51,
          234,
          235,
          6,
          236,
          53,
          28,
          3,
          12,
          237,
          4,
          185,
          238,
          29,
          18,
          54,
          26,
          30,
          186,
          58,
          17,
          187,
          68,
          31,
          239,
          52,
          8,
          55,
          52,
          27,
          15,
          240,
          56,
          30,
          42,
          241,
          188,
          189,
          53,
          69,
          190,
          242,
          57,
          17,
          53,
          1,
          58,
          5,
          6,
          32,
          70,
          191,
          18,
          192,
          193,
          243,
          244,
          245,
          246,
          247,
          59,
          19,
          31,
          248,
          39,
          33,
          60,
          54,
          249,
          34,
          1,
          9,
          28,
          18,
          43,
          8,
          194,
          54,
          195,
          34,
          20,
          250,
          251,
          196,
          252,
          23,
          253,
          7,
          19,
          5,
          20,
          44,
          29,
          197,
          21,
          30,
          16,
          21,
          198,
          1,
          199,
          200,
          61,
          201,
          17,
          7,
          6,
          10,
          62,
          55,
          71,
          72,
          22,
          63,
          45,
          35,
          254,
          40,
          5,
          202,
          19,
          203,
          7,
          56,
          204,
          22,
          255,
          23,
          32,
          205,
          57,
          23,
          4,
          206,
          18,
          8,
          46,
          19,
          207,
          64,
          59,
          41,
          42,
          208,
          65,
          11,
          24,
          209,
          73,
          55,
          1,
          210,
          256,
          58,
          66,
          211,
          67,
          20,
          212,
          1,
          74,
          257,
          56,
          213,
          24,
          31,
          2,
          68,
          57,
          69,
          58,
          35,
          258,
          1,
          214,
          3,
          4,
          32,
          24,
          259,
          33,
          10,
          1,
          25,
          8,
          9,
          34,
          260,
          70,
          215,
          71,
          216,
          2,
          75,
          72,
          20,
          1,
          217,
          26,
          59,
          261,
          9,
          35,
          262,
          263,
          264,
          3,
          265,
          14,
          218,
          76,
          43,
          36,
          10,
          27,
          77,
          266,
          11,
          60,
          219,
          73,
          7,
          10,
          61,
          28,
          74,
          220,
          221,
          78,
          44,
          29,
          30,
          1,
          75,
          267,
          222,
          37,
          2,
          11,
          60,
          45,
          8,
          2,
          223,
          224,
          8,
          76,
          79,
          225,
          4,
          33,
          268,
          226,
          25,
          6,
          31,
          9,
          38,
          269,
          12,
          77,
          270,
          32,
          227,
          228,
          6,
          4,
          1,
          26,
          39,
          2,
          271,
          229,
          13,
          3,
          62,
          21,
          22,
          78,
          230,
          36,
          2,
          61,
          231,
          40,
          37,
          8,
          79,
          12,
          59,
          23,
          7,
          272,
          41,
          2,
          25,
          24,
          38,
          80,
          2,
          4,
          39,
          232,
          15,
          273,
          274,
          62,
          233,
          275,
          1,
          21,
          81,
          63,
          27,
          34,
          28,
          7,
          234,
          2,
          40,
          276,
          82,
          277,
          1,
          46,
          80,
          63,
          235,
          1,
          9,
          278,
          33,
          29,
          60,
          279,
          83,
          84,
          81,
          10,
          280,
          7,
          82,
          11,
          22,
          85,
          26,
          9,
          64,
          64,
          65,
          25,
          42,
          35,
          6,
          8,
          27,
          30,
          236,
          43,
          8,
          23,
          86,
          8,
          7,
          34,
          281,
          237,
          238,
          239,
          240,
          10,
          47,
          24,
          28,
          282,
          35,
          241,
          242,
          87,
          1,
          283,
          243,
          10,
          47,
          8,
          1,
          44,
          244,
          88,
          45,
          245,
          7,
          246,
          9,
          284,
          3,
          89,
          285,
          247,
          248,
          26,
          48,
          25,
          36,
          286,
          65,
          83,
          66,
          5,
          11,
          36,
          66,
          3,
          90,
          8,
          29,
          91,
          2,
          249,
          92,
          48,
          250,
          2,
          1,
          26,
          287,
          10,
          46,
          36,
          5,
          8,
          84,
          251,
          3,
          252,
          27,
          31,
          37,
          11,
          93,
          67,
          47,
          14,
          9,
          3,
          253,
          288,
          254,
          28,
          15,
          289,
          61,
          41,
          29,
          255,
          290,
          9,
          13,
          291,
          42,
          94,
          85,
          292,
          256,
          293,
          12,
          257,
          294,
          16,
          43,
          258,
          2,
          48,
          30,
          295,
          27,
          296,
          259,
          16,
          95,
          86,
          11,
          1,
          38,
          297,
          49,
          67,
          9,
          6,
          96,
          12,
          1,
          10,
          97,
          2,
          4,
          3,
          260,
          12,
          12,
          1,
          298,
          261,
          37,
          17,
          262,
          30,
          299,
          44,
          263,
          300,
          7,
          45,
          31,
          50,
          37,
          301,
          302,
          10,
          303,
          32,
          39,
          264,
          38,
          49,
          98,
          304,
          305,
          51,
          99,
          52,
          40,
          62,
          63,
          87,
          100,
          1,
          28,
          7,
          50,
          41,
          265,
          32,
          306,
          33,
          2,
          15,
          31,
          266,
          11,
          267,
          268,
          34,
          269,
          49,
          46,
          270,
          68,
          271,
          50,
          272,
          53,
          8,
          64,
          54,
          33,
          3,
          32,
          42,
          12,
          35,
          273,
          307,
          13,
          4,
          11,
          6,
          308,
          38,
          274,
          275,
          47,
          88,
          1,
          29,
          7,
          4,
          33,
          276,
          101,
          34,
          2,
          102,
          10,
          55,
          309,
          51,
          277,
          13,
          36,
          13,
          310,
          51,
          278,
          311,
          43,
          279,
          280,
          44,
          5,
          34,
          10,
          312,
          18,
          313,
          281,
          282,
          314,
          13,
          103,
          283,
          315,
          284,
          316,
          56,
          35,
          45,
          14,
          104,
          89,
          285,
          1,
          105,
          35,
          90,
          286,
          317,
          68,
          46,
          3,
          16,
          287,
          48,
          318,
          37,
          49,
          52,
          288,
          289,
          50,
          319,
          36,
          30,
          290,
          17,
          53,
          291,
          19,
          320,
          2,
          37,
          292,
          65,
          14,
          293,
          321,
          106,
          47,
          38,
          54,
          294,
          14,
          107,
          55,
          295,
          296,
          8,
          56,
          297,
          322,
          3,
          39,
          3,
          323,
          108,
          66,
          69,
          36,
          4,
          70,
          324,
          48,
          3,
          109,
          39,
          298,
          18,
          69,
          51,
          38,
          2,
          2,
          57,
          11,
          15,
          20,
          58,
          10,
          325,
          52,
          5,
          59,
          60,
          39,
          14,
          6,
          110,
          71,
          37,
          38,
          111,
          53,
          7,
          61,
          57,
          91,
          40,
          1,
          299,
          2,
          49,
          39,
          4,
          9,
          15,
          5,
          19,
          1,
          9,
          72,
          31,
          92,
          62,
          326,
          20,
          327,
          54,
          112,
          328,
          300,
          73,
          39,
          52,
          1,
          16,
          5,
          301,
          12,
          329,
          302,
          40,
          50,
          41,
          74,
          303,
          51,
          304,
          305,
          17,
          113,
          306,
          307,
          3,
          308,
          114,
          93,
          6,
          32,
          52,
          42,
          63,
          15,
          40,
          75,
          309,
          330,
          16,
          41,
          9,
          53,
          33,
          40,
          331,
          310,
          76,
          311,
          43,
          1,
          312,
          13,
          4,
          313,
          2,
          314,
          332,
          54,
          64,
          55
         ],
         "xaxis": "x",
         "y": [
          1,
          2,
          3,
          4,
          5,
          6,
          7,
          8,
          9,
          10,
          11,
          12,
          13,
          14,
          15,
          16,
          17,
          18,
          19,
          20,
          21,
          22,
          23,
          24,
          25,
          26,
          27,
          28,
          29,
          30,
          31,
          32,
          33,
          34,
          35,
          36,
          37,
          38,
          39,
          40,
          41,
          42,
          43,
          44,
          45,
          46,
          47,
          48,
          49,
          50,
          51,
          52,
          53,
          54,
          55,
          56,
          57,
          58,
          59,
          60,
          61,
          62,
          63,
          64,
          65,
          66,
          67,
          68,
          69,
          70,
          71,
          72,
          73,
          74,
          75,
          76,
          77,
          78,
          79,
          80,
          81,
          82,
          83,
          84,
          85,
          86,
          87,
          88,
          89,
          90,
          91,
          92,
          93,
          94,
          95,
          96,
          97,
          98,
          99,
          100,
          101,
          102,
          103,
          104,
          105,
          106,
          107,
          108,
          109,
          110,
          111,
          112,
          113,
          114,
          115,
          116,
          117,
          118,
          119,
          120,
          121,
          122,
          123,
          124,
          125,
          126,
          127,
          128,
          129,
          130,
          131,
          132,
          133,
          134,
          135,
          136,
          137,
          138,
          139,
          140,
          141,
          142,
          143,
          144,
          145,
          146,
          147,
          148,
          149,
          150,
          151,
          152,
          153,
          154,
          155,
          156,
          157,
          158,
          159,
          160,
          161,
          162,
          163,
          164,
          165,
          166,
          167,
          168,
          169,
          170,
          171,
          172,
          173,
          174,
          175,
          176,
          177,
          178,
          179,
          180,
          181,
          182,
          183,
          184,
          185,
          186,
          187,
          188,
          189,
          190,
          191,
          192,
          193,
          194,
          195,
          196,
          197,
          198,
          199,
          200,
          201,
          202,
          203,
          204,
          205,
          206,
          207,
          208,
          209,
          210,
          211,
          212,
          213,
          214,
          215,
          216,
          217,
          218,
          219,
          220,
          221,
          222,
          223,
          224,
          225,
          226,
          227,
          228,
          229,
          230,
          231,
          232,
          233,
          234,
          235,
          236,
          237,
          238,
          239,
          240,
          241,
          242,
          243,
          244,
          245,
          246,
          247,
          248,
          249,
          250,
          251,
          252,
          253,
          254,
          255,
          256,
          257,
          258,
          259,
          260,
          261,
          262,
          263,
          264,
          265,
          266,
          267,
          268,
          269,
          270,
          271,
          272,
          273,
          274,
          275,
          276,
          277,
          278,
          279,
          280,
          281,
          282,
          283,
          284,
          285,
          286,
          287,
          288,
          289,
          290,
          291,
          292,
          293,
          294,
          295,
          296,
          297,
          298,
          299,
          300,
          301,
          302,
          303,
          304,
          305,
          306,
          307,
          308,
          309,
          310,
          311,
          312,
          313,
          314,
          315,
          316,
          317,
          318,
          319,
          320,
          321,
          322,
          323,
          324,
          325,
          326,
          327,
          328,
          329,
          330,
          331,
          332,
          333,
          334,
          335,
          336,
          337,
          338,
          339,
          340,
          341,
          342,
          343,
          344,
          345,
          346,
          347,
          348,
          349,
          350,
          351,
          352,
          353,
          354,
          355,
          356,
          357,
          358,
          359,
          360,
          361,
          362,
          363,
          364,
          365,
          366,
          367,
          368,
          369,
          370,
          371,
          372,
          373,
          374,
          375,
          376,
          377,
          378,
          379,
          380,
          381,
          382,
          383,
          384,
          385,
          386,
          387,
          388,
          389,
          390,
          391,
          392,
          393,
          394,
          395,
          396,
          397,
          398,
          399,
          400,
          401,
          402,
          403,
          404,
          405,
          406,
          407,
          408,
          409,
          410,
          411,
          412,
          413,
          414,
          415,
          416,
          417,
          418,
          419,
          420,
          421,
          422,
          423,
          424,
          425,
          426,
          427,
          428,
          429,
          430,
          431,
          432,
          433,
          434,
          435,
          436,
          437,
          438,
          439,
          440,
          441,
          442,
          443,
          444,
          445,
          446,
          447,
          448,
          449,
          450,
          451,
          452,
          453,
          454,
          455,
          456,
          457,
          458,
          459,
          460,
          461,
          462,
          463,
          464,
          465,
          466,
          467,
          468,
          469,
          470,
          471,
          472,
          473,
          474,
          475,
          476,
          477,
          478,
          479,
          480,
          481,
          482,
          483,
          484,
          485,
          486,
          487,
          488,
          489,
          490,
          491,
          492,
          493,
          494,
          495,
          496,
          497,
          498,
          499,
          500,
          501,
          502,
          503,
          504,
          505,
          506,
          507,
          508,
          509,
          510,
          511,
          512,
          513,
          514,
          515,
          516,
          517,
          518,
          519,
          520,
          521,
          522,
          523,
          524,
          525,
          526,
          527,
          528,
          529,
          530,
          531,
          532,
          533,
          534,
          535,
          536,
          537,
          538,
          539,
          540,
          541,
          542,
          543,
          544,
          545,
          546,
          547,
          548,
          549,
          550,
          551,
          552,
          553,
          554,
          555,
          556,
          557,
          558,
          559,
          560,
          561,
          562,
          563,
          564,
          565,
          566,
          567,
          568,
          569,
          570,
          571,
          572,
          573,
          574,
          575,
          576,
          577,
          578,
          579,
          580,
          581,
          582,
          583,
          584,
          585,
          586,
          587,
          588,
          589,
          590,
          591,
          592,
          593,
          594,
          595,
          596,
          597,
          598,
          599,
          600,
          601,
          602,
          603,
          604,
          605,
          606,
          607,
          608,
          609,
          610,
          611,
          612,
          613,
          614,
          615,
          616,
          617,
          618,
          619,
          620,
          621,
          622,
          623,
          624,
          625,
          626,
          627,
          628,
          629,
          630,
          631,
          632,
          633,
          634,
          635,
          636,
          637,
          638,
          639,
          640,
          641,
          642,
          643,
          644,
          645,
          646,
          647,
          648,
          649,
          650,
          651,
          652,
          653,
          654,
          655,
          656,
          657,
          658,
          659,
          660,
          661,
          662,
          663,
          664,
          665,
          666,
          667,
          668,
          669,
          670,
          671,
          672,
          673,
          674,
          675,
          676,
          677,
          678,
          679,
          680,
          681,
          682,
          683,
          684,
          685,
          686,
          687,
          688,
          689,
          690,
          691,
          692,
          693,
          694,
          695,
          696,
          697,
          698,
          699,
          700,
          701,
          702,
          703,
          704,
          705,
          706,
          707,
          708,
          709,
          710,
          711,
          712,
          713,
          714,
          715,
          716,
          717,
          718,
          719,
          720,
          721,
          722,
          723,
          724,
          725,
          726,
          727,
          728,
          729,
          730,
          731,
          732,
          733,
          734,
          735,
          736,
          737,
          738,
          739,
          740,
          741,
          742,
          743,
          744,
          745,
          746,
          747,
          748,
          749,
          750,
          751,
          752,
          753,
          754,
          755,
          756,
          757,
          758,
          759,
          760,
          761,
          762,
          763,
          764,
          765,
          766,
          767,
          768,
          769,
          770,
          771,
          772,
          773,
          774,
          775,
          776,
          777,
          778,
          779,
          780,
          781,
          782,
          783,
          784,
          785,
          786,
          787,
          788,
          789,
          790,
          791,
          792,
          793,
          794,
          795,
          796,
          797,
          798,
          799,
          800,
          801,
          802,
          803,
          804,
          805,
          806,
          807,
          808,
          809,
          810,
          811,
          812,
          813,
          814,
          815,
          816,
          817,
          818,
          819,
          820,
          821,
          822,
          823,
          824,
          825,
          826,
          827,
          828,
          829,
          830,
          831,
          832,
          833,
          834,
          835,
          836,
          837,
          838,
          839,
          840,
          841,
          842,
          843,
          844,
          845,
          846,
          847,
          848,
          849,
          850,
          851,
          852,
          853,
          854,
          855,
          856,
          857,
          858,
          859,
          860,
          861,
          862,
          863,
          864,
          865,
          866,
          867,
          868,
          869,
          870,
          871,
          872,
          873,
          874,
          875,
          876,
          877,
          878,
          879,
          880,
          881,
          882,
          883,
          884,
          885,
          886,
          887,
          888,
          889,
          890,
          891,
          892,
          893,
          894,
          895,
          896,
          897,
          898,
          899,
          900,
          901,
          902,
          903,
          904,
          905,
          906,
          907,
          908,
          909,
          910,
          911,
          912,
          913,
          914,
          915,
          916,
          917,
          918,
          919,
          920,
          921,
          922,
          923,
          924,
          925,
          926,
          927,
          928,
          929,
          930,
          931,
          932,
          933,
          934,
          935,
          936,
          937,
          938,
          939,
          940,
          941,
          942,
          943,
          944,
          945,
          946,
          947,
          948,
          949,
          950,
          951,
          952,
          953,
          954,
          955,
          956,
          957,
          958,
          959,
          960,
          961,
          962,
          963,
          964,
          965,
          966,
          967,
          968,
          969,
          970,
          971,
          972,
          973,
          974,
          975,
          976,
          977,
          978,
          979,
          980,
          981,
          982,
          983,
          984,
          985,
          986,
          987,
          988,
          989,
          990,
          991,
          992,
          993,
          994,
          995,
          996,
          997,
          998,
          999,
          1000,
          1001,
          1002,
          1003,
          1004,
          1005,
          1006,
          1007,
          1008,
          1009,
          1010,
          1011,
          1012,
          1013,
          1014,
          1015,
          1016,
          1017,
          1018,
          1019,
          1020,
          1021,
          1022,
          1023,
          1024,
          1025,
          1026,
          1027,
          1028,
          1029,
          1030,
          1031,
          1032,
          1033,
          1034,
          1035,
          1036,
          1037,
          1038,
          1039,
          1040,
          1041,
          1042,
          1043,
          1044,
          1045,
          1046,
          1047,
          1048,
          1049,
          1050,
          1051,
          1052,
          1053,
          1054,
          1055,
          1056,
          1057,
          1058,
          1059,
          1060,
          1061,
          1062,
          1063,
          1064,
          1065,
          1066,
          1067,
          1068,
          1069,
          1070,
          1071,
          1072,
          1073,
          1074,
          1075,
          1076,
          1077,
          1078,
          1079,
          1080,
          1081,
          1082,
          1083,
          1084,
          1085,
          1086,
          1087,
          1088,
          1089,
          1090,
          1091,
          1092,
          1093,
          1094,
          1095,
          1096,
          1097,
          1098,
          1099,
          1100,
          1101,
          1102,
          1103,
          1104,
          1105,
          1106,
          1107,
          1108,
          1109,
          1110,
          1111,
          1112,
          1113,
          1114,
          1115,
          1116,
          1117,
          1118,
          1119,
          1120,
          1121,
          1122,
          1123,
          1124,
          1125,
          1126,
          1127,
          1128,
          1129,
          1130,
          1131,
          1132,
          1133,
          1134,
          1135,
          1136,
          1137,
          1138,
          1139,
          1140,
          1141,
          1142,
          1143,
          1144,
          1145,
          1146,
          1147,
          1148,
          1149,
          1150,
          1151,
          1152,
          1153,
          1154,
          1155,
          1156,
          1157,
          1158,
          1159,
          1160,
          1161,
          1162,
          1163,
          1164,
          1165,
          1166,
          1167,
          1168,
          1169,
          1170,
          1171,
          1172,
          1173,
          1174,
          1175,
          1176,
          1177,
          1178,
          1179,
          1180,
          1181,
          1182,
          1183,
          1184,
          1185,
          1186,
          1187,
          1188,
          1189,
          1190,
          1191,
          1192,
          1193,
          1194,
          1195,
          1196,
          1197,
          1198,
          1199,
          1200,
          1201,
          1202,
          1203,
          1204,
          1205,
          1206,
          1207,
          1208,
          1209,
          1210,
          1211,
          1212,
          1213,
          1214,
          1215,
          1216,
          1217,
          1218,
          1219,
          1220,
          1221,
          1222,
          1223,
          1224,
          1225,
          1226,
          1227,
          1228,
          1229,
          1230,
          1231,
          1232,
          1233,
          1234,
          1235,
          1236,
          1237,
          1238,
          1239,
          1240,
          1241,
          1242,
          1243,
          1244,
          1245,
          1246,
          1247,
          1248,
          1249,
          1250,
          1251,
          1252,
          1253,
          1254,
          1255,
          1256,
          1257,
          1258,
          1259,
          1260,
          1261,
          1262,
          1263,
          1264,
          1265,
          1266,
          1267,
          1268,
          1269,
          1270,
          1271,
          1272,
          1273,
          1274,
          1275,
          1276,
          1277,
          1278,
          1279,
          1280,
          1281,
          1282,
          1283,
          1284,
          1285,
          1286,
          1287,
          1288,
          1289,
          1290,
          1291,
          1292,
          1293,
          1294,
          1295,
          1296,
          1297,
          1298,
          1299,
          1300,
          1301,
          1302,
          1303,
          1304,
          1305,
          1306,
          1307,
          1308,
          1309,
          1310,
          1311,
          1312,
          1313,
          1314,
          1315,
          1316,
          1317,
          1318,
          1319,
          1320,
          1321,
          1322,
          1323,
          1324,
          1325,
          1326,
          1327,
          1328,
          1329,
          1330,
          1331,
          1332,
          1333,
          1334,
          1335,
          1336,
          1337,
          1338,
          1339,
          1340,
          1341,
          1342,
          1343,
          1344,
          1345,
          1346,
          1347,
          1348,
          1349,
          1350,
          1351,
          1352,
          1353,
          1354,
          1355,
          1356,
          1357,
          1358,
          1359,
          1360,
          1361,
          1362,
          1363,
          1364,
          1365,
          1366,
          1367,
          1368,
          1369,
          1370,
          1371,
          1372,
          1373,
          1374,
          1375,
          1376,
          1377,
          1378,
          1379,
          1380,
          1381,
          1382,
          1383,
          1384,
          1385,
          1386,
          1387,
          1388,
          1389,
          1390,
          1391,
          1392,
          1393,
          1394,
          1395,
          1396,
          1397,
          1398,
          1399,
          1400,
          1401,
          1402,
          1403,
          1404,
          1405,
          1406,
          1407,
          1408,
          1409,
          1410,
          1411,
          1412,
          1413,
          1414,
          1415,
          1416,
          1417,
          1418,
          1419,
          1420,
          1421,
          1422,
          1423,
          1424,
          1425,
          1426,
          1427,
          1428,
          1429,
          1430,
          1431,
          1432,
          1433,
          1434,
          1435,
          1436,
          1437,
          1438,
          1439,
          1440,
          1441,
          1442,
          1443,
          1444,
          1445,
          1446,
          1447,
          1448,
          1449,
          1450,
          1451,
          1452,
          1453,
          1454,
          1455,
          1456,
          1457,
          1458,
          1459,
          1460,
          1461,
          1462,
          1463,
          1464,
          1465,
          1466,
          1467,
          1468,
          1469,
          1470,
          1471,
          1472,
          1473,
          1474,
          1475,
          1476,
          1477,
          1478,
          1479,
          1480,
          1481,
          1482,
          1483,
          1484,
          1485,
          1486,
          1487,
          1488,
          1489,
          1490,
          1491,
          1492,
          1493,
          1494,
          1495,
          1496,
          1497,
          1498,
          1499,
          1500,
          1501,
          1502,
          1503,
          1504,
          1505,
          1506,
          1507,
          1508,
          1509,
          1510,
          1511,
          1512,
          1513,
          1514,
          1515,
          1516,
          1517,
          1518,
          1519,
          1520,
          1521,
          1522,
          1523,
          1524,
          1525,
          1526,
          1527,
          1528,
          1529,
          1530,
          1531,
          1532,
          1533,
          1534,
          1535,
          1536,
          1537,
          1538,
          1539,
          1540,
          1541,
          1542,
          1543,
          1544,
          1545,
          1546,
          1547,
          1548,
          1549,
          1550,
          1551,
          1552,
          1553,
          1554,
          1555,
          1556,
          1557,
          1558,
          1559,
          1560,
          1561,
          1562,
          1563,
          1564,
          1565,
          1566,
          1567,
          1568,
          1569,
          1570,
          1571,
          1572,
          1573,
          1574,
          1575,
          1576,
          1577,
          1578,
          1579,
          1580,
          1581,
          1582,
          1583,
          1584,
          1585,
          1586,
          1587,
          1588,
          1589,
          1590,
          1591,
          1592,
          1593,
          1594,
          1595,
          1596,
          1597,
          1598,
          1599,
          1600,
          1601,
          1602,
          1603,
          1604,
          1605,
          1606,
          1607,
          1608,
          1609,
          1610,
          1611,
          1612,
          1613,
          1614,
          1615,
          1616,
          1617,
          1618,
          1619,
          1620,
          1621,
          1622,
          1623,
          1624,
          1625,
          1626,
          1627,
          1628,
          1629,
          1630,
          1631,
          1632,
          1633,
          1634,
          1635,
          1636,
          1637,
          1638,
          1639,
          1640,
          1641,
          1642,
          1643,
          1644,
          1645,
          1646,
          1647,
          1648,
          1649,
          1650,
          1651,
          1652,
          1653,
          1654,
          1655,
          1656,
          1657,
          1658,
          1659,
          1660,
          1661,
          1662,
          1663,
          1664,
          1665,
          1666,
          1667,
          1668,
          1669,
          1670,
          1671,
          1672,
          1673,
          1674,
          1675,
          1676,
          1677,
          1678,
          1679,
          1680,
          1681,
          1682,
          1683,
          1684,
          1685,
          1686,
          1687,
          1688,
          1689,
          1690,
          1691,
          1692,
          1693,
          1694,
          1695,
          1696,
          1697,
          1698,
          1699,
          1700,
          1701,
          1702,
          1703,
          1704,
          1705,
          1706,
          1707,
          1708,
          1709,
          1710,
          1711,
          1712,
          1713,
          1714,
          1715,
          1716,
          1717,
          1718,
          1719,
          1720,
          1721,
          1722,
          1723,
          1724,
          1725,
          1726,
          1727,
          1728,
          1729,
          1730,
          1731,
          1732,
          1733,
          1734,
          1735,
          1736,
          1737,
          1738,
          1739,
          1740,
          1741,
          1742,
          1743,
          1744,
          1745,
          1746,
          1747,
          1748,
          1749,
          1750,
          1751,
          1752,
          1753,
          1754,
          1755,
          1756,
          1757,
          1758,
          1759,
          1760,
          1761,
          1762,
          1763,
          1764,
          1765,
          1766,
          1767,
          1768,
          1769,
          1770,
          1771,
          1772,
          1773,
          1774,
          1775,
          1776,
          1777,
          1778,
          1779,
          1780,
          1781,
          1782,
          1783,
          1784,
          1785,
          1786,
          1787,
          1788,
          1789,
          1790,
          1791,
          1792,
          1793,
          1794,
          1795,
          1796,
          1797,
          1798,
          1799,
          1800,
          1801,
          1802,
          1803,
          1804,
          1805,
          1806,
          1807,
          1808,
          1809,
          1810,
          1811,
          1812,
          1813,
          1814,
          1815,
          1816,
          1817,
          1818,
          1819,
          1820,
          1821,
          1822,
          1823,
          1824,
          1825,
          1826,
          1827,
          1828,
          1829,
          1830,
          1831,
          1832,
          1833,
          1834,
          1835,
          1836,
          1837,
          1838,
          1839,
          1840,
          1841,
          1842,
          1843,
          1844,
          1845,
          1846,
          1847,
          1848,
          1849,
          1850,
          1851,
          1852,
          1853,
          1854,
          1855,
          1856,
          1857,
          1858,
          1859,
          1860,
          1861,
          1862,
          1863,
          1864,
          1865,
          1866,
          1867,
          1868,
          1869,
          1870,
          1871,
          1872,
          1873,
          1874,
          1875,
          1876,
          1877,
          1878,
          1879,
          1880,
          1881,
          1882,
          1883,
          1884,
          1885,
          1886,
          1887,
          1888,
          1889,
          1890,
          1891,
          1892,
          1893,
          1894,
          1895,
          1896,
          1897,
          1898,
          1899,
          1900,
          1901,
          1902,
          1903,
          1904,
          1905,
          1906,
          1907,
          1908,
          1909,
          1910,
          1911,
          1912,
          1913,
          1914,
          1915,
          1916,
          1917,
          1918,
          1919,
          1920,
          1921,
          1922,
          1923,
          1924,
          1925,
          1926,
          1927,
          1928,
          1929,
          1930,
          1931,
          1932,
          1933,
          1934,
          1935,
          1936,
          1937,
          1938,
          1939,
          1940,
          1941,
          1942,
          1943,
          1944,
          1945,
          1946,
          1947,
          1948,
          1949,
          1950,
          1951,
          1952,
          1953,
          1954,
          1955,
          1956,
          1957,
          1958,
          1959,
          1960,
          1961,
          1962,
          1963,
          1964,
          1965,
          1966,
          1967,
          1968,
          1969,
          1970,
          1971,
          1972,
          1973,
          1974,
          1975,
          1976,
          1977,
          1978,
          1979,
          1980,
          1981,
          1982,
          1983,
          1984,
          1985,
          1986,
          1987,
          1988,
          1989,
          1990,
          1991,
          1992,
          1993,
          1994,
          1995,
          1996,
          1997,
          1998,
          1999,
          2000
         ],
         "yaxis": "y"
        }
       ],
       "layout": {
        "legend": {
         "tracegroupgap": 0
        },
        "template": {
         "data": {
          "bar": [
           {
            "error_x": {
             "color": "#2a3f5f"
            },
            "error_y": {
             "color": "#2a3f5f"
            },
            "marker": {
             "line": {
              "color": "#E5ECF6",
              "width": 0.5
             },
             "pattern": {
              "fillmode": "overlay",
              "size": 10,
              "solidity": 0.2
             }
            },
            "type": "bar"
           }
          ],
          "barpolar": [
           {
            "marker": {
             "line": {
              "color": "#E5ECF6",
              "width": 0.5
             },
             "pattern": {
              "fillmode": "overlay",
              "size": 10,
              "solidity": 0.2
             }
            },
            "type": "barpolar"
           }
          ],
          "carpet": [
           {
            "aaxis": {
             "endlinecolor": "#2a3f5f",
             "gridcolor": "white",
             "linecolor": "white",
             "minorgridcolor": "white",
             "startlinecolor": "#2a3f5f"
            },
            "baxis": {
             "endlinecolor": "#2a3f5f",
             "gridcolor": "white",
             "linecolor": "white",
             "minorgridcolor": "white",
             "startlinecolor": "#2a3f5f"
            },
            "type": "carpet"
           }
          ],
          "choropleth": [
           {
            "colorbar": {
             "outlinewidth": 0,
             "ticks": ""
            },
            "type": "choropleth"
           }
          ],
          "contour": [
           {
            "colorbar": {
             "outlinewidth": 0,
             "ticks": ""
            },
            "colorscale": [
             [
              0,
              "#0d0887"
             ],
             [
              0.1111111111111111,
              "#46039f"
             ],
             [
              0.2222222222222222,
              "#7201a8"
             ],
             [
              0.3333333333333333,
              "#9c179e"
             ],
             [
              0.4444444444444444,
              "#bd3786"
             ],
             [
              0.5555555555555556,
              "#d8576b"
             ],
             [
              0.6666666666666666,
              "#ed7953"
             ],
             [
              0.7777777777777778,
              "#fb9f3a"
             ],
             [
              0.8888888888888888,
              "#fdca26"
             ],
             [
              1,
              "#f0f921"
             ]
            ],
            "type": "contour"
           }
          ],
          "contourcarpet": [
           {
            "colorbar": {
             "outlinewidth": 0,
             "ticks": ""
            },
            "type": "contourcarpet"
           }
          ],
          "heatmap": [
           {
            "colorbar": {
             "outlinewidth": 0,
             "ticks": ""
            },
            "colorscale": [
             [
              0,
              "#0d0887"
             ],
             [
              0.1111111111111111,
              "#46039f"
             ],
             [
              0.2222222222222222,
              "#7201a8"
             ],
             [
              0.3333333333333333,
              "#9c179e"
             ],
             [
              0.4444444444444444,
              "#bd3786"
             ],
             [
              0.5555555555555556,
              "#d8576b"
             ],
             [
              0.6666666666666666,
              "#ed7953"
             ],
             [
              0.7777777777777778,
              "#fb9f3a"
             ],
             [
              0.8888888888888888,
              "#fdca26"
             ],
             [
              1,
              "#f0f921"
             ]
            ],
            "type": "heatmap"
           }
          ],
          "heatmapgl": [
           {
            "colorbar": {
             "outlinewidth": 0,
             "ticks": ""
            },
            "colorscale": [
             [
              0,
              "#0d0887"
             ],
             [
              0.1111111111111111,
              "#46039f"
             ],
             [
              0.2222222222222222,
              "#7201a8"
             ],
             [
              0.3333333333333333,
              "#9c179e"
             ],
             [
              0.4444444444444444,
              "#bd3786"
             ],
             [
              0.5555555555555556,
              "#d8576b"
             ],
             [
              0.6666666666666666,
              "#ed7953"
             ],
             [
              0.7777777777777778,
              "#fb9f3a"
             ],
             [
              0.8888888888888888,
              "#fdca26"
             ],
             [
              1,
              "#f0f921"
             ]
            ],
            "type": "heatmapgl"
           }
          ],
          "histogram": [
           {
            "marker": {
             "pattern": {
              "fillmode": "overlay",
              "size": 10,
              "solidity": 0.2
             }
            },
            "type": "histogram"
           }
          ],
          "histogram2d": [
           {
            "colorbar": {
             "outlinewidth": 0,
             "ticks": ""
            },
            "colorscale": [
             [
              0,
              "#0d0887"
             ],
             [
              0.1111111111111111,
              "#46039f"
             ],
             [
              0.2222222222222222,
              "#7201a8"
             ],
             [
              0.3333333333333333,
              "#9c179e"
             ],
             [
              0.4444444444444444,
              "#bd3786"
             ],
             [
              0.5555555555555556,
              "#d8576b"
             ],
             [
              0.6666666666666666,
              "#ed7953"
             ],
             [
              0.7777777777777778,
              "#fb9f3a"
             ],
             [
              0.8888888888888888,
              "#fdca26"
             ],
             [
              1,
              "#f0f921"
             ]
            ],
            "type": "histogram2d"
           }
          ],
          "histogram2dcontour": [
           {
            "colorbar": {
             "outlinewidth": 0,
             "ticks": ""
            },
            "colorscale": [
             [
              0,
              "#0d0887"
             ],
             [
              0.1111111111111111,
              "#46039f"
             ],
             [
              0.2222222222222222,
              "#7201a8"
             ],
             [
              0.3333333333333333,
              "#9c179e"
             ],
             [
              0.4444444444444444,
              "#bd3786"
             ],
             [
              0.5555555555555556,
              "#d8576b"
             ],
             [
              0.6666666666666666,
              "#ed7953"
             ],
             [
              0.7777777777777778,
              "#fb9f3a"
             ],
             [
              0.8888888888888888,
              "#fdca26"
             ],
             [
              1,
              "#f0f921"
             ]
            ],
            "type": "histogram2dcontour"
           }
          ],
          "mesh3d": [
           {
            "colorbar": {
             "outlinewidth": 0,
             "ticks": ""
            },
            "type": "mesh3d"
           }
          ],
          "parcoords": [
           {
            "line": {
             "colorbar": {
              "outlinewidth": 0,
              "ticks": ""
             }
            },
            "type": "parcoords"
           }
          ],
          "pie": [
           {
            "automargin": true,
            "type": "pie"
           }
          ],
          "scatter": [
           {
            "fillpattern": {
             "fillmode": "overlay",
             "size": 10,
             "solidity": 0.2
            },
            "type": "scatter"
           }
          ],
          "scatter3d": [
           {
            "line": {
             "colorbar": {
              "outlinewidth": 0,
              "ticks": ""
             }
            },
            "marker": {
             "colorbar": {
              "outlinewidth": 0,
              "ticks": ""
             }
            },
            "type": "scatter3d"
           }
          ],
          "scattercarpet": [
           {
            "marker": {
             "colorbar": {
              "outlinewidth": 0,
              "ticks": ""
             }
            },
            "type": "scattercarpet"
           }
          ],
          "scattergeo": [
           {
            "marker": {
             "colorbar": {
              "outlinewidth": 0,
              "ticks": ""
             }
            },
            "type": "scattergeo"
           }
          ],
          "scattergl": [
           {
            "marker": {
             "colorbar": {
              "outlinewidth": 0,
              "ticks": ""
             }
            },
            "type": "scattergl"
           }
          ],
          "scattermapbox": [
           {
            "marker": {
             "colorbar": {
              "outlinewidth": 0,
              "ticks": ""
             }
            },
            "type": "scattermapbox"
           }
          ],
          "scatterpolar": [
           {
            "marker": {
             "colorbar": {
              "outlinewidth": 0,
              "ticks": ""
             }
            },
            "type": "scatterpolar"
           }
          ],
          "scatterpolargl": [
           {
            "marker": {
             "colorbar": {
              "outlinewidth": 0,
              "ticks": ""
             }
            },
            "type": "scatterpolargl"
           }
          ],
          "scatterternary": [
           {
            "marker": {
             "colorbar": {
              "outlinewidth": 0,
              "ticks": ""
             }
            },
            "type": "scatterternary"
           }
          ],
          "surface": [
           {
            "colorbar": {
             "outlinewidth": 0,
             "ticks": ""
            },
            "colorscale": [
             [
              0,
              "#0d0887"
             ],
             [
              0.1111111111111111,
              "#46039f"
             ],
             [
              0.2222222222222222,
              "#7201a8"
             ],
             [
              0.3333333333333333,
              "#9c179e"
             ],
             [
              0.4444444444444444,
              "#bd3786"
             ],
             [
              0.5555555555555556,
              "#d8576b"
             ],
             [
              0.6666666666666666,
              "#ed7953"
             ],
             [
              0.7777777777777778,
              "#fb9f3a"
             ],
             [
              0.8888888888888888,
              "#fdca26"
             ],
             [
              1,
              "#f0f921"
             ]
            ],
            "type": "surface"
           }
          ],
          "table": [
           {
            "cells": {
             "fill": {
              "color": "#EBF0F8"
             },
             "line": {
              "color": "white"
             }
            },
            "header": {
             "fill": {
              "color": "#C8D4E3"
             },
             "line": {
              "color": "white"
             }
            },
            "type": "table"
           }
          ]
         },
         "layout": {
          "annotationdefaults": {
           "arrowcolor": "#2a3f5f",
           "arrowhead": 0,
           "arrowwidth": 1
          },
          "autotypenumbers": "strict",
          "coloraxis": {
           "colorbar": {
            "outlinewidth": 0,
            "ticks": ""
           }
          },
          "colorscale": {
           "diverging": [
            [
             0,
             "#8e0152"
            ],
            [
             0.1,
             "#c51b7d"
            ],
            [
             0.2,
             "#de77ae"
            ],
            [
             0.3,
             "#f1b6da"
            ],
            [
             0.4,
             "#fde0ef"
            ],
            [
             0.5,
             "#f7f7f7"
            ],
            [
             0.6,
             "#e6f5d0"
            ],
            [
             0.7,
             "#b8e186"
            ],
            [
             0.8,
             "#7fbc41"
            ],
            [
             0.9,
             "#4d9221"
            ],
            [
             1,
             "#276419"
            ]
           ],
           "sequential": [
            [
             0,
             "#0d0887"
            ],
            [
             0.1111111111111111,
             "#46039f"
            ],
            [
             0.2222222222222222,
             "#7201a8"
            ],
            [
             0.3333333333333333,
             "#9c179e"
            ],
            [
             0.4444444444444444,
             "#bd3786"
            ],
            [
             0.5555555555555556,
             "#d8576b"
            ],
            [
             0.6666666666666666,
             "#ed7953"
            ],
            [
             0.7777777777777778,
             "#fb9f3a"
            ],
            [
             0.8888888888888888,
             "#fdca26"
            ],
            [
             1,
             "#f0f921"
            ]
           ],
           "sequentialminus": [
            [
             0,
             "#0d0887"
            ],
            [
             0.1111111111111111,
             "#46039f"
            ],
            [
             0.2222222222222222,
             "#7201a8"
            ],
            [
             0.3333333333333333,
             "#9c179e"
            ],
            [
             0.4444444444444444,
             "#bd3786"
            ],
            [
             0.5555555555555556,
             "#d8576b"
            ],
            [
             0.6666666666666666,
             "#ed7953"
            ],
            [
             0.7777777777777778,
             "#fb9f3a"
            ],
            [
             0.8888888888888888,
             "#fdca26"
            ],
            [
             1,
             "#f0f921"
            ]
           ]
          },
          "colorway": [
           "#636efa",
           "#EF553B",
           "#00cc96",
           "#ab63fa",
           "#FFA15A",
           "#19d3f3",
           "#FF6692",
           "#B6E880",
           "#FF97FF",
           "#FECB52"
          ],
          "font": {
           "color": "#2a3f5f"
          },
          "geo": {
           "bgcolor": "white",
           "lakecolor": "white",
           "landcolor": "#E5ECF6",
           "showlakes": true,
           "showland": true,
           "subunitcolor": "white"
          },
          "hoverlabel": {
           "align": "left"
          },
          "hovermode": "closest",
          "mapbox": {
           "style": "light"
          },
          "paper_bgcolor": "white",
          "plot_bgcolor": "#E5ECF6",
          "polar": {
           "angularaxis": {
            "gridcolor": "white",
            "linecolor": "white",
            "ticks": ""
           },
           "bgcolor": "#E5ECF6",
           "radialaxis": {
            "gridcolor": "white",
            "linecolor": "white",
            "ticks": ""
           }
          },
          "scene": {
           "xaxis": {
            "backgroundcolor": "#E5ECF6",
            "gridcolor": "white",
            "gridwidth": 2,
            "linecolor": "white",
            "showbackground": true,
            "ticks": "",
            "zerolinecolor": "white"
           },
           "yaxis": {
            "backgroundcolor": "#E5ECF6",
            "gridcolor": "white",
            "gridwidth": 2,
            "linecolor": "white",
            "showbackground": true,
            "ticks": "",
            "zerolinecolor": "white"
           },
           "zaxis": {
            "backgroundcolor": "#E5ECF6",
            "gridcolor": "white",
            "gridwidth": 2,
            "linecolor": "white",
            "showbackground": true,
            "ticks": "",
            "zerolinecolor": "white"
           }
          },
          "shapedefaults": {
           "line": {
            "color": "#2a3f5f"
           }
          },
          "ternary": {
           "aaxis": {
            "gridcolor": "white",
            "linecolor": "white",
            "ticks": ""
           },
           "baxis": {
            "gridcolor": "white",
            "linecolor": "white",
            "ticks": ""
           },
           "bgcolor": "#E5ECF6",
           "caxis": {
            "gridcolor": "white",
            "linecolor": "white",
            "ticks": ""
           }
          },
          "title": {
           "x": 0.05
          },
          "xaxis": {
           "automargin": true,
           "gridcolor": "white",
           "linecolor": "white",
           "ticks": "",
           "title": {
            "standoff": 15
           },
           "zerolinecolor": "white",
           "zerolinewidth": 2
          },
          "yaxis": {
           "automargin": true,
           "gridcolor": "white",
           "linecolor": "white",
           "ticks": "",
           "title": {
            "standoff": 15
           },
           "zerolinecolor": "white",
           "zerolinewidth": 2
          }
         }
        },
        "title": {
         "text": "Correlation: 0.35269227232624406"
        },
        "xaxis": {
         "anchor": "y",
         "domain": [
          0,
          1
         ],
         "title": {
          "text": "National Rank"
         }
        },
        "yaxis": {
         "anchor": "x",
         "domain": [
          0,
          1
         ],
         "title": {
          "text": "World Rank"
         }
        }
       }
      }
     },
     "metadata": {},
     "output_type": "display_data"
    }
   ],
   "source": [
    "# Calculate the correlation coefficient\n",
    "correlation = df_WRU_Relevent['National Rank'].corr(df_WRU_Relevent['World Rank'])\n",
    "\n",
    "# Plotting\n",
    "fig = px.scatter(df_WRU_Relevent, x='National Rank', y='World Rank', title=f'Correlation: {correlation}')\n",
    "fig.show()"
   ]
  },
  {
   "cell_type": "markdown",
   "metadata": {},
   "source": [
    "##### We can recommend a country that appears to have a high concentration of top-ranked universities by this calculation."
   ]
  },
  {
   "cell_type": "code",
   "execution_count": null,
   "metadata": {},
   "outputs": [
    {
     "name": "stdout",
     "output_type": "stream",
     "text": [
      "Recommended country with a high concentration of top-ranked universities: Netherlands\n"
     ]
    }
   ],
   "source": [
    "# Calculate the average global ranking for each country\n",
    "average_ranking_by_country = df_WRU_Relevent.groupby('Location')['World Rank'].mean().sort_values()\n",
    "\n",
    "# Recommend a country with a high concentration of top-ranked universities\n",
    "recommended_country = average_ranking_by_country.idxmin()\n",
    "print(\"Recommended country with a high concentration of top-ranked universities:\", recommended_country)\n"
   ]
  },
  {
   "cell_type": "markdown",
   "metadata": {},
   "source": [
    "##### which country has a high concentration of top-ranked universities based on their average world rank."
   ]
  },
  {
   "cell_type": "code",
   "execution_count": null,
   "metadata": {},
   "outputs": [
    {
     "data": {
      "application/vnd.plotly.v1+json": {
       "config": {
        "plotlyServerURL": "https://plot.ly"
       },
       "data": [
        {
         "alignmentgroup": "True",
         "hovertemplate": "Location=%{x}<br>Average World Rank=%{y}<extra></extra>",
         "legendgroup": "",
         "marker": {
          "color": "#636efa",
          "pattern": {
           "shape": ""
          }
         },
         "name": "",
         "offsetgroup": "",
         "orientation": "v",
         "showlegend": false,
         "textposition": "auto",
         "type": "bar",
         "x": [
          "Netherlands",
          "Switzerland",
          "Denmark",
          "Belgium",
          "Iceland",
          "Israel",
          "Singapore",
          "Germany",
          "Finland",
          "Australia",
          "Canada",
          "Ireland",
          "United Kingdom",
          "Italy",
          "USA",
          "New Zealand",
          "Austria",
          "Luxembourg",
          "Armenia",
          "South Africa",
          "Sweden",
          "Spain",
          "France",
          "Hungary",
          "Uruguay",
          "Uganda",
          "South Korea",
          "China",
          "Portugal",
          "Norway",
          "Morocco",
          "Greece",
          "Czech Republic",
          "Slovenia",
          "Belarus",
          "United Arab Emirates",
          "Taiwan",
          "Malaysia",
          "Qatar",
          "Japan",
          "Brazil",
          "Serbia",
          "Croatia",
          "Thailand",
          "Russia",
          "Bulgaria",
          "Estonia",
          "Cyprus",
          "Sultanate of Oman",
          "Poland",
          "Pakistan",
          "Mexico",
          "Argentina",
          "Lebanon",
          "Romania",
          "Ghana",
          "India",
          "Chile",
          "Jordan",
          "Colombia",
          "Georgia",
          "Kuwait",
          "Costa Rica",
          "Iran",
          "Tunisia",
          "Saudi Arabia",
          "Cameroon",
          "Egypt",
          "Malawi",
          "Lithuania",
          "Turkey",
          "Kenya",
          "Slovak Republic",
          "Azerbaijan",
          "Vietnam",
          "Ukraine",
          "Ethiopia",
          "Peru",
          "Zambia",
          "Philippines",
          "Sri Lanka",
          "Kazakhstan",
          "Nigeria",
          "Latvia",
          "Malta",
          "Ecuador",
          "Bangladesh",
          "Northern Cyprus",
          "Zimbabwe",
          "Indonesia",
          "Nepal",
          "Tanzania",
          "Palestine",
          "Algeria",
          "North Macedonia"
         ],
         "xaxis": "x",
         "y": [
          341.42857142857144,
          499.38461538461536,
          538.5714285714286,
          580.3636363636364,
          603,
          616.8888888888889,
          623.5,
          649.231884057971,
          651.4,
          683.3846153846154,
          743.275,
          754.25,
          781.8817204301075,
          785.9090909090909,
          793.1867469879518,
          798.375,
          821.625,
          830,
          850,
          850.0833333333334,
          854.5,
          854.8846153846154,
          904.1447368421053,
          934,
          937,
          950,
          970.1578947368421,
          1040.3566878980891,
          1042.8461538461538,
          1057.6923076923076,
          1059.5,
          1070.1666666666667,
          1084.5454545454545,
          1133.3333333333333,
          1152,
          1156.3333333333333,
          1158.4545454545455,
          1167.3333333333333,
          1172.5,
          1176.5,
          1177.7407407407406,
          1192.25,
          1219.5,
          1226.6,
          1230.2558139534883,
          1231.5,
          1236.6666666666667,
          1249,
          1263,
          1270.425,
          1273.8,
          1284.3529411764705,
          1298.625,
          1303.5,
          1308,
          1311.5,
          1316.65625,
          1318.6666666666667,
          1325.5,
          1336.4285714285713,
          1340,
          1343,
          1352,
          1357.9756097560976,
          1358.2,
          1363.6875,
          1366,
          1370.4,
          1389,
          1405.3333333333333,
          1408.5454545454545,
          1425,
          1431.5,
          1460,
          1460.6666666666667,
          1552.6666666666667,
          1564.6,
          1565.5,
          1578,
          1631.3333333333333,
          1640,
          1675,
          1675.75,
          1684,
          1684,
          1693,
          1729,
          1747,
          1776,
          1787,
          1824,
          1920,
          1946,
          1962.5,
          1990
         ],
         "yaxis": "y"
        }
       ],
       "layout": {
        "barmode": "relative",
        "legend": {
         "tracegroupgap": 0
        },
        "template": {
         "data": {
          "bar": [
           {
            "error_x": {
             "color": "#2a3f5f"
            },
            "error_y": {
             "color": "#2a3f5f"
            },
            "marker": {
             "line": {
              "color": "#E5ECF6",
              "width": 0.5
             },
             "pattern": {
              "fillmode": "overlay",
              "size": 10,
              "solidity": 0.2
             }
            },
            "type": "bar"
           }
          ],
          "barpolar": [
           {
            "marker": {
             "line": {
              "color": "#E5ECF6",
              "width": 0.5
             },
             "pattern": {
              "fillmode": "overlay",
              "size": 10,
              "solidity": 0.2
             }
            },
            "type": "barpolar"
           }
          ],
          "carpet": [
           {
            "aaxis": {
             "endlinecolor": "#2a3f5f",
             "gridcolor": "white",
             "linecolor": "white",
             "minorgridcolor": "white",
             "startlinecolor": "#2a3f5f"
            },
            "baxis": {
             "endlinecolor": "#2a3f5f",
             "gridcolor": "white",
             "linecolor": "white",
             "minorgridcolor": "white",
             "startlinecolor": "#2a3f5f"
            },
            "type": "carpet"
           }
          ],
          "choropleth": [
           {
            "colorbar": {
             "outlinewidth": 0,
             "ticks": ""
            },
            "type": "choropleth"
           }
          ],
          "contour": [
           {
            "colorbar": {
             "outlinewidth": 0,
             "ticks": ""
            },
            "colorscale": [
             [
              0,
              "#0d0887"
             ],
             [
              0.1111111111111111,
              "#46039f"
             ],
             [
              0.2222222222222222,
              "#7201a8"
             ],
             [
              0.3333333333333333,
              "#9c179e"
             ],
             [
              0.4444444444444444,
              "#bd3786"
             ],
             [
              0.5555555555555556,
              "#d8576b"
             ],
             [
              0.6666666666666666,
              "#ed7953"
             ],
             [
              0.7777777777777778,
              "#fb9f3a"
             ],
             [
              0.8888888888888888,
              "#fdca26"
             ],
             [
              1,
              "#f0f921"
             ]
            ],
            "type": "contour"
           }
          ],
          "contourcarpet": [
           {
            "colorbar": {
             "outlinewidth": 0,
             "ticks": ""
            },
            "type": "contourcarpet"
           }
          ],
          "heatmap": [
           {
            "colorbar": {
             "outlinewidth": 0,
             "ticks": ""
            },
            "colorscale": [
             [
              0,
              "#0d0887"
             ],
             [
              0.1111111111111111,
              "#46039f"
             ],
             [
              0.2222222222222222,
              "#7201a8"
             ],
             [
              0.3333333333333333,
              "#9c179e"
             ],
             [
              0.4444444444444444,
              "#bd3786"
             ],
             [
              0.5555555555555556,
              "#d8576b"
             ],
             [
              0.6666666666666666,
              "#ed7953"
             ],
             [
              0.7777777777777778,
              "#fb9f3a"
             ],
             [
              0.8888888888888888,
              "#fdca26"
             ],
             [
              1,
              "#f0f921"
             ]
            ],
            "type": "heatmap"
           }
          ],
          "heatmapgl": [
           {
            "colorbar": {
             "outlinewidth": 0,
             "ticks": ""
            },
            "colorscale": [
             [
              0,
              "#0d0887"
             ],
             [
              0.1111111111111111,
              "#46039f"
             ],
             [
              0.2222222222222222,
              "#7201a8"
             ],
             [
              0.3333333333333333,
              "#9c179e"
             ],
             [
              0.4444444444444444,
              "#bd3786"
             ],
             [
              0.5555555555555556,
              "#d8576b"
             ],
             [
              0.6666666666666666,
              "#ed7953"
             ],
             [
              0.7777777777777778,
              "#fb9f3a"
             ],
             [
              0.8888888888888888,
              "#fdca26"
             ],
             [
              1,
              "#f0f921"
             ]
            ],
            "type": "heatmapgl"
           }
          ],
          "histogram": [
           {
            "marker": {
             "pattern": {
              "fillmode": "overlay",
              "size": 10,
              "solidity": 0.2
             }
            },
            "type": "histogram"
           }
          ],
          "histogram2d": [
           {
            "colorbar": {
             "outlinewidth": 0,
             "ticks": ""
            },
            "colorscale": [
             [
              0,
              "#0d0887"
             ],
             [
              0.1111111111111111,
              "#46039f"
             ],
             [
              0.2222222222222222,
              "#7201a8"
             ],
             [
              0.3333333333333333,
              "#9c179e"
             ],
             [
              0.4444444444444444,
              "#bd3786"
             ],
             [
              0.5555555555555556,
              "#d8576b"
             ],
             [
              0.6666666666666666,
              "#ed7953"
             ],
             [
              0.7777777777777778,
              "#fb9f3a"
             ],
             [
              0.8888888888888888,
              "#fdca26"
             ],
             [
              1,
              "#f0f921"
             ]
            ],
            "type": "histogram2d"
           }
          ],
          "histogram2dcontour": [
           {
            "colorbar": {
             "outlinewidth": 0,
             "ticks": ""
            },
            "colorscale": [
             [
              0,
              "#0d0887"
             ],
             [
              0.1111111111111111,
              "#46039f"
             ],
             [
              0.2222222222222222,
              "#7201a8"
             ],
             [
              0.3333333333333333,
              "#9c179e"
             ],
             [
              0.4444444444444444,
              "#bd3786"
             ],
             [
              0.5555555555555556,
              "#d8576b"
             ],
             [
              0.6666666666666666,
              "#ed7953"
             ],
             [
              0.7777777777777778,
              "#fb9f3a"
             ],
             [
              0.8888888888888888,
              "#fdca26"
             ],
             [
              1,
              "#f0f921"
             ]
            ],
            "type": "histogram2dcontour"
           }
          ],
          "mesh3d": [
           {
            "colorbar": {
             "outlinewidth": 0,
             "ticks": ""
            },
            "type": "mesh3d"
           }
          ],
          "parcoords": [
           {
            "line": {
             "colorbar": {
              "outlinewidth": 0,
              "ticks": ""
             }
            },
            "type": "parcoords"
           }
          ],
          "pie": [
           {
            "automargin": true,
            "type": "pie"
           }
          ],
          "scatter": [
           {
            "fillpattern": {
             "fillmode": "overlay",
             "size": 10,
             "solidity": 0.2
            },
            "type": "scatter"
           }
          ],
          "scatter3d": [
           {
            "line": {
             "colorbar": {
              "outlinewidth": 0,
              "ticks": ""
             }
            },
            "marker": {
             "colorbar": {
              "outlinewidth": 0,
              "ticks": ""
             }
            },
            "type": "scatter3d"
           }
          ],
          "scattercarpet": [
           {
            "marker": {
             "colorbar": {
              "outlinewidth": 0,
              "ticks": ""
             }
            },
            "type": "scattercarpet"
           }
          ],
          "scattergeo": [
           {
            "marker": {
             "colorbar": {
              "outlinewidth": 0,
              "ticks": ""
             }
            },
            "type": "scattergeo"
           }
          ],
          "scattergl": [
           {
            "marker": {
             "colorbar": {
              "outlinewidth": 0,
              "ticks": ""
             }
            },
            "type": "scattergl"
           }
          ],
          "scattermapbox": [
           {
            "marker": {
             "colorbar": {
              "outlinewidth": 0,
              "ticks": ""
             }
            },
            "type": "scattermapbox"
           }
          ],
          "scatterpolar": [
           {
            "marker": {
             "colorbar": {
              "outlinewidth": 0,
              "ticks": ""
             }
            },
            "type": "scatterpolar"
           }
          ],
          "scatterpolargl": [
           {
            "marker": {
             "colorbar": {
              "outlinewidth": 0,
              "ticks": ""
             }
            },
            "type": "scatterpolargl"
           }
          ],
          "scatterternary": [
           {
            "marker": {
             "colorbar": {
              "outlinewidth": 0,
              "ticks": ""
             }
            },
            "type": "scatterternary"
           }
          ],
          "surface": [
           {
            "colorbar": {
             "outlinewidth": 0,
             "ticks": ""
            },
            "colorscale": [
             [
              0,
              "#0d0887"
             ],
             [
              0.1111111111111111,
              "#46039f"
             ],
             [
              0.2222222222222222,
              "#7201a8"
             ],
             [
              0.3333333333333333,
              "#9c179e"
             ],
             [
              0.4444444444444444,
              "#bd3786"
             ],
             [
              0.5555555555555556,
              "#d8576b"
             ],
             [
              0.6666666666666666,
              "#ed7953"
             ],
             [
              0.7777777777777778,
              "#fb9f3a"
             ],
             [
              0.8888888888888888,
              "#fdca26"
             ],
             [
              1,
              "#f0f921"
             ]
            ],
            "type": "surface"
           }
          ],
          "table": [
           {
            "cells": {
             "fill": {
              "color": "#EBF0F8"
             },
             "line": {
              "color": "white"
             }
            },
            "header": {
             "fill": {
              "color": "#C8D4E3"
             },
             "line": {
              "color": "white"
             }
            },
            "type": "table"
           }
          ]
         },
         "layout": {
          "annotationdefaults": {
           "arrowcolor": "#2a3f5f",
           "arrowhead": 0,
           "arrowwidth": 1
          },
          "autotypenumbers": "strict",
          "coloraxis": {
           "colorbar": {
            "outlinewidth": 0,
            "ticks": ""
           }
          },
          "colorscale": {
           "diverging": [
            [
             0,
             "#8e0152"
            ],
            [
             0.1,
             "#c51b7d"
            ],
            [
             0.2,
             "#de77ae"
            ],
            [
             0.3,
             "#f1b6da"
            ],
            [
             0.4,
             "#fde0ef"
            ],
            [
             0.5,
             "#f7f7f7"
            ],
            [
             0.6,
             "#e6f5d0"
            ],
            [
             0.7,
             "#b8e186"
            ],
            [
             0.8,
             "#7fbc41"
            ],
            [
             0.9,
             "#4d9221"
            ],
            [
             1,
             "#276419"
            ]
           ],
           "sequential": [
            [
             0,
             "#0d0887"
            ],
            [
             0.1111111111111111,
             "#46039f"
            ],
            [
             0.2222222222222222,
             "#7201a8"
            ],
            [
             0.3333333333333333,
             "#9c179e"
            ],
            [
             0.4444444444444444,
             "#bd3786"
            ],
            [
             0.5555555555555556,
             "#d8576b"
            ],
            [
             0.6666666666666666,
             "#ed7953"
            ],
            [
             0.7777777777777778,
             "#fb9f3a"
            ],
            [
             0.8888888888888888,
             "#fdca26"
            ],
            [
             1,
             "#f0f921"
            ]
           ],
           "sequentialminus": [
            [
             0,
             "#0d0887"
            ],
            [
             0.1111111111111111,
             "#46039f"
            ],
            [
             0.2222222222222222,
             "#7201a8"
            ],
            [
             0.3333333333333333,
             "#9c179e"
            ],
            [
             0.4444444444444444,
             "#bd3786"
            ],
            [
             0.5555555555555556,
             "#d8576b"
            ],
            [
             0.6666666666666666,
             "#ed7953"
            ],
            [
             0.7777777777777778,
             "#fb9f3a"
            ],
            [
             0.8888888888888888,
             "#fdca26"
            ],
            [
             1,
             "#f0f921"
            ]
           ]
          },
          "colorway": [
           "#636efa",
           "#EF553B",
           "#00cc96",
           "#ab63fa",
           "#FFA15A",
           "#19d3f3",
           "#FF6692",
           "#B6E880",
           "#FF97FF",
           "#FECB52"
          ],
          "font": {
           "color": "#2a3f5f"
          },
          "geo": {
           "bgcolor": "white",
           "lakecolor": "white",
           "landcolor": "#E5ECF6",
           "showlakes": true,
           "showland": true,
           "subunitcolor": "white"
          },
          "hoverlabel": {
           "align": "left"
          },
          "hovermode": "closest",
          "mapbox": {
           "style": "light"
          },
          "paper_bgcolor": "white",
          "plot_bgcolor": "#E5ECF6",
          "polar": {
           "angularaxis": {
            "gridcolor": "white",
            "linecolor": "white",
            "ticks": ""
           },
           "bgcolor": "#E5ECF6",
           "radialaxis": {
            "gridcolor": "white",
            "linecolor": "white",
            "ticks": ""
           }
          },
          "scene": {
           "xaxis": {
            "backgroundcolor": "#E5ECF6",
            "gridcolor": "white",
            "gridwidth": 2,
            "linecolor": "white",
            "showbackground": true,
            "ticks": "",
            "zerolinecolor": "white"
           },
           "yaxis": {
            "backgroundcolor": "#E5ECF6",
            "gridcolor": "white",
            "gridwidth": 2,
            "linecolor": "white",
            "showbackground": true,
            "ticks": "",
            "zerolinecolor": "white"
           },
           "zaxis": {
            "backgroundcolor": "#E5ECF6",
            "gridcolor": "white",
            "gridwidth": 2,
            "linecolor": "white",
            "showbackground": true,
            "ticks": "",
            "zerolinecolor": "white"
           }
          },
          "shapedefaults": {
           "line": {
            "color": "#2a3f5f"
           }
          },
          "ternary": {
           "aaxis": {
            "gridcolor": "white",
            "linecolor": "white",
            "ticks": ""
           },
           "baxis": {
            "gridcolor": "white",
            "linecolor": "white",
            "ticks": ""
           },
           "bgcolor": "#E5ECF6",
           "caxis": {
            "gridcolor": "white",
            "linecolor": "white",
            "ticks": ""
           }
          },
          "title": {
           "x": 0.05
          },
          "xaxis": {
           "automargin": true,
           "gridcolor": "white",
           "linecolor": "white",
           "ticks": "",
           "title": {
            "standoff": 15
           },
           "zerolinecolor": "white",
           "zerolinewidth": 2
          },
          "yaxis": {
           "automargin": true,
           "gridcolor": "white",
           "linecolor": "white",
           "ticks": "",
           "title": {
            "standoff": 15
           },
           "zerolinecolor": "white",
           "zerolinewidth": 2
          }
         }
        },
        "title": {
         "text": "Average World Ranking of Universities by Country"
        },
        "xaxis": {
         "anchor": "y",
         "domain": [
          0,
          1
         ],
         "title": {
          "text": "Location"
         }
        },
        "yaxis": {
         "anchor": "x",
         "domain": [
          0,
          1
         ],
         "title": {
          "text": "Average World Rank"
         }
        }
       }
      }
     },
     "metadata": {},
     "output_type": "display_data"
    }
   ],
   "source": [
    "average_ranking_by_country = df_WRU_Relevent.groupby('Location')['World Rank'].mean().sort_values()\n",
    "\n",
    "# Plotting\n",
    "fig = px.bar(average_ranking_by_country, x=average_ranking_by_country.index, y=average_ranking_by_country.values,\n",
    "             labels={'x': 'Country', 'y': 'Average World Rank'},\n",
    "             title='Average World Ranking of Universities by Country')\n",
    "fig.show()"
   ]
  },
  {
   "cell_type": "markdown",
   "metadata": {},
   "source": []
  },
  {
   "cell_type": "markdown",
   "metadata": {},
   "source": [
    "##### Which countries have the highest number of universities among the top 100 universities in the world?"
   ]
  },
  {
   "cell_type": "code",
   "execution_count": null,
   "metadata": {},
   "outputs": [
    {
     "data": {
      "application/vnd.plotly.v1+json": {
       "config": {
        "plotlyServerURL": "https://plot.ly"
       },
       "data": [
        {
         "alignmentgroup": "True",
         "hovertemplate": "Country=%{x}<br>Number of Universities=%{y}<extra></extra>",
         "legendgroup": "",
         "marker": {
          "color": "#636efa",
          "pattern": {
           "shape": ""
          }
         },
         "name": "",
         "offsetgroup": "",
         "orientation": "v",
         "showlegend": false,
         "textposition": "auto",
         "type": "bar",
         "x": [
          "USA",
          "United Kingdom",
          "China",
          "Germany",
          "France",
          "Canada",
          "Netherlands",
          "Japan",
          "Switzerland",
          "Australia",
          "Israel",
          "Sweden",
          "Denmark",
          "Norway",
          "Singapore",
          "South Korea"
         ],
         "xaxis": "x",
         "y": [
          50,
          9,
          6,
          6,
          5,
          4,
          4,
          3,
          3,
          2,
          2,
          2,
          1,
          1,
          1,
          1
         ],
         "yaxis": "y"
        }
       ],
       "layout": {
        "barmode": "relative",
        "legend": {
         "tracegroupgap": 0
        },
        "template": {
         "data": {
          "bar": [
           {
            "error_x": {
             "color": "#2a3f5f"
            },
            "error_y": {
             "color": "#2a3f5f"
            },
            "marker": {
             "line": {
              "color": "#E5ECF6",
              "width": 0.5
             },
             "pattern": {
              "fillmode": "overlay",
              "size": 10,
              "solidity": 0.2
             }
            },
            "type": "bar"
           }
          ],
          "barpolar": [
           {
            "marker": {
             "line": {
              "color": "#E5ECF6",
              "width": 0.5
             },
             "pattern": {
              "fillmode": "overlay",
              "size": 10,
              "solidity": 0.2
             }
            },
            "type": "barpolar"
           }
          ],
          "carpet": [
           {
            "aaxis": {
             "endlinecolor": "#2a3f5f",
             "gridcolor": "white",
             "linecolor": "white",
             "minorgridcolor": "white",
             "startlinecolor": "#2a3f5f"
            },
            "baxis": {
             "endlinecolor": "#2a3f5f",
             "gridcolor": "white",
             "linecolor": "white",
             "minorgridcolor": "white",
             "startlinecolor": "#2a3f5f"
            },
            "type": "carpet"
           }
          ],
          "choropleth": [
           {
            "colorbar": {
             "outlinewidth": 0,
             "ticks": ""
            },
            "type": "choropleth"
           }
          ],
          "contour": [
           {
            "colorbar": {
             "outlinewidth": 0,
             "ticks": ""
            },
            "colorscale": [
             [
              0,
              "#0d0887"
             ],
             [
              0.1111111111111111,
              "#46039f"
             ],
             [
              0.2222222222222222,
              "#7201a8"
             ],
             [
              0.3333333333333333,
              "#9c179e"
             ],
             [
              0.4444444444444444,
              "#bd3786"
             ],
             [
              0.5555555555555556,
              "#d8576b"
             ],
             [
              0.6666666666666666,
              "#ed7953"
             ],
             [
              0.7777777777777778,
              "#fb9f3a"
             ],
             [
              0.8888888888888888,
              "#fdca26"
             ],
             [
              1,
              "#f0f921"
             ]
            ],
            "type": "contour"
           }
          ],
          "contourcarpet": [
           {
            "colorbar": {
             "outlinewidth": 0,
             "ticks": ""
            },
            "type": "contourcarpet"
           }
          ],
          "heatmap": [
           {
            "colorbar": {
             "outlinewidth": 0,
             "ticks": ""
            },
            "colorscale": [
             [
              0,
              "#0d0887"
             ],
             [
              0.1111111111111111,
              "#46039f"
             ],
             [
              0.2222222222222222,
              "#7201a8"
             ],
             [
              0.3333333333333333,
              "#9c179e"
             ],
             [
              0.4444444444444444,
              "#bd3786"
             ],
             [
              0.5555555555555556,
              "#d8576b"
             ],
             [
              0.6666666666666666,
              "#ed7953"
             ],
             [
              0.7777777777777778,
              "#fb9f3a"
             ],
             [
              0.8888888888888888,
              "#fdca26"
             ],
             [
              1,
              "#f0f921"
             ]
            ],
            "type": "heatmap"
           }
          ],
          "heatmapgl": [
           {
            "colorbar": {
             "outlinewidth": 0,
             "ticks": ""
            },
            "colorscale": [
             [
              0,
              "#0d0887"
             ],
             [
              0.1111111111111111,
              "#46039f"
             ],
             [
              0.2222222222222222,
              "#7201a8"
             ],
             [
              0.3333333333333333,
              "#9c179e"
             ],
             [
              0.4444444444444444,
              "#bd3786"
             ],
             [
              0.5555555555555556,
              "#d8576b"
             ],
             [
              0.6666666666666666,
              "#ed7953"
             ],
             [
              0.7777777777777778,
              "#fb9f3a"
             ],
             [
              0.8888888888888888,
              "#fdca26"
             ],
             [
              1,
              "#f0f921"
             ]
            ],
            "type": "heatmapgl"
           }
          ],
          "histogram": [
           {
            "marker": {
             "pattern": {
              "fillmode": "overlay",
              "size": 10,
              "solidity": 0.2
             }
            },
            "type": "histogram"
           }
          ],
          "histogram2d": [
           {
            "colorbar": {
             "outlinewidth": 0,
             "ticks": ""
            },
            "colorscale": [
             [
              0,
              "#0d0887"
             ],
             [
              0.1111111111111111,
              "#46039f"
             ],
             [
              0.2222222222222222,
              "#7201a8"
             ],
             [
              0.3333333333333333,
              "#9c179e"
             ],
             [
              0.4444444444444444,
              "#bd3786"
             ],
             [
              0.5555555555555556,
              "#d8576b"
             ],
             [
              0.6666666666666666,
              "#ed7953"
             ],
             [
              0.7777777777777778,
              "#fb9f3a"
             ],
             [
              0.8888888888888888,
              "#fdca26"
             ],
             [
              1,
              "#f0f921"
             ]
            ],
            "type": "histogram2d"
           }
          ],
          "histogram2dcontour": [
           {
            "colorbar": {
             "outlinewidth": 0,
             "ticks": ""
            },
            "colorscale": [
             [
              0,
              "#0d0887"
             ],
             [
              0.1111111111111111,
              "#46039f"
             ],
             [
              0.2222222222222222,
              "#7201a8"
             ],
             [
              0.3333333333333333,
              "#9c179e"
             ],
             [
              0.4444444444444444,
              "#bd3786"
             ],
             [
              0.5555555555555556,
              "#d8576b"
             ],
             [
              0.6666666666666666,
              "#ed7953"
             ],
             [
              0.7777777777777778,
              "#fb9f3a"
             ],
             [
              0.8888888888888888,
              "#fdca26"
             ],
             [
              1,
              "#f0f921"
             ]
            ],
            "type": "histogram2dcontour"
           }
          ],
          "mesh3d": [
           {
            "colorbar": {
             "outlinewidth": 0,
             "ticks": ""
            },
            "type": "mesh3d"
           }
          ],
          "parcoords": [
           {
            "line": {
             "colorbar": {
              "outlinewidth": 0,
              "ticks": ""
             }
            },
            "type": "parcoords"
           }
          ],
          "pie": [
           {
            "automargin": true,
            "type": "pie"
           }
          ],
          "scatter": [
           {
            "fillpattern": {
             "fillmode": "overlay",
             "size": 10,
             "solidity": 0.2
            },
            "type": "scatter"
           }
          ],
          "scatter3d": [
           {
            "line": {
             "colorbar": {
              "outlinewidth": 0,
              "ticks": ""
             }
            },
            "marker": {
             "colorbar": {
              "outlinewidth": 0,
              "ticks": ""
             }
            },
            "type": "scatter3d"
           }
          ],
          "scattercarpet": [
           {
            "marker": {
             "colorbar": {
              "outlinewidth": 0,
              "ticks": ""
             }
            },
            "type": "scattercarpet"
           }
          ],
          "scattergeo": [
           {
            "marker": {
             "colorbar": {
              "outlinewidth": 0,
              "ticks": ""
             }
            },
            "type": "scattergeo"
           }
          ],
          "scattergl": [
           {
            "marker": {
             "colorbar": {
              "outlinewidth": 0,
              "ticks": ""
             }
            },
            "type": "scattergl"
           }
          ],
          "scattermapbox": [
           {
            "marker": {
             "colorbar": {
              "outlinewidth": 0,
              "ticks": ""
             }
            },
            "type": "scattermapbox"
           }
          ],
          "scatterpolar": [
           {
            "marker": {
             "colorbar": {
              "outlinewidth": 0,
              "ticks": ""
             }
            },
            "type": "scatterpolar"
           }
          ],
          "scatterpolargl": [
           {
            "marker": {
             "colorbar": {
              "outlinewidth": 0,
              "ticks": ""
             }
            },
            "type": "scatterpolargl"
           }
          ],
          "scatterternary": [
           {
            "marker": {
             "colorbar": {
              "outlinewidth": 0,
              "ticks": ""
             }
            },
            "type": "scatterternary"
           }
          ],
          "surface": [
           {
            "colorbar": {
             "outlinewidth": 0,
             "ticks": ""
            },
            "colorscale": [
             [
              0,
              "#0d0887"
             ],
             [
              0.1111111111111111,
              "#46039f"
             ],
             [
              0.2222222222222222,
              "#7201a8"
             ],
             [
              0.3333333333333333,
              "#9c179e"
             ],
             [
              0.4444444444444444,
              "#bd3786"
             ],
             [
              0.5555555555555556,
              "#d8576b"
             ],
             [
              0.6666666666666666,
              "#ed7953"
             ],
             [
              0.7777777777777778,
              "#fb9f3a"
             ],
             [
              0.8888888888888888,
              "#fdca26"
             ],
             [
              1,
              "#f0f921"
             ]
            ],
            "type": "surface"
           }
          ],
          "table": [
           {
            "cells": {
             "fill": {
              "color": "#EBF0F8"
             },
             "line": {
              "color": "white"
             }
            },
            "header": {
             "fill": {
              "color": "#C8D4E3"
             },
             "line": {
              "color": "white"
             }
            },
            "type": "table"
           }
          ]
         },
         "layout": {
          "annotationdefaults": {
           "arrowcolor": "#2a3f5f",
           "arrowhead": 0,
           "arrowwidth": 1
          },
          "autotypenumbers": "strict",
          "coloraxis": {
           "colorbar": {
            "outlinewidth": 0,
            "ticks": ""
           }
          },
          "colorscale": {
           "diverging": [
            [
             0,
             "#8e0152"
            ],
            [
             0.1,
             "#c51b7d"
            ],
            [
             0.2,
             "#de77ae"
            ],
            [
             0.3,
             "#f1b6da"
            ],
            [
             0.4,
             "#fde0ef"
            ],
            [
             0.5,
             "#f7f7f7"
            ],
            [
             0.6,
             "#e6f5d0"
            ],
            [
             0.7,
             "#b8e186"
            ],
            [
             0.8,
             "#7fbc41"
            ],
            [
             0.9,
             "#4d9221"
            ],
            [
             1,
             "#276419"
            ]
           ],
           "sequential": [
            [
             0,
             "#0d0887"
            ],
            [
             0.1111111111111111,
             "#46039f"
            ],
            [
             0.2222222222222222,
             "#7201a8"
            ],
            [
             0.3333333333333333,
             "#9c179e"
            ],
            [
             0.4444444444444444,
             "#bd3786"
            ],
            [
             0.5555555555555556,
             "#d8576b"
            ],
            [
             0.6666666666666666,
             "#ed7953"
            ],
            [
             0.7777777777777778,
             "#fb9f3a"
            ],
            [
             0.8888888888888888,
             "#fdca26"
            ],
            [
             1,
             "#f0f921"
            ]
           ],
           "sequentialminus": [
            [
             0,
             "#0d0887"
            ],
            [
             0.1111111111111111,
             "#46039f"
            ],
            [
             0.2222222222222222,
             "#7201a8"
            ],
            [
             0.3333333333333333,
             "#9c179e"
            ],
            [
             0.4444444444444444,
             "#bd3786"
            ],
            [
             0.5555555555555556,
             "#d8576b"
            ],
            [
             0.6666666666666666,
             "#ed7953"
            ],
            [
             0.7777777777777778,
             "#fb9f3a"
            ],
            [
             0.8888888888888888,
             "#fdca26"
            ],
            [
             1,
             "#f0f921"
            ]
           ]
          },
          "colorway": [
           "#636efa",
           "#EF553B",
           "#00cc96",
           "#ab63fa",
           "#FFA15A",
           "#19d3f3",
           "#FF6692",
           "#B6E880",
           "#FF97FF",
           "#FECB52"
          ],
          "font": {
           "color": "#2a3f5f"
          },
          "geo": {
           "bgcolor": "white",
           "lakecolor": "white",
           "landcolor": "#E5ECF6",
           "showlakes": true,
           "showland": true,
           "subunitcolor": "white"
          },
          "hoverlabel": {
           "align": "left"
          },
          "hovermode": "closest",
          "mapbox": {
           "style": "light"
          },
          "paper_bgcolor": "white",
          "plot_bgcolor": "#E5ECF6",
          "polar": {
           "angularaxis": {
            "gridcolor": "white",
            "linecolor": "white",
            "ticks": ""
           },
           "bgcolor": "#E5ECF6",
           "radialaxis": {
            "gridcolor": "white",
            "linecolor": "white",
            "ticks": ""
           }
          },
          "scene": {
           "xaxis": {
            "backgroundcolor": "#E5ECF6",
            "gridcolor": "white",
            "gridwidth": 2,
            "linecolor": "white",
            "showbackground": true,
            "ticks": "",
            "zerolinecolor": "white"
           },
           "yaxis": {
            "backgroundcolor": "#E5ECF6",
            "gridcolor": "white",
            "gridwidth": 2,
            "linecolor": "white",
            "showbackground": true,
            "ticks": "",
            "zerolinecolor": "white"
           },
           "zaxis": {
            "backgroundcolor": "#E5ECF6",
            "gridcolor": "white",
            "gridwidth": 2,
            "linecolor": "white",
            "showbackground": true,
            "ticks": "",
            "zerolinecolor": "white"
           }
          },
          "shapedefaults": {
           "line": {
            "color": "#2a3f5f"
           }
          },
          "ternary": {
           "aaxis": {
            "gridcolor": "white",
            "linecolor": "white",
            "ticks": ""
           },
           "baxis": {
            "gridcolor": "white",
            "linecolor": "white",
            "ticks": ""
           },
           "bgcolor": "#E5ECF6",
           "caxis": {
            "gridcolor": "white",
            "linecolor": "white",
            "ticks": ""
           }
          },
          "title": {
           "x": 0.05
          },
          "xaxis": {
           "automargin": true,
           "gridcolor": "white",
           "linecolor": "white",
           "ticks": "",
           "title": {
            "standoff": 15
           },
           "zerolinecolor": "white",
           "zerolinewidth": 2
          },
          "yaxis": {
           "automargin": true,
           "gridcolor": "white",
           "linecolor": "white",
           "ticks": "",
           "title": {
            "standoff": 15
           },
           "zerolinecolor": "white",
           "zerolinewidth": 2
          }
         }
        },
        "title": {
         "text": "Number of Top 100 Universities by Country"
        },
        "xaxis": {
         "anchor": "y",
         "domain": [
          0,
          1
         ],
         "title": {
          "text": "Country"
         }
        },
        "yaxis": {
         "anchor": "x",
         "domain": [
          0,
          1
         ],
         "title": {
          "text": "Number of Universities"
         }
        }
       }
      }
     },
     "metadata": {},
     "output_type": "display_data"
    }
   ],
   "source": [
    "import plotly.express as px\n",
    "\n",
    "# Group the data by 'Location' and count the number of universities in each country\n",
    "country_counts = df_WRU_Relevent.head(100).groupby('Location').size().reset_index(name='Count')\n",
    "\n",
    "# Sort the data by 'Count' in descending order\n",
    "country_counts_sorted = country_counts.sort_values('Count', ascending=False)\n",
    "\n",
    "# Create a bar chart\n",
    "fig = px.bar(country_counts_sorted, x='Location', y='Count',\n",
    "             labels={'Location': 'Country', 'Count': 'Number of Universities'},\n",
    "             title='Number of Top 100 Universities by Country')\n",
    "fig.show()\n"
   ]
  },
  {
   "cell_type": "markdown",
   "metadata": {},
   "source": [
    "# Seconde Data : Times Higher Education"
   ]
  },
  {
   "cell_type": "markdown",
   "metadata": {},
   "source": [
    "### Data profiling"
   ]
  },
  {
   "cell_type": "code",
   "execution_count": null,
   "metadata": {},
   "outputs": [
    {
     "data": {
      "text/html": [
       "<div>\n",
       "<style scoped>\n",
       "    .dataframe tbody tr th:only-of-type {\n",
       "        vertical-align: middle;\n",
       "    }\n",
       "\n",
       "    .dataframe tbody tr th {\n",
       "        vertical-align: top;\n",
       "    }\n",
       "\n",
       "    .dataframe thead th {\n",
       "        text-align: right;\n",
       "    }\n",
       "</style>\n",
       "<table border=\"1\" class=\"dataframe\">\n",
       "  <thead>\n",
       "    <tr style=\"text-align: right;\">\n",
       "      <th></th>\n",
       "      <th>Rank</th>\n",
       "      <th>University Name</th>\n",
       "      <th>ranking-institution-title href</th>\n",
       "      <th>Location</th>\n",
       "      <th>sdg-score-multi__number</th>\n",
       "      <th>sdg-score-multi__value</th>\n",
       "      <th>sdg-score-multi__number 2</th>\n",
       "      <th>sdg-score-multi__value 2</th>\n",
       "      <th>sdg-score-multi__number 3</th>\n",
       "      <th>sdg-score-multi__value 3</th>\n",
       "      <th>sdg-score-multi__value 4</th>\n",
       "      <th>scores</th>\n",
       "      <th>sdg-score-multi__number 5</th>\n",
       "      <th>sdg-score-multi__value 5</th>\n",
       "      <th>sdg-score-multi__number 6</th>\n",
       "      <th>sdg-score-multi__value 6</th>\n",
       "      <th>sdg-score-multi__number 7</th>\n",
       "      <th>sdg-score-multi__value 7</th>\n",
       "      <th>sdg-score-multi__number 8</th>\n",
       "      <th>sdg-score-multi__value 8</th>\n",
       "    </tr>\n",
       "  </thead>\n",
       "  <tbody>\n",
       "    <tr>\n",
       "      <th>95</th>\n",
       "      <td>96</td>\n",
       "      <td>Iowa State University</td>\n",
       "      <td>https://www.timeshighereducation.com/world-uni...</td>\n",
       "      <td>United States</td>\n",
       "      <td>11.0</td>\n",
       "      <td>78.8</td>\n",
       "      <td>NaN</td>\n",
       "      <td>NaN</td>\n",
       "      <td>NaN</td>\n",
       "      <td>NaN</td>\n",
       "      <td>87.7</td>\n",
       "      <td>88.7</td>\n",
       "      <td>2.0</td>\n",
       "      <td>88.9</td>\n",
       "      <td>NaN</td>\n",
       "      <td>NaN</td>\n",
       "      <td>7.0</td>\n",
       "      <td>76.8</td>\n",
       "      <td>NaN</td>\n",
       "      <td>NaN</td>\n",
       "    </tr>\n",
       "    <tr>\n",
       "      <th>96</th>\n",
       "      <td>=97</td>\n",
       "      <td>Khon Kaen University</td>\n",
       "      <td>https://www.timeshighereducation.com/world-uni...</td>\n",
       "      <td>Thailand</td>\n",
       "      <td>2.0</td>\n",
       "      <td>85.9</td>\n",
       "      <td>1.0</td>\n",
       "      <td>79.3</td>\n",
       "      <td>NaN</td>\n",
       "      <td>NaN</td>\n",
       "      <td>87.0</td>\n",
       "      <td>88.6</td>\n",
       "      <td>5.0</td>\n",
       "      <td>71.2</td>\n",
       "      <td>NaN</td>\n",
       "      <td>NaN</td>\n",
       "      <td>NaN</td>\n",
       "      <td>NaN</td>\n",
       "      <td>NaN</td>\n",
       "      <td>NaN</td>\n",
       "    </tr>\n",
       "    <tr>\n",
       "      <th>97</th>\n",
       "      <td>=97</td>\n",
       "      <td>Shanghai University</td>\n",
       "      <td>https://www.timeshighereducation.com/world-uni...</td>\n",
       "      <td>China</td>\n",
       "      <td>NaN</td>\n",
       "      <td>NaN</td>\n",
       "      <td>NaN</td>\n",
       "      <td>NaN</td>\n",
       "      <td>NaN</td>\n",
       "      <td>NaN</td>\n",
       "      <td>75.6–81.7</td>\n",
       "      <td>88.6</td>\n",
       "      <td>NaN</td>\n",
       "      <td>NaN</td>\n",
       "      <td>9.0</td>\n",
       "      <td>99.7</td>\n",
       "      <td>7.0</td>\n",
       "      <td>79.2</td>\n",
       "      <td>8.0</td>\n",
       "      <td>66.4–71.5</td>\n",
       "    </tr>\n",
       "    <tr>\n",
       "      <th>98</th>\n",
       "      <td>99</td>\n",
       "      <td>University of Toronto</td>\n",
       "      <td>https://www.timeshighereducation.com/world-uni...</td>\n",
       "      <td>Canada</td>\n",
       "      <td>9.0</td>\n",
       "      <td>89.2</td>\n",
       "      <td>10.0</td>\n",
       "      <td>79.2</td>\n",
       "      <td>12.0</td>\n",
       "      <td>82.2</td>\n",
       "      <td>89.5</td>\n",
       "      <td>88.4</td>\n",
       "      <td>NaN</td>\n",
       "      <td>NaN</td>\n",
       "      <td>NaN</td>\n",
       "      <td>NaN</td>\n",
       "      <td>NaN</td>\n",
       "      <td>NaN</td>\n",
       "      <td>NaN</td>\n",
       "      <td>NaN</td>\n",
       "    </tr>\n",
       "    <tr>\n",
       "      <th>99</th>\n",
       "      <td>=100</td>\n",
       "      <td>Dalhousie University</td>\n",
       "      <td>https://www.timeshighereducation.com/world-uni...</td>\n",
       "      <td>Canada</td>\n",
       "      <td>12.0</td>\n",
       "      <td>88.7</td>\n",
       "      <td>14.0</td>\n",
       "      <td>92.0</td>\n",
       "      <td>NaN</td>\n",
       "      <td>NaN</td>\n",
       "      <td>81.9–86.9</td>\n",
       "      <td>88.3</td>\n",
       "      <td>6.0</td>\n",
       "      <td>84.1</td>\n",
       "      <td>NaN</td>\n",
       "      <td>NaN</td>\n",
       "      <td>NaN</td>\n",
       "      <td>NaN</td>\n",
       "      <td>NaN</td>\n",
       "      <td>NaN</td>\n",
       "    </tr>\n",
       "    <tr>\n",
       "      <th>100</th>\n",
       "      <td>=100</td>\n",
       "      <td>Florida International University</td>\n",
       "      <td>https://www.timeshighereducation.com/world-uni...</td>\n",
       "      <td>United States</td>\n",
       "      <td>14.0</td>\n",
       "      <td>95.9</td>\n",
       "      <td>NaN</td>\n",
       "      <td>NaN</td>\n",
       "      <td>15.0</td>\n",
       "      <td>91.8</td>\n",
       "      <td>91.2</td>\n",
       "      <td>88.3</td>\n",
       "      <td>6.0</td>\n",
       "      <td>87.6</td>\n",
       "      <td>NaN</td>\n",
       "      <td>NaN</td>\n",
       "      <td>NaN</td>\n",
       "      <td>NaN</td>\n",
       "      <td>NaN</td>\n",
       "      <td>NaN</td>\n",
       "    </tr>\n",
       "    <tr>\n",
       "      <th>101</th>\n",
       "      <td>=100</td>\n",
       "      <td>University of Plymouth</td>\n",
       "      <td>https://www.timeshighereducation.com/world-uni...</td>\n",
       "      <td>United Kingdom</td>\n",
       "      <td>NaN</td>\n",
       "      <td>NaN</td>\n",
       "      <td>11.0</td>\n",
       "      <td>83.7</td>\n",
       "      <td>2.0</td>\n",
       "      <td>74.6</td>\n",
       "      <td>81.9–86.9</td>\n",
       "      <td>88.3</td>\n",
       "      <td>NaN</td>\n",
       "      <td>NaN</td>\n",
       "      <td>12.0</td>\n",
       "      <td>83.8</td>\n",
       "      <td>NaN</td>\n",
       "      <td>NaN</td>\n",
       "      <td>NaN</td>\n",
       "      <td>NaN</td>\n",
       "    </tr>\n",
       "    <tr>\n",
       "      <th>102</th>\n",
       "      <td>101–200</td>\n",
       "      <td>Abdullah Gül University</td>\n",
       "      <td>https://www.timeshighereducation.com/world-uni...</td>\n",
       "      <td>Turkey</td>\n",
       "      <td>4.0</td>\n",
       "      <td>73.1</td>\n",
       "      <td>1.0</td>\n",
       "      <td>79.1</td>\n",
       "      <td>11.0</td>\n",
       "      <td>67.1–76.0</td>\n",
       "      <td>89.0</td>\n",
       "      <td>82.2–88.2</td>\n",
       "      <td>NaN</td>\n",
       "      <td>NaN</td>\n",
       "      <td>NaN</td>\n",
       "      <td>NaN</td>\n",
       "      <td>NaN</td>\n",
       "      <td>NaN</td>\n",
       "      <td>NaN</td>\n",
       "      <td>NaN</td>\n",
       "    </tr>\n",
       "    <tr>\n",
       "      <th>103</th>\n",
       "      <td>101–200</td>\n",
       "      <td>Ahlia University</td>\n",
       "      <td>https://www.timeshighereducation.com/world-uni...</td>\n",
       "      <td>Bahrain</td>\n",
       "      <td>10.0</td>\n",
       "      <td>86.4</td>\n",
       "      <td>NaN</td>\n",
       "      <td>NaN</td>\n",
       "      <td>NaN</td>\n",
       "      <td>NaN</td>\n",
       "      <td>81.9–86.9</td>\n",
       "      <td>82.2–88.2</td>\n",
       "      <td>8.0</td>\n",
       "      <td>73.3</td>\n",
       "      <td>NaN</td>\n",
       "      <td>NaN</td>\n",
       "      <td>NaN</td>\n",
       "      <td>NaN</td>\n",
       "      <td>NaN</td>\n",
       "      <td>NaN</td>\n",
       "    </tr>\n",
       "    <tr>\n",
       "      <th>104</th>\n",
       "      <td>101–200</td>\n",
       "      <td>Universitas Airlangga</td>\n",
       "      <td>https://www.timeshighereducation.com/world-uni...</td>\n",
       "      <td>Indonesia</td>\n",
       "      <td>1.0</td>\n",
       "      <td>82.7</td>\n",
       "      <td>5.0</td>\n",
       "      <td>69.3</td>\n",
       "      <td>6.0</td>\n",
       "      <td>75.5</td>\n",
       "      <td>75.6–81.7</td>\n",
       "      <td>82.2–88.2</td>\n",
       "      <td>NaN</td>\n",
       "      <td>NaN</td>\n",
       "      <td>NaN</td>\n",
       "      <td>NaN</td>\n",
       "      <td>NaN</td>\n",
       "      <td>NaN</td>\n",
       "      <td>NaN</td>\n",
       "      <td>NaN</td>\n",
       "    </tr>\n",
       "  </tbody>\n",
       "</table>\n",
       "</div>"
      ],
      "text/plain": [
       "        Rank                  University Name   \\\n",
       "95        96             Iowa State University   \n",
       "96       =97              Khon Kaen University   \n",
       "97       =97               Shanghai University   \n",
       "98        99             University of Toronto   \n",
       "99      =100              Dalhousie University   \n",
       "100     =100  Florida International University   \n",
       "101     =100            University of Plymouth   \n",
       "102  101–200           Abdullah Gül University   \n",
       "103  101–200                  Ahlia University   \n",
       "104  101–200             Universitas Airlangga   \n",
       "\n",
       "                        ranking-institution-title href        Location  \\\n",
       "95   https://www.timeshighereducation.com/world-uni...   United States   \n",
       "96   https://www.timeshighereducation.com/world-uni...        Thailand   \n",
       "97   https://www.timeshighereducation.com/world-uni...           China   \n",
       "98   https://www.timeshighereducation.com/world-uni...          Canada   \n",
       "99   https://www.timeshighereducation.com/world-uni...          Canada   \n",
       "100  https://www.timeshighereducation.com/world-uni...   United States   \n",
       "101  https://www.timeshighereducation.com/world-uni...  United Kingdom   \n",
       "102  https://www.timeshighereducation.com/world-uni...          Turkey   \n",
       "103  https://www.timeshighereducation.com/world-uni...         Bahrain   \n",
       "104  https://www.timeshighereducation.com/world-uni...       Indonesia   \n",
       "\n",
       "     sdg-score-multi__number sdg-score-multi__value  \\\n",
       "95                      11.0                   78.8   \n",
       "96                       2.0                   85.9   \n",
       "97                       NaN                    NaN   \n",
       "98                       9.0                   89.2   \n",
       "99                      12.0                   88.7   \n",
       "100                     14.0                   95.9   \n",
       "101                      NaN                    NaN   \n",
       "102                      4.0                   73.1   \n",
       "103                     10.0                   86.4   \n",
       "104                      1.0                   82.7   \n",
       "\n",
       "     sdg-score-multi__number 2 sdg-score-multi__value 2  \\\n",
       "95                         NaN                      NaN   \n",
       "96                         1.0                     79.3   \n",
       "97                         NaN                      NaN   \n",
       "98                        10.0                     79.2   \n",
       "99                        14.0                     92.0   \n",
       "100                        NaN                      NaN   \n",
       "101                       11.0                     83.7   \n",
       "102                        1.0                     79.1   \n",
       "103                        NaN                      NaN   \n",
       "104                        5.0                     69.3   \n",
       "\n",
       "     sdg-score-multi__number 3 sdg-score-multi__value 3  \\\n",
       "95                         NaN                      NaN   \n",
       "96                         NaN                      NaN   \n",
       "97                         NaN                      NaN   \n",
       "98                        12.0                     82.2   \n",
       "99                         NaN                      NaN   \n",
       "100                       15.0                     91.8   \n",
       "101                        2.0                     74.6   \n",
       "102                       11.0                67.1–76.0   \n",
       "103                        NaN                      NaN   \n",
       "104                        6.0                     75.5   \n",
       "\n",
       "    sdg-score-multi__value 4     scores  sdg-score-multi__number 5  \\\n",
       "95                      87.7       88.7                        2.0   \n",
       "96                      87.0       88.6                        5.0   \n",
       "97                 75.6–81.7       88.6                        NaN   \n",
       "98                      89.5       88.4                        NaN   \n",
       "99                 81.9–86.9       88.3                        6.0   \n",
       "100                     91.2       88.3                        6.0   \n",
       "101                81.9–86.9       88.3                        NaN   \n",
       "102                     89.0  82.2–88.2                        NaN   \n",
       "103                81.9–86.9  82.2–88.2                        8.0   \n",
       "104                75.6–81.7  82.2–88.2                        NaN   \n",
       "\n",
       "    sdg-score-multi__value 5  sdg-score-multi__number 6  \\\n",
       "95                      88.9                        NaN   \n",
       "96                      71.2                        NaN   \n",
       "97                       NaN                        9.0   \n",
       "98                       NaN                        NaN   \n",
       "99                      84.1                        NaN   \n",
       "100                     87.6                        NaN   \n",
       "101                      NaN                       12.0   \n",
       "102                      NaN                        NaN   \n",
       "103                     73.3                        NaN   \n",
       "104                      NaN                        NaN   \n",
       "\n",
       "    sdg-score-multi__value 6  sdg-score-multi__number 7  \\\n",
       "95                       NaN                        7.0   \n",
       "96                       NaN                        NaN   \n",
       "97                      99.7                        7.0   \n",
       "98                       NaN                        NaN   \n",
       "99                       NaN                        NaN   \n",
       "100                      NaN                        NaN   \n",
       "101                     83.8                        NaN   \n",
       "102                      NaN                        NaN   \n",
       "103                      NaN                        NaN   \n",
       "104                      NaN                        NaN   \n",
       "\n",
       "    sdg-score-multi__value 7  sdg-score-multi__number 8  \\\n",
       "95                      76.8                        NaN   \n",
       "96                       NaN                        NaN   \n",
       "97                      79.2                        8.0   \n",
       "98                       NaN                        NaN   \n",
       "99                       NaN                        NaN   \n",
       "100                      NaN                        NaN   \n",
       "101                      NaN                        NaN   \n",
       "102                      NaN                        NaN   \n",
       "103                      NaN                        NaN   \n",
       "104                      NaN                        NaN   \n",
       "\n",
       "    sdg-score-multi__value 8  \n",
       "95                       NaN  \n",
       "96                       NaN  \n",
       "97                 66.4–71.5  \n",
       "98                       NaN  \n",
       "99                       NaN  \n",
       "100                      NaN  \n",
       "101                      NaN  \n",
       "102                      NaN  \n",
       "103                      NaN  \n",
       "104                      NaN  "
      ]
     },
     "execution_count": 214,
     "metadata": {},
     "output_type": "execute_result"
    }
   ],
   "source": [
    "df_THE[95:105]"
   ]
  },
  {
   "cell_type": "code",
   "execution_count": null,
   "metadata": {},
   "outputs": [
    {
     "data": {
      "text/plain": [
       "array(['1', '2', '3', '4', '5', '6', '=7', '=9', '12', '13', '=14', '17',\n",
       "       '=18', '20', '21', '22', '23', '=24', '=26', '28', '=29', '32',\n",
       "       '33', '=34', '=36', '38', '39', '=40', '=42', '=46', '=49', '=52',\n",
       "       '55', '56', '57', '=58', '=61', '63', '=64', '66', '=67', '69',\n",
       "       '70', '71', '=72', '=74', '=77', '=79', '=83', '85', '=86', '91',\n",
       "       '=92', '96', '=97', '99', '=100', '101–200', '201–300', '301–400',\n",
       "       '401–600', '601–800', '801–1000', '1001+'], dtype=object)"
      ]
     },
     "execution_count": 215,
     "metadata": {},
     "output_type": "execute_result"
    }
   ],
   "source": [
    "df_THE['Rank'].unique()"
   ]
  },
  {
   "cell_type": "code",
   "execution_count": null,
   "metadata": {},
   "outputs": [],
   "source": [
    "df_THE['Rank'] = df_THE['Rank'].str.replace('=', '')\n"
   ]
  },
  {
   "cell_type": "code",
   "execution_count": null,
   "metadata": {},
   "outputs": [],
   "source": [
    "df_THE['Rank'] = df_THE['Rank'].str.replace('+', '')\n"
   ]
  },
  {
   "cell_type": "code",
   "execution_count": null,
   "metadata": {},
   "outputs": [
    {
     "data": {
      "text/plain": [
       "array(['1', '2', '3', '4', '5', '6', '7', '9', '12', '13', '14', '17',\n",
       "       '18', '20', '21', '22', '23', '24', '26', '28', '29', '32', '33',\n",
       "       '34', '36', '38', '39', '40', '42', '46', '49', '52', '55', '56',\n",
       "       '57', '58', '61', '63', '64', '66', '67', '69', '70', '71', '72',\n",
       "       '74', '77', '79', '83', '85', '86', '91', '92', '96', '97', '99',\n",
       "       '100', '101–200', '201–300', '301–400', '401–600', '601–800',\n",
       "       '801–1000', '1001'], dtype=object)"
      ]
     },
     "execution_count": 218,
     "metadata": {},
     "output_type": "execute_result"
    }
   ],
   "source": [
    "df_THE['Rank'].unique()"
   ]
  },
  {
   "cell_type": "code",
   "execution_count": null,
   "metadata": {},
   "outputs": [],
   "source": [
    "df_THE['New_Rank'] = df_THE['Rank'].apply(lambda x: (x.split('-')[0]))\n"
   ]
  },
  {
   "cell_type": "code",
   "execution_count": null,
   "metadata": {},
   "outputs": [
    {
     "data": {
      "text/plain": [
       "array(['1', '2', '3', '4', '5', '6', '7', '9', '12', '13', '14', '17',\n",
       "       '18', '20', '21', '22', '23', '24', '26', '28', '29', '32', '33',\n",
       "       '34', '36', '38', '39', '40', '42', '46', '49', '52', '55', '56',\n",
       "       '57', '58', '61', '63', '64', '66', '67', '69', '70', '71', '72',\n",
       "       '74', '77', '79', '83', '85', '86', '91', '92', '96', '97', '99',\n",
       "       '100', '101–200', '201–300', '301–400', '401–600', '601–800',\n",
       "       '801–1000', '1001'], dtype=object)"
      ]
     },
     "execution_count": 220,
     "metadata": {},
     "output_type": "execute_result"
    }
   ],
   "source": [
    "df_THE['New_Rank'].unique()"
   ]
  },
  {
   "cell_type": "code",
   "execution_count": null,
   "metadata": {},
   "outputs": [
    {
     "data": {
      "text/html": [
       "<div>\n",
       "<style scoped>\n",
       "    .dataframe tbody tr th:only-of-type {\n",
       "        vertical-align: middle;\n",
       "    }\n",
       "\n",
       "    .dataframe tbody tr th {\n",
       "        vertical-align: top;\n",
       "    }\n",
       "\n",
       "    .dataframe thead th {\n",
       "        text-align: right;\n",
       "    }\n",
       "</style>\n",
       "<table border=\"1\" class=\"dataframe\">\n",
       "  <thead>\n",
       "    <tr style=\"text-align: right;\">\n",
       "      <th></th>\n",
       "      <th>Rank</th>\n",
       "      <th>University Name</th>\n",
       "      <th>ranking-institution-title href</th>\n",
       "      <th>Location</th>\n",
       "      <th>sdg-score-multi__number</th>\n",
       "      <th>sdg-score-multi__value</th>\n",
       "      <th>sdg-score-multi__number 2</th>\n",
       "      <th>sdg-score-multi__value 2</th>\n",
       "      <th>sdg-score-multi__number 3</th>\n",
       "      <th>sdg-score-multi__value 3</th>\n",
       "      <th>...</th>\n",
       "      <th>sdg-score-multi__number 5</th>\n",
       "      <th>sdg-score-multi__value 5</th>\n",
       "      <th>sdg-score-multi__number 6</th>\n",
       "      <th>sdg-score-multi__value 6</th>\n",
       "      <th>sdg-score-multi__number 7</th>\n",
       "      <th>sdg-score-multi__value 7</th>\n",
       "      <th>sdg-score-multi__number 8</th>\n",
       "      <th>sdg-score-multi__value 8</th>\n",
       "      <th>New_Rank</th>\n",
       "      <th>Nwe_Rank</th>\n",
       "    </tr>\n",
       "  </thead>\n",
       "  <tbody>\n",
       "    <tr>\n",
       "      <th>0</th>\n",
       "      <td>1</td>\n",
       "      <td>Western Sydney University</td>\n",
       "      <td>https://www.timeshighereducation.com/world-uni...</td>\n",
       "      <td>Australia</td>\n",
       "      <td>5.0</td>\n",
       "      <td>80.3</td>\n",
       "      <td>12.0</td>\n",
       "      <td>93.4</td>\n",
       "      <td>15.0</td>\n",
       "      <td>96.7</td>\n",
       "      <td>...</td>\n",
       "      <td>NaN</td>\n",
       "      <td>NaN</td>\n",
       "      <td>NaN</td>\n",
       "      <td>NaN</td>\n",
       "      <td>NaN</td>\n",
       "      <td>NaN</td>\n",
       "      <td>NaN</td>\n",
       "      <td>NaN</td>\n",
       "      <td>1</td>\n",
       "      <td>1</td>\n",
       "    </tr>\n",
       "    <tr>\n",
       "      <th>1</th>\n",
       "      <td>2</td>\n",
       "      <td>University of Manchester</td>\n",
       "      <td>https://www.timeshighereducation.com/world-uni...</td>\n",
       "      <td>United Kingdom</td>\n",
       "      <td>15.0</td>\n",
       "      <td>97.4</td>\n",
       "      <td>12.0</td>\n",
       "      <td>92.9</td>\n",
       "      <td>11.0</td>\n",
       "      <td>92.2</td>\n",
       "      <td>...</td>\n",
       "      <td>NaN</td>\n",
       "      <td>NaN</td>\n",
       "      <td>NaN</td>\n",
       "      <td>NaN</td>\n",
       "      <td>NaN</td>\n",
       "      <td>NaN</td>\n",
       "      <td>NaN</td>\n",
       "      <td>NaN</td>\n",
       "      <td>2</td>\n",
       "      <td>2</td>\n",
       "    </tr>\n",
       "    <tr>\n",
       "      <th>2</th>\n",
       "      <td>3</td>\n",
       "      <td>Queen’s University</td>\n",
       "      <td>https://www.timeshighereducation.com/world-uni...</td>\n",
       "      <td>Canada</td>\n",
       "      <td>2.0</td>\n",
       "      <td>90.6</td>\n",
       "      <td>16.0</td>\n",
       "      <td>93.4</td>\n",
       "      <td>11.0</td>\n",
       "      <td>91.0</td>\n",
       "      <td>...</td>\n",
       "      <td>NaN</td>\n",
       "      <td>NaN</td>\n",
       "      <td>NaN</td>\n",
       "      <td>NaN</td>\n",
       "      <td>NaN</td>\n",
       "      <td>NaN</td>\n",
       "      <td>NaN</td>\n",
       "      <td>NaN</td>\n",
       "      <td>3</td>\n",
       "      <td>3</td>\n",
       "    </tr>\n",
       "    <tr>\n",
       "      <th>3</th>\n",
       "      <td>4</td>\n",
       "      <td>Universiti Sains Malaysia</td>\n",
       "      <td>https://www.timeshighereducation.com/world-uni...</td>\n",
       "      <td>Malaysia</td>\n",
       "      <td>16.0</td>\n",
       "      <td>94.1</td>\n",
       "      <td>2.0</td>\n",
       "      <td>86.4</td>\n",
       "      <td>1.0</td>\n",
       "      <td>84.9</td>\n",
       "      <td>...</td>\n",
       "      <td>NaN</td>\n",
       "      <td>NaN</td>\n",
       "      <td>NaN</td>\n",
       "      <td>NaN</td>\n",
       "      <td>NaN</td>\n",
       "      <td>NaN</td>\n",
       "      <td>NaN</td>\n",
       "      <td>NaN</td>\n",
       "      <td>4</td>\n",
       "      <td>4</td>\n",
       "    </tr>\n",
       "    <tr>\n",
       "      <th>4</th>\n",
       "      <td>5</td>\n",
       "      <td>University of Tasmania</td>\n",
       "      <td>https://www.timeshighereducation.com/world-uni...</td>\n",
       "      <td>Australia</td>\n",
       "      <td>13.0</td>\n",
       "      <td>92.8</td>\n",
       "      <td>15.0</td>\n",
       "      <td>96.2</td>\n",
       "      <td>14.0</td>\n",
       "      <td>95.1</td>\n",
       "      <td>...</td>\n",
       "      <td>NaN</td>\n",
       "      <td>NaN</td>\n",
       "      <td>NaN</td>\n",
       "      <td>NaN</td>\n",
       "      <td>NaN</td>\n",
       "      <td>NaN</td>\n",
       "      <td>NaN</td>\n",
       "      <td>NaN</td>\n",
       "      <td>5</td>\n",
       "      <td>5</td>\n",
       "    </tr>\n",
       "    <tr>\n",
       "      <th>...</th>\n",
       "      <td>...</td>\n",
       "      <td>...</td>\n",
       "      <td>...</td>\n",
       "      <td>...</td>\n",
       "      <td>...</td>\n",
       "      <td>...</td>\n",
       "      <td>...</td>\n",
       "      <td>...</td>\n",
       "      <td>...</td>\n",
       "      <td>...</td>\n",
       "      <td>...</td>\n",
       "      <td>...</td>\n",
       "      <td>...</td>\n",
       "      <td>...</td>\n",
       "      <td>...</td>\n",
       "      <td>...</td>\n",
       "      <td>...</td>\n",
       "      <td>...</td>\n",
       "      <td>...</td>\n",
       "      <td>...</td>\n",
       "      <td>...</td>\n",
       "    </tr>\n",
       "    <tr>\n",
       "      <th>1586</th>\n",
       "      <td>1001</td>\n",
       "      <td>Zarqa University</td>\n",
       "      <td>https://www.timeshighereducation.com/world-uni...</td>\n",
       "      <td>Jordan</td>\n",
       "      <td>NaN</td>\n",
       "      <td>NaN</td>\n",
       "      <td>NaN</td>\n",
       "      <td>NaN</td>\n",
       "      <td>1.0</td>\n",
       "      <td>23.3–38.1</td>\n",
       "      <td>...</td>\n",
       "      <td>NaN</td>\n",
       "      <td>NaN</td>\n",
       "      <td>4.0</td>\n",
       "      <td>43.6–50.9</td>\n",
       "      <td>3.0</td>\n",
       "      <td>32.1–44.6</td>\n",
       "      <td>NaN</td>\n",
       "      <td>NaN</td>\n",
       "      <td>1001</td>\n",
       "      <td>1001</td>\n",
       "    </tr>\n",
       "    <tr>\n",
       "      <th>1587</th>\n",
       "      <td>1001</td>\n",
       "      <td>Zewail City of Science and Technology</td>\n",
       "      <td>https://www.timeshighereducation.com/world-uni...</td>\n",
       "      <td>Egypt</td>\n",
       "      <td>3.0</td>\n",
       "      <td>44.7–54.5</td>\n",
       "      <td>7.0</td>\n",
       "      <td>11.1–38.6</td>\n",
       "      <td>NaN</td>\n",
       "      <td>NaN</td>\n",
       "      <td>...</td>\n",
       "      <td>1.0</td>\n",
       "      <td>54.5–60.1</td>\n",
       "      <td>NaN</td>\n",
       "      <td>NaN</td>\n",
       "      <td>NaN</td>\n",
       "      <td>NaN</td>\n",
       "      <td>NaN</td>\n",
       "      <td>NaN</td>\n",
       "      <td>1001</td>\n",
       "      <td>1001</td>\n",
       "    </tr>\n",
       "    <tr>\n",
       "      <th>1588</th>\n",
       "      <td>1001</td>\n",
       "      <td>Zhytomyr Ivan Franko State University</td>\n",
       "      <td>https://www.timeshighereducation.com/world-uni...</td>\n",
       "      <td>Ukraine</td>\n",
       "      <td>NaN</td>\n",
       "      <td>NaN</td>\n",
       "      <td>10.0</td>\n",
       "      <td>3.9–25.5</td>\n",
       "      <td>NaN</td>\n",
       "      <td>NaN</td>\n",
       "      <td>...</td>\n",
       "      <td>NaN</td>\n",
       "      <td>NaN</td>\n",
       "      <td>8.0</td>\n",
       "      <td>35.7–48.3</td>\n",
       "      <td>5.0</td>\n",
       "      <td>43.7–51.5</td>\n",
       "      <td>NaN</td>\n",
       "      <td>NaN</td>\n",
       "      <td>1001</td>\n",
       "      <td>1001</td>\n",
       "    </tr>\n",
       "    <tr>\n",
       "      <th>1589</th>\n",
       "      <td>1001</td>\n",
       "      <td>University of Žilina</td>\n",
       "      <td>https://www.timeshighereducation.com/world-uni...</td>\n",
       "      <td>Slovakia</td>\n",
       "      <td>11.0</td>\n",
       "      <td>20.9–38.4</td>\n",
       "      <td>NaN</td>\n",
       "      <td>NaN</td>\n",
       "      <td>NaN</td>\n",
       "      <td>NaN</td>\n",
       "      <td>...</td>\n",
       "      <td>NaN</td>\n",
       "      <td>NaN</td>\n",
       "      <td>9.0</td>\n",
       "      <td>17.2–33.8</td>\n",
       "      <td>NaN</td>\n",
       "      <td>NaN</td>\n",
       "      <td>4.0</td>\n",
       "      <td>2.8–35.7</td>\n",
       "      <td>1001</td>\n",
       "      <td>1001</td>\n",
       "    </tr>\n",
       "    <tr>\n",
       "      <th>1590</th>\n",
       "      <td>1001</td>\n",
       "      <td>Zonguldak Bülent Ecevit University</td>\n",
       "      <td>https://www.timeshighereducation.com/world-uni...</td>\n",
       "      <td>Turkey</td>\n",
       "      <td>12.0</td>\n",
       "      <td>49.4–58.6</td>\n",
       "      <td>NaN</td>\n",
       "      <td>NaN</td>\n",
       "      <td>NaN</td>\n",
       "      <td>NaN</td>\n",
       "      <td>...</td>\n",
       "      <td>NaN</td>\n",
       "      <td>NaN</td>\n",
       "      <td>7.0</td>\n",
       "      <td>51.9–56.1</td>\n",
       "      <td>3.0</td>\n",
       "      <td>54.7–63.8</td>\n",
       "      <td>NaN</td>\n",
       "      <td>NaN</td>\n",
       "      <td>1001</td>\n",
       "      <td>1001</td>\n",
       "    </tr>\n",
       "  </tbody>\n",
       "</table>\n",
       "<p>1591 rows × 22 columns</p>\n",
       "</div>"
      ],
      "text/plain": [
       "      Rank                       University Name   \\\n",
       "0        1              Western Sydney University   \n",
       "1        2               University of Manchester   \n",
       "2        3                     Queen’s University   \n",
       "3        4              Universiti Sains Malaysia   \n",
       "4        5                 University of Tasmania   \n",
       "...    ...                                    ...   \n",
       "1586  1001                       Zarqa University   \n",
       "1587  1001  Zewail City of Science and Technology   \n",
       "1588  1001  Zhytomyr Ivan Franko State University   \n",
       "1589  1001                   University of Žilina   \n",
       "1590  1001     Zonguldak Bülent Ecevit University   \n",
       "\n",
       "                         ranking-institution-title href        Location  \\\n",
       "0     https://www.timeshighereducation.com/world-uni...       Australia   \n",
       "1     https://www.timeshighereducation.com/world-uni...  United Kingdom   \n",
       "2     https://www.timeshighereducation.com/world-uni...          Canada   \n",
       "3     https://www.timeshighereducation.com/world-uni...        Malaysia   \n",
       "4     https://www.timeshighereducation.com/world-uni...       Australia   \n",
       "...                                                 ...             ...   \n",
       "1586  https://www.timeshighereducation.com/world-uni...          Jordan   \n",
       "1587  https://www.timeshighereducation.com/world-uni...           Egypt   \n",
       "1588  https://www.timeshighereducation.com/world-uni...         Ukraine   \n",
       "1589  https://www.timeshighereducation.com/world-uni...        Slovakia   \n",
       "1590  https://www.timeshighereducation.com/world-uni...          Turkey   \n",
       "\n",
       "      sdg-score-multi__number sdg-score-multi__value  \\\n",
       "0                         5.0                   80.3   \n",
       "1                        15.0                   97.4   \n",
       "2                         2.0                   90.6   \n",
       "3                        16.0                   94.1   \n",
       "4                        13.0                   92.8   \n",
       "...                       ...                    ...   \n",
       "1586                      NaN                    NaN   \n",
       "1587                      3.0              44.7–54.5   \n",
       "1588                      NaN                    NaN   \n",
       "1589                     11.0              20.9–38.4   \n",
       "1590                     12.0              49.4–58.6   \n",
       "\n",
       "      sdg-score-multi__number 2 sdg-score-multi__value 2  \\\n",
       "0                          12.0                     93.4   \n",
       "1                          12.0                     92.9   \n",
       "2                          16.0                     93.4   \n",
       "3                           2.0                     86.4   \n",
       "4                          15.0                     96.2   \n",
       "...                         ...                      ...   \n",
       "1586                        NaN                      NaN   \n",
       "1587                        7.0                11.1–38.6   \n",
       "1588                       10.0                 3.9–25.5   \n",
       "1589                        NaN                      NaN   \n",
       "1590                        NaN                      NaN   \n",
       "\n",
       "      sdg-score-multi__number 3 sdg-score-multi__value 3  ...  \\\n",
       "0                          15.0                     96.7  ...   \n",
       "1                          11.0                     92.2  ...   \n",
       "2                          11.0                     91.0  ...   \n",
       "3                           1.0                     84.9  ...   \n",
       "4                          14.0                     95.1  ...   \n",
       "...                         ...                      ...  ...   \n",
       "1586                        1.0                23.3–38.1  ...   \n",
       "1587                        NaN                      NaN  ...   \n",
       "1588                        NaN                      NaN  ...   \n",
       "1589                        NaN                      NaN  ...   \n",
       "1590                        NaN                      NaN  ...   \n",
       "\n",
       "     sdg-score-multi__number 5 sdg-score-multi__value 5  \\\n",
       "0                          NaN                      NaN   \n",
       "1                          NaN                      NaN   \n",
       "2                          NaN                      NaN   \n",
       "3                          NaN                      NaN   \n",
       "4                          NaN                      NaN   \n",
       "...                        ...                      ...   \n",
       "1586                       NaN                      NaN   \n",
       "1587                       1.0                54.5–60.1   \n",
       "1588                       NaN                      NaN   \n",
       "1589                       NaN                      NaN   \n",
       "1590                       NaN                      NaN   \n",
       "\n",
       "      sdg-score-multi__number 6 sdg-score-multi__value 6  \\\n",
       "0                           NaN                      NaN   \n",
       "1                           NaN                      NaN   \n",
       "2                           NaN                      NaN   \n",
       "3                           NaN                      NaN   \n",
       "4                           NaN                      NaN   \n",
       "...                         ...                      ...   \n",
       "1586                        4.0                43.6–50.9   \n",
       "1587                        NaN                      NaN   \n",
       "1588                        8.0                35.7–48.3   \n",
       "1589                        9.0                17.2–33.8   \n",
       "1590                        7.0                51.9–56.1   \n",
       "\n",
       "      sdg-score-multi__number 7 sdg-score-multi__value 7  \\\n",
       "0                           NaN                      NaN   \n",
       "1                           NaN                      NaN   \n",
       "2                           NaN                      NaN   \n",
       "3                           NaN                      NaN   \n",
       "4                           NaN                      NaN   \n",
       "...                         ...                      ...   \n",
       "1586                        3.0                32.1–44.6   \n",
       "1587                        NaN                      NaN   \n",
       "1588                        5.0                43.7–51.5   \n",
       "1589                        NaN                      NaN   \n",
       "1590                        3.0                54.7–63.8   \n",
       "\n",
       "      sdg-score-multi__number 8 sdg-score-multi__value 8  New_Rank Nwe_Rank  \n",
       "0                           NaN                      NaN         1        1  \n",
       "1                           NaN                      NaN         2        2  \n",
       "2                           NaN                      NaN         3        3  \n",
       "3                           NaN                      NaN         4        4  \n",
       "4                           NaN                      NaN         5        5  \n",
       "...                         ...                      ...       ...      ...  \n",
       "1586                        NaN                      NaN      1001     1001  \n",
       "1587                        NaN                      NaN      1001     1001  \n",
       "1588                        NaN                      NaN      1001     1001  \n",
       "1589                        4.0                 2.8–35.7      1001     1001  \n",
       "1590                        NaN                      NaN      1001     1001  \n",
       "\n",
       "[1591 rows x 22 columns]"
      ]
     },
     "execution_count": 221,
     "metadata": {},
     "output_type": "execute_result"
    }
   ],
   "source": [
    "# Mapping dictionary\n",
    "mapping = {\n",
    "    '1': 1, '2': 2, '3': 3, '4': 4, '5': 5, '6': 6, '7': 7, '9': 9,\n",
    "    '12': 12, '13': 13, '14': 14, '17': 17, '18': 18, '20': 20, '21': 21,\n",
    "    '22': 22, '23': 23, '24': 24, '26': 26, '28': 28, '29': 29, '32': 32,\n",
    "    '33': 33, '34': 34, '36': 36, '38': 38, '39': 39, '40': 40, '42': 42,\n",
    "    '46': 46, '49': 49, '52': 52, '55': 55, '56': 56, '57': 57, '58': 58,\n",
    "    '61': 61, '63': 63, '64': 64, '66': 66, '67': 67, '69': 69, '70': 70,\n",
    "    '71': 71, '72': 72, '74': 74, '77': 77, '79': 79, '83': 83, '85': 85,\n",
    "    '86': 86, '91': 91, '92': 92, '96': 96, '97': 97, '99': 99, '100': 100,\n",
    "    '101–200': 150, '201–300': 250, '301–400': 350, '401–600': 500,\n",
    "    '601–800': 700, '801–1000': 900, '1001': 1001\n",
    "}\n",
    "\n",
    "# Apply mapping using lambda function\n",
    "df_THE['Nwe_Rank'] = df_THE['Rank'].map(lambda x: mapping[x])\n",
    "\n",
    "df_THE\n"
   ]
  },
  {
   "cell_type": "code",
   "execution_count": null,
   "metadata": {},
   "outputs": [
    {
     "name": "stdout",
     "output_type": "stream",
     "text": [
      "<class 'pandas.core.frame.DataFrame'>\n",
      "RangeIndex: 1591 entries, 0 to 1590\n",
      "Data columns (total 22 columns):\n",
      " #   Column                          Non-Null Count  Dtype  \n",
      "---  ------                          --------------  -----  \n",
      " 0   Rank                            1591 non-null   object \n",
      " 1   University Name                 1591 non-null   object \n",
      " 2   ranking-institution-title href  1500 non-null   object \n",
      " 3   Location                        1500 non-null   object \n",
      " 4   sdg-score-multi__number         867 non-null    float64\n",
      " 5   sdg-score-multi__value          867 non-null    object \n",
      " 6   sdg-score-multi__number 2       826 non-null    float64\n",
      " 7   sdg-score-multi__value 2        825 non-null    object \n",
      " 8   sdg-score-multi__number 3       812 non-null    float64\n",
      " 9   sdg-score-multi__value 3        805 non-null    object \n",
      " 10  sdg-score-multi__value 4        1583 non-null   object \n",
      " 11  scores                          1591 non-null   object \n",
      " 12  sdg-score-multi__number 5       565 non-null    float64\n",
      " 13  sdg-score-multi__value 5        557 non-null    object \n",
      " 14  sdg-score-multi__number 6       498 non-null    float64\n",
      " 15  sdg-score-multi__value 6        496 non-null    object \n",
      " 16  sdg-score-multi__number 7       439 non-null    float64\n",
      " 17  sdg-score-multi__value 7        439 non-null    object \n",
      " 18  sdg-score-multi__number 8       483 non-null    float64\n",
      " 19  sdg-score-multi__value 8        483 non-null    object \n",
      " 20  New_Rank                        1591 non-null   object \n",
      " 21  Nwe_Rank                        1591 non-null   int64  \n",
      "dtypes: float64(7), int64(1), object(14)\n",
      "memory usage: 273.6+ KB\n"
     ]
    }
   ],
   "source": [
    "df_THE.info()"
   ]
  },
  {
   "cell_type": "code",
   "execution_count": null,
   "metadata": {},
   "outputs": [
    {
     "data": {
      "text/plain": [
       "Index(['Rank', 'University Name ', 'ranking-institution-title href',\n",
       "       'Location', 'sdg-score-multi__number', 'sdg-score-multi__value',\n",
       "       'sdg-score-multi__number 2', 'sdg-score-multi__value 2',\n",
       "       'sdg-score-multi__number 3', 'sdg-score-multi__value 3',\n",
       "       'sdg-score-multi__value 4', 'scores', 'sdg-score-multi__number 5',\n",
       "       'sdg-score-multi__value 5', 'sdg-score-multi__number 6',\n",
       "       'sdg-score-multi__value 6', 'sdg-score-multi__number 7',\n",
       "       'sdg-score-multi__value 7', 'sdg-score-multi__number 8',\n",
       "       'sdg-score-multi__value 8', 'New_Rank', 'Nwe_Rank'],\n",
       "      dtype='object')"
      ]
     },
     "execution_count": 223,
     "metadata": {},
     "output_type": "execute_result"
    }
   ],
   "source": [
    "df_THE.columns"
   ]
  },
  {
   "cell_type": "code",
   "execution_count": null,
   "metadata": {},
   "outputs": [
    {
     "data": {
      "text/html": [
       "<div>\n",
       "<style scoped>\n",
       "    .dataframe tbody tr th:only-of-type {\n",
       "        vertical-align: middle;\n",
       "    }\n",
       "\n",
       "    .dataframe tbody tr th {\n",
       "        vertical-align: top;\n",
       "    }\n",
       "\n",
       "    .dataframe thead th {\n",
       "        text-align: right;\n",
       "    }\n",
       "</style>\n",
       "<table border=\"1\" class=\"dataframe\">\n",
       "  <thead>\n",
       "    <tr style=\"text-align: right;\">\n",
       "      <th></th>\n",
       "      <th>Rank</th>\n",
       "      <th>University Name</th>\n",
       "      <th>ranking-institution-title href</th>\n",
       "      <th>Location</th>\n",
       "      <th>sdg-score-multi__number</th>\n",
       "      <th>sdg-score-multi__value</th>\n",
       "      <th>sdg-score-multi__number 2</th>\n",
       "      <th>sdg-score-multi__value 2</th>\n",
       "      <th>sdg-score-multi__number 3</th>\n",
       "      <th>sdg-score-multi__value 3</th>\n",
       "      <th>...</th>\n",
       "      <th>sdg-score-multi__number 5</th>\n",
       "      <th>sdg-score-multi__value 5</th>\n",
       "      <th>sdg-score-multi__number 6</th>\n",
       "      <th>sdg-score-multi__value 6</th>\n",
       "      <th>sdg-score-multi__number 7</th>\n",
       "      <th>sdg-score-multi__value 7</th>\n",
       "      <th>sdg-score-multi__number 8</th>\n",
       "      <th>sdg-score-multi__value 8</th>\n",
       "      <th>New_Rank</th>\n",
       "      <th>Nwe_Rank</th>\n",
       "    </tr>\n",
       "  </thead>\n",
       "  <tbody>\n",
       "    <tr>\n",
       "      <th>0</th>\n",
       "      <td>1</td>\n",
       "      <td>Western Sydney University</td>\n",
       "      <td>https://www.timeshighereducation.com/world-uni...</td>\n",
       "      <td>Australia</td>\n",
       "      <td>5.0</td>\n",
       "      <td>80.3</td>\n",
       "      <td>12.0</td>\n",
       "      <td>93.4</td>\n",
       "      <td>15.0</td>\n",
       "      <td>96.7</td>\n",
       "      <td>...</td>\n",
       "      <td>NaN</td>\n",
       "      <td>NaN</td>\n",
       "      <td>NaN</td>\n",
       "      <td>NaN</td>\n",
       "      <td>NaN</td>\n",
       "      <td>NaN</td>\n",
       "      <td>NaN</td>\n",
       "      <td>NaN</td>\n",
       "      <td>1</td>\n",
       "      <td>1</td>\n",
       "    </tr>\n",
       "    <tr>\n",
       "      <th>1</th>\n",
       "      <td>2</td>\n",
       "      <td>University of Manchester</td>\n",
       "      <td>https://www.timeshighereducation.com/world-uni...</td>\n",
       "      <td>United Kingdom</td>\n",
       "      <td>15.0</td>\n",
       "      <td>97.4</td>\n",
       "      <td>12.0</td>\n",
       "      <td>92.9</td>\n",
       "      <td>11.0</td>\n",
       "      <td>92.2</td>\n",
       "      <td>...</td>\n",
       "      <td>NaN</td>\n",
       "      <td>NaN</td>\n",
       "      <td>NaN</td>\n",
       "      <td>NaN</td>\n",
       "      <td>NaN</td>\n",
       "      <td>NaN</td>\n",
       "      <td>NaN</td>\n",
       "      <td>NaN</td>\n",
       "      <td>2</td>\n",
       "      <td>2</td>\n",
       "    </tr>\n",
       "    <tr>\n",
       "      <th>2</th>\n",
       "      <td>3</td>\n",
       "      <td>Queen’s University</td>\n",
       "      <td>https://www.timeshighereducation.com/world-uni...</td>\n",
       "      <td>Canada</td>\n",
       "      <td>2.0</td>\n",
       "      <td>90.6</td>\n",
       "      <td>16.0</td>\n",
       "      <td>93.4</td>\n",
       "      <td>11.0</td>\n",
       "      <td>91.0</td>\n",
       "      <td>...</td>\n",
       "      <td>NaN</td>\n",
       "      <td>NaN</td>\n",
       "      <td>NaN</td>\n",
       "      <td>NaN</td>\n",
       "      <td>NaN</td>\n",
       "      <td>NaN</td>\n",
       "      <td>NaN</td>\n",
       "      <td>NaN</td>\n",
       "      <td>3</td>\n",
       "      <td>3</td>\n",
       "    </tr>\n",
       "    <tr>\n",
       "      <th>3</th>\n",
       "      <td>4</td>\n",
       "      <td>Universiti Sains Malaysia</td>\n",
       "      <td>https://www.timeshighereducation.com/world-uni...</td>\n",
       "      <td>Malaysia</td>\n",
       "      <td>16.0</td>\n",
       "      <td>94.1</td>\n",
       "      <td>2.0</td>\n",
       "      <td>86.4</td>\n",
       "      <td>1.0</td>\n",
       "      <td>84.9</td>\n",
       "      <td>...</td>\n",
       "      <td>NaN</td>\n",
       "      <td>NaN</td>\n",
       "      <td>NaN</td>\n",
       "      <td>NaN</td>\n",
       "      <td>NaN</td>\n",
       "      <td>NaN</td>\n",
       "      <td>NaN</td>\n",
       "      <td>NaN</td>\n",
       "      <td>4</td>\n",
       "      <td>4</td>\n",
       "    </tr>\n",
       "    <tr>\n",
       "      <th>4</th>\n",
       "      <td>5</td>\n",
       "      <td>University of Tasmania</td>\n",
       "      <td>https://www.timeshighereducation.com/world-uni...</td>\n",
       "      <td>Australia</td>\n",
       "      <td>13.0</td>\n",
       "      <td>92.8</td>\n",
       "      <td>15.0</td>\n",
       "      <td>96.2</td>\n",
       "      <td>14.0</td>\n",
       "      <td>95.1</td>\n",
       "      <td>...</td>\n",
       "      <td>NaN</td>\n",
       "      <td>NaN</td>\n",
       "      <td>NaN</td>\n",
       "      <td>NaN</td>\n",
       "      <td>NaN</td>\n",
       "      <td>NaN</td>\n",
       "      <td>NaN</td>\n",
       "      <td>NaN</td>\n",
       "      <td>5</td>\n",
       "      <td>5</td>\n",
       "    </tr>\n",
       "    <tr>\n",
       "      <th>5</th>\n",
       "      <td>6</td>\n",
       "      <td>Arizona State University (Tempe)</td>\n",
       "      <td>https://www.timeshighereducation.com/world-uni...</td>\n",
       "      <td>United States</td>\n",
       "      <td>15.0</td>\n",
       "      <td>95.4</td>\n",
       "      <td>14.0</td>\n",
       "      <td>93.9</td>\n",
       "      <td>6.0</td>\n",
       "      <td>87.6</td>\n",
       "      <td>...</td>\n",
       "      <td>NaN</td>\n",
       "      <td>NaN</td>\n",
       "      <td>NaN</td>\n",
       "      <td>NaN</td>\n",
       "      <td>NaN</td>\n",
       "      <td>NaN</td>\n",
       "      <td>NaN</td>\n",
       "      <td>NaN</td>\n",
       "      <td>6</td>\n",
       "      <td>6</td>\n",
       "    </tr>\n",
       "    <tr>\n",
       "      <th>6</th>\n",
       "      <td>7</td>\n",
       "      <td>University of Alberta</td>\n",
       "      <td>https://www.timeshighereducation.com/world-uni...</td>\n",
       "      <td>Canada</td>\n",
       "      <td>9.0</td>\n",
       "      <td>99.4</td>\n",
       "      <td>2.0</td>\n",
       "      <td>89.2</td>\n",
       "      <td>15.0</td>\n",
       "      <td>91.0</td>\n",
       "      <td>...</td>\n",
       "      <td>NaN</td>\n",
       "      <td>NaN</td>\n",
       "      <td>NaN</td>\n",
       "      <td>NaN</td>\n",
       "      <td>NaN</td>\n",
       "      <td>NaN</td>\n",
       "      <td>NaN</td>\n",
       "      <td>NaN</td>\n",
       "      <td>7</td>\n",
       "      <td>7</td>\n",
       "    </tr>\n",
       "    <tr>\n",
       "      <th>7</th>\n",
       "      <td>7</td>\n",
       "      <td>RMIT University</td>\n",
       "      <td>https://www.timeshighereducation.com/world-uni...</td>\n",
       "      <td>Australia</td>\n",
       "      <td>10.0</td>\n",
       "      <td>92.1</td>\n",
       "      <td>8.0</td>\n",
       "      <td>83.7</td>\n",
       "      <td>11.0</td>\n",
       "      <td>87.4</td>\n",
       "      <td>...</td>\n",
       "      <td>NaN</td>\n",
       "      <td>NaN</td>\n",
       "      <td>NaN</td>\n",
       "      <td>NaN</td>\n",
       "      <td>NaN</td>\n",
       "      <td>NaN</td>\n",
       "      <td>NaN</td>\n",
       "      <td>NaN</td>\n",
       "      <td>7</td>\n",
       "      <td>7</td>\n",
       "    </tr>\n",
       "    <tr>\n",
       "      <th>8</th>\n",
       "      <td>9</td>\n",
       "      <td>Aalborg University</td>\n",
       "      <td>https://www.timeshighereducation.com/world-uni...</td>\n",
       "      <td>Denmark</td>\n",
       "      <td>4.0</td>\n",
       "      <td>90.6</td>\n",
       "      <td>10.0</td>\n",
       "      <td>90.2</td>\n",
       "      <td>14.0</td>\n",
       "      <td>93.4</td>\n",
       "      <td>...</td>\n",
       "      <td>NaN</td>\n",
       "      <td>NaN</td>\n",
       "      <td>NaN</td>\n",
       "      <td>NaN</td>\n",
       "      <td>NaN</td>\n",
       "      <td>NaN</td>\n",
       "      <td>NaN</td>\n",
       "      <td>NaN</td>\n",
       "      <td>9</td>\n",
       "      <td>9</td>\n",
       "    </tr>\n",
       "  </tbody>\n",
       "</table>\n",
       "<p>9 rows × 22 columns</p>\n",
       "</div>"
      ],
      "text/plain": [
       "  Rank                  University Name   \\\n",
       "0    1         Western Sydney University   \n",
       "1    2          University of Manchester   \n",
       "2    3                Queen’s University   \n",
       "3    4         Universiti Sains Malaysia   \n",
       "4    5            University of Tasmania   \n",
       "5    6  Arizona State University (Tempe)   \n",
       "6    7             University of Alberta   \n",
       "7    7                   RMIT University   \n",
       "8    9                Aalborg University   \n",
       "\n",
       "                      ranking-institution-title href        Location  \\\n",
       "0  https://www.timeshighereducation.com/world-uni...       Australia   \n",
       "1  https://www.timeshighereducation.com/world-uni...  United Kingdom   \n",
       "2  https://www.timeshighereducation.com/world-uni...          Canada   \n",
       "3  https://www.timeshighereducation.com/world-uni...        Malaysia   \n",
       "4  https://www.timeshighereducation.com/world-uni...       Australia   \n",
       "5  https://www.timeshighereducation.com/world-uni...   United States   \n",
       "6  https://www.timeshighereducation.com/world-uni...          Canada   \n",
       "7  https://www.timeshighereducation.com/world-uni...       Australia   \n",
       "8  https://www.timeshighereducation.com/world-uni...         Denmark   \n",
       "\n",
       "   sdg-score-multi__number sdg-score-multi__value  sdg-score-multi__number 2  \\\n",
       "0                      5.0                   80.3                       12.0   \n",
       "1                     15.0                   97.4                       12.0   \n",
       "2                      2.0                   90.6                       16.0   \n",
       "3                     16.0                   94.1                        2.0   \n",
       "4                     13.0                   92.8                       15.0   \n",
       "5                     15.0                   95.4                       14.0   \n",
       "6                      9.0                   99.4                        2.0   \n",
       "7                     10.0                   92.1                        8.0   \n",
       "8                      4.0                   90.6                       10.0   \n",
       "\n",
       "  sdg-score-multi__value 2  sdg-score-multi__number 3  \\\n",
       "0                     93.4                       15.0   \n",
       "1                     92.9                       11.0   \n",
       "2                     93.4                       11.0   \n",
       "3                     86.4                        1.0   \n",
       "4                     96.2                       14.0   \n",
       "5                     93.9                        6.0   \n",
       "6                     89.2                       15.0   \n",
       "7                     83.7                       11.0   \n",
       "8                     90.2                       14.0   \n",
       "\n",
       "  sdg-score-multi__value 3  ... sdg-score-multi__number 5  \\\n",
       "0                     96.7  ...                       NaN   \n",
       "1                     92.2  ...                       NaN   \n",
       "2                     91.0  ...                       NaN   \n",
       "3                     84.9  ...                       NaN   \n",
       "4                     95.1  ...                       NaN   \n",
       "5                     87.6  ...                       NaN   \n",
       "6                     91.0  ...                       NaN   \n",
       "7                     87.4  ...                       NaN   \n",
       "8                     93.4  ...                       NaN   \n",
       "\n",
       "  sdg-score-multi__value 5  sdg-score-multi__number 6  \\\n",
       "0                      NaN                        NaN   \n",
       "1                      NaN                        NaN   \n",
       "2                      NaN                        NaN   \n",
       "3                      NaN                        NaN   \n",
       "4                      NaN                        NaN   \n",
       "5                      NaN                        NaN   \n",
       "6                      NaN                        NaN   \n",
       "7                      NaN                        NaN   \n",
       "8                      NaN                        NaN   \n",
       "\n",
       "  sdg-score-multi__value 6  sdg-score-multi__number 7  \\\n",
       "0                      NaN                        NaN   \n",
       "1                      NaN                        NaN   \n",
       "2                      NaN                        NaN   \n",
       "3                      NaN                        NaN   \n",
       "4                      NaN                        NaN   \n",
       "5                      NaN                        NaN   \n",
       "6                      NaN                        NaN   \n",
       "7                      NaN                        NaN   \n",
       "8                      NaN                        NaN   \n",
       "\n",
       "  sdg-score-multi__value 7  sdg-score-multi__number 8  \\\n",
       "0                      NaN                        NaN   \n",
       "1                      NaN                        NaN   \n",
       "2                      NaN                        NaN   \n",
       "3                      NaN                        NaN   \n",
       "4                      NaN                        NaN   \n",
       "5                      NaN                        NaN   \n",
       "6                      NaN                        NaN   \n",
       "7                      NaN                        NaN   \n",
       "8                      NaN                        NaN   \n",
       "\n",
       "  sdg-score-multi__value 8  New_Rank Nwe_Rank  \n",
       "0                      NaN         1        1  \n",
       "1                      NaN         2        2  \n",
       "2                      NaN         3        3  \n",
       "3                      NaN         4        4  \n",
       "4                      NaN         5        5  \n",
       "5                      NaN         6        6  \n",
       "6                      NaN         7        7  \n",
       "7                      NaN         7        7  \n",
       "8                      NaN         9        9  \n",
       "\n",
       "[9 rows x 22 columns]"
      ]
     },
     "execution_count": 224,
     "metadata": {},
     "output_type": "execute_result"
    }
   ],
   "source": [
    "\n",
    "df_THE.head(9)"
   ]
  },
  {
   "cell_type": "code",
   "execution_count": null,
   "metadata": {},
   "outputs": [],
   "source": []
  },
  {
   "cell_type": "code",
   "execution_count": null,
   "metadata": {},
   "outputs": [
    {
     "data": {
      "text/plain": [
       "(1591, 22)"
      ]
     },
     "execution_count": 225,
     "metadata": {},
     "output_type": "execute_result"
    }
   ],
   "source": [
    "df_THE.shape"
   ]
  },
  {
   "cell_type": "code",
   "execution_count": null,
   "metadata": {},
   "outputs": [
    {
     "data": {
      "text/html": [
       "<div>\n",
       "<style scoped>\n",
       "    .dataframe tbody tr th:only-of-type {\n",
       "        vertical-align: middle;\n",
       "    }\n",
       "\n",
       "    .dataframe tbody tr th {\n",
       "        vertical-align: top;\n",
       "    }\n",
       "\n",
       "    .dataframe thead th {\n",
       "        text-align: right;\n",
       "    }\n",
       "</style>\n",
       "<table border=\"1\" class=\"dataframe\">\n",
       "  <thead>\n",
       "    <tr style=\"text-align: right;\">\n",
       "      <th></th>\n",
       "      <th>Rank</th>\n",
       "      <th>University Name</th>\n",
       "      <th>ranking-institution-title href</th>\n",
       "      <th>Location</th>\n",
       "      <th>sdg-score-multi__number</th>\n",
       "      <th>sdg-score-multi__value</th>\n",
       "      <th>sdg-score-multi__number 2</th>\n",
       "      <th>sdg-score-multi__value 2</th>\n",
       "      <th>sdg-score-multi__number 3</th>\n",
       "      <th>sdg-score-multi__value 3</th>\n",
       "      <th>...</th>\n",
       "      <th>sdg-score-multi__number 5</th>\n",
       "      <th>sdg-score-multi__value 5</th>\n",
       "      <th>sdg-score-multi__number 6</th>\n",
       "      <th>sdg-score-multi__value 6</th>\n",
       "      <th>sdg-score-multi__number 7</th>\n",
       "      <th>sdg-score-multi__value 7</th>\n",
       "      <th>sdg-score-multi__number 8</th>\n",
       "      <th>sdg-score-multi__value 8</th>\n",
       "      <th>New_Rank</th>\n",
       "      <th>Nwe_Rank</th>\n",
       "    </tr>\n",
       "  </thead>\n",
       "  <tbody>\n",
       "    <tr>\n",
       "      <th>1000</th>\n",
       "      <td>1001</td>\n",
       "      <td>Université 8 Mai 1945 Guelma</td>\n",
       "      <td>https://www.timeshighereducation.com/world-uni...</td>\n",
       "      <td>Algeria</td>\n",
       "      <td>NaN</td>\n",
       "      <td>NaN</td>\n",
       "      <td>1.0</td>\n",
       "      <td>38.2–49.4</td>\n",
       "      <td>NaN</td>\n",
       "      <td>NaN</td>\n",
       "      <td>...</td>\n",
       "      <td>NaN</td>\n",
       "      <td>NaN</td>\n",
       "      <td>NaN</td>\n",
       "      <td>NaN</td>\n",
       "      <td>NaN</td>\n",
       "      <td>NaN</td>\n",
       "      <td>4.0</td>\n",
       "      <td>51.0–58.6</td>\n",
       "      <td>1001</td>\n",
       "      <td>1001</td>\n",
       "    </tr>\n",
       "    <tr>\n",
       "      <th>1001</th>\n",
       "      <td>1001</td>\n",
       "      <td>University Abdelhamid Ibn Badis Mostaganem</td>\n",
       "      <td>https://www.timeshighereducation.com/world-uni...</td>\n",
       "      <td>Algeria</td>\n",
       "      <td>NaN</td>\n",
       "      <td>NaN</td>\n",
       "      <td>4.0</td>\n",
       "      <td>2.8–35.7</td>\n",
       "      <td>10.0</td>\n",
       "      <td>3.9–25.5</td>\n",
       "      <td>...</td>\n",
       "      <td>NaN</td>\n",
       "      <td>NaN</td>\n",
       "      <td>NaN</td>\n",
       "      <td>NaN</td>\n",
       "      <td>NaN</td>\n",
       "      <td>NaN</td>\n",
       "      <td>5.0</td>\n",
       "      <td>34.4–43.6</td>\n",
       "      <td>1001</td>\n",
       "      <td>1001</td>\n",
       "    </tr>\n",
       "    <tr>\n",
       "      <th>1002</th>\n",
       "      <td>1001</td>\n",
       "      <td>Abdelmalek Essaâdi University</td>\n",
       "      <td>https://www.timeshighereducation.com/world-uni...</td>\n",
       "      <td>Morocco</td>\n",
       "      <td>NaN</td>\n",
       "      <td>NaN</td>\n",
       "      <td>15.0</td>\n",
       "      <td>47.8–59.4</td>\n",
       "      <td>6.0</td>\n",
       "      <td>49.3–57.0</td>\n",
       "      <td>...</td>\n",
       "      <td>NaN</td>\n",
       "      <td>NaN</td>\n",
       "      <td>NaN</td>\n",
       "      <td>NaN</td>\n",
       "      <td>NaN</td>\n",
       "      <td>NaN</td>\n",
       "      <td>NaN</td>\n",
       "      <td>NaN</td>\n",
       "      <td>1001</td>\n",
       "      <td>1001</td>\n",
       "    </tr>\n",
       "    <tr>\n",
       "      <th>1003</th>\n",
       "      <td>1001</td>\n",
       "      <td>Abdul Wali Khan University Mardan</td>\n",
       "      <td>https://www.timeshighereducation.com/world-uni...</td>\n",
       "      <td>Pakistan</td>\n",
       "      <td>NaN</td>\n",
       "      <td>NaN</td>\n",
       "      <td>NaN</td>\n",
       "      <td>NaN</td>\n",
       "      <td>1.0</td>\n",
       "      <td>38.2–49.4</td>\n",
       "      <td>...</td>\n",
       "      <td>8.0</td>\n",
       "      <td>48.4–57.7</td>\n",
       "      <td>NaN</td>\n",
       "      <td>NaN</td>\n",
       "      <td>NaN</td>\n",
       "      <td>NaN</td>\n",
       "      <td>NaN</td>\n",
       "      <td>NaN</td>\n",
       "      <td>1001</td>\n",
       "      <td>1001</td>\n",
       "    </tr>\n",
       "    <tr>\n",
       "      <th>1004</th>\n",
       "      <td>1001</td>\n",
       "      <td>University of Abou Bekr Belkaïd Tlemcen</td>\n",
       "      <td>https://www.timeshighereducation.com/world-uni...</td>\n",
       "      <td>Algeria</td>\n",
       "      <td>1.0</td>\n",
       "      <td>49.5–54.4</td>\n",
       "      <td>NaN</td>\n",
       "      <td>NaN</td>\n",
       "      <td>8.0</td>\n",
       "      <td>1.4–35.6</td>\n",
       "      <td>...</td>\n",
       "      <td>NaN</td>\n",
       "      <td>NaN</td>\n",
       "      <td>NaN</td>\n",
       "      <td>NaN</td>\n",
       "      <td>NaN</td>\n",
       "      <td>NaN</td>\n",
       "      <td>NaN</td>\n",
       "      <td>NaN</td>\n",
       "      <td>1001</td>\n",
       "      <td>1001</td>\n",
       "    </tr>\n",
       "  </tbody>\n",
       "</table>\n",
       "<p>5 rows × 22 columns</p>\n",
       "</div>"
      ],
      "text/plain": [
       "      Rank                            University Name   \\\n",
       "1000  1001                Université 8 Mai 1945 Guelma   \n",
       "1001  1001  University Abdelhamid Ibn Badis Mostaganem   \n",
       "1002  1001               Abdelmalek Essaâdi University   \n",
       "1003  1001           Abdul Wali Khan University Mardan   \n",
       "1004  1001     University of Abou Bekr Belkaïd Tlemcen   \n",
       "\n",
       "                         ranking-institution-title href  Location  \\\n",
       "1000  https://www.timeshighereducation.com/world-uni...   Algeria   \n",
       "1001  https://www.timeshighereducation.com/world-uni...   Algeria   \n",
       "1002  https://www.timeshighereducation.com/world-uni...   Morocco   \n",
       "1003  https://www.timeshighereducation.com/world-uni...  Pakistan   \n",
       "1004  https://www.timeshighereducation.com/world-uni...   Algeria   \n",
       "\n",
       "      sdg-score-multi__number sdg-score-multi__value  \\\n",
       "1000                      NaN                    NaN   \n",
       "1001                      NaN                    NaN   \n",
       "1002                      NaN                    NaN   \n",
       "1003                      NaN                    NaN   \n",
       "1004                      1.0              49.5–54.4   \n",
       "\n",
       "      sdg-score-multi__number 2 sdg-score-multi__value 2  \\\n",
       "1000                        1.0                38.2–49.4   \n",
       "1001                        4.0                 2.8–35.7   \n",
       "1002                       15.0                47.8–59.4   \n",
       "1003                        NaN                      NaN   \n",
       "1004                        NaN                      NaN   \n",
       "\n",
       "      sdg-score-multi__number 3 sdg-score-multi__value 3  ...  \\\n",
       "1000                        NaN                      NaN  ...   \n",
       "1001                       10.0                 3.9–25.5  ...   \n",
       "1002                        6.0                49.3–57.0  ...   \n",
       "1003                        1.0                38.2–49.4  ...   \n",
       "1004                        8.0                 1.4–35.6  ...   \n",
       "\n",
       "     sdg-score-multi__number 5 sdg-score-multi__value 5  \\\n",
       "1000                       NaN                      NaN   \n",
       "1001                       NaN                      NaN   \n",
       "1002                       NaN                      NaN   \n",
       "1003                       8.0                48.4–57.7   \n",
       "1004                       NaN                      NaN   \n",
       "\n",
       "      sdg-score-multi__number 6 sdg-score-multi__value 6  \\\n",
       "1000                        NaN                      NaN   \n",
       "1001                        NaN                      NaN   \n",
       "1002                        NaN                      NaN   \n",
       "1003                        NaN                      NaN   \n",
       "1004                        NaN                      NaN   \n",
       "\n",
       "      sdg-score-multi__number 7 sdg-score-multi__value 7  \\\n",
       "1000                        NaN                      NaN   \n",
       "1001                        NaN                      NaN   \n",
       "1002                        NaN                      NaN   \n",
       "1003                        NaN                      NaN   \n",
       "1004                        NaN                      NaN   \n",
       "\n",
       "      sdg-score-multi__number 8 sdg-score-multi__value 8  New_Rank Nwe_Rank  \n",
       "1000                        4.0                51.0–58.6      1001     1001  \n",
       "1001                        5.0                34.4–43.6      1001     1001  \n",
       "1002                        NaN                      NaN      1001     1001  \n",
       "1003                        NaN                      NaN      1001     1001  \n",
       "1004                        NaN                      NaN      1001     1001  \n",
       "\n",
       "[5 rows x 22 columns]"
      ]
     },
     "execution_count": 226,
     "metadata": {},
     "output_type": "execute_result"
    }
   ],
   "source": [
    "df_THE[1000:1005]"
   ]
  },
  {
   "cell_type": "code",
   "execution_count": null,
   "metadata": {},
   "outputs": [
    {
     "name": "stdout",
     "output_type": "stream",
     "text": [
      "<class 'pandas.core.frame.DataFrame'>\n",
      "RangeIndex: 1591 entries, 0 to 1590\n",
      "Data columns (total 22 columns):\n",
      " #   Column                          Non-Null Count  Dtype  \n",
      "---  ------                          --------------  -----  \n",
      " 0   Rank                            1591 non-null   object \n",
      " 1   University Name                 1591 non-null   object \n",
      " 2   ranking-institution-title href  1500 non-null   object \n",
      " 3   Location                        1500 non-null   object \n",
      " 4   sdg-score-multi__number         867 non-null    float64\n",
      " 5   sdg-score-multi__value          867 non-null    object \n",
      " 6   sdg-score-multi__number 2       826 non-null    float64\n",
      " 7   sdg-score-multi__value 2        825 non-null    object \n",
      " 8   sdg-score-multi__number 3       812 non-null    float64\n",
      " 9   sdg-score-multi__value 3        805 non-null    object \n",
      " 10  sdg-score-multi__value 4        1583 non-null   object \n",
      " 11  scores                          1591 non-null   object \n",
      " 12  sdg-score-multi__number 5       565 non-null    float64\n",
      " 13  sdg-score-multi__value 5        557 non-null    object \n",
      " 14  sdg-score-multi__number 6       498 non-null    float64\n",
      " 15  sdg-score-multi__value 6        496 non-null    object \n",
      " 16  sdg-score-multi__number 7       439 non-null    float64\n",
      " 17  sdg-score-multi__value 7        439 non-null    object \n",
      " 18  sdg-score-multi__number 8       483 non-null    float64\n",
      " 19  sdg-score-multi__value 8        483 non-null    object \n",
      " 20  New_Rank                        1591 non-null   object \n",
      " 21  Nwe_Rank                        1591 non-null   int64  \n",
      "dtypes: float64(7), int64(1), object(14)\n",
      "memory usage: 273.6+ KB\n"
     ]
    }
   ],
   "source": [
    "df_THE.info()"
   ]
  },
  {
   "cell_type": "code",
   "execution_count": null,
   "metadata": {},
   "outputs": [
    {
     "data": {
      "text/plain": [
       "Rank                                 0\n",
       "University Name                      0\n",
       "ranking-institution-title href      91\n",
       "Location                            91\n",
       "sdg-score-multi__number            724\n",
       "sdg-score-multi__value             724\n",
       "sdg-score-multi__number 2          765\n",
       "sdg-score-multi__value 2           766\n",
       "sdg-score-multi__number 3          779\n",
       "sdg-score-multi__value 3           786\n",
       "sdg-score-multi__value 4             8\n",
       "scores                               0\n",
       "sdg-score-multi__number 5         1026\n",
       "sdg-score-multi__value 5          1034\n",
       "sdg-score-multi__number 6         1093\n",
       "sdg-score-multi__value 6          1095\n",
       "sdg-score-multi__number 7         1152\n",
       "sdg-score-multi__value 7          1152\n",
       "sdg-score-multi__number 8         1108\n",
       "sdg-score-multi__value 8          1108\n",
       "New_Rank                             0\n",
       "Nwe_Rank                             0\n",
       "dtype: int64"
      ]
     },
     "execution_count": 228,
     "metadata": {},
     "output_type": "execute_result"
    }
   ],
   "source": [
    "df_THE.isnull().sum()"
   ]
  },
  {
   "cell_type": "markdown",
   "metadata": {},
   "source": [
    "# Third Data : shanghai Ranking"
   ]
  },
  {
   "cell_type": "markdown",
   "metadata": {},
   "source": [
    "Shanghai Ranking Academic Ranking (ARWU): \"Ranking System Info based on\" :\n",
    "\n",
    "- University that has any Nobel Laureates(winners), Fields Medalists, Highly Cited Researchers, or Papers published in Nature, or Science, and the per capita academic performance of an institution."
   ]
  },
  {
   "cell_type": "markdown",
   "metadata": {},
   "source": [
    "### Data profiling"
   ]
  },
  {
   "cell_type": "markdown",
   "metadata": {},
   "source": [
    "  ##### 1 -**Reliability**\n",
    "  ##### 2- **Timeliness**\n",
    "  ##### 3- **Consistency**\n",
    "  ##### 4- **Relevance**"
   ]
  },
  {
   "cell_type": "code",
   "execution_count": null,
   "metadata": {},
   "outputs": [],
   "source": [
    "df_SR = pd.read_csv(\"Data/shanghai Ranking.csv\")"
   ]
  },
  {
   "cell_type": "code",
   "execution_count": null,
   "metadata": {},
   "outputs": [
    {
     "data": {
      "text/html": [
       "<div>\n",
       "<style scoped>\n",
       "    .dataframe tbody tr th:only-of-type {\n",
       "        vertical-align: middle;\n",
       "    }\n",
       "\n",
       "    .dataframe tbody tr th {\n",
       "        vertical-align: top;\n",
       "    }\n",
       "\n",
       "    .dataframe thead th {\n",
       "        text-align: right;\n",
       "    }\n",
       "</style>\n",
       "<table border=\"1\" class=\"dataframe\">\n",
       "  <thead>\n",
       "    <tr style=\"text-align: right;\">\n",
       "      <th></th>\n",
       "      <th>Ranking</th>\n",
       "      <th>University Name</th>\n",
       "      <th>National/Regional Rank</th>\n",
       "      <th>Total Score</th>\n",
       "      <th>LOGO</th>\n",
       "      <th>University Detail</th>\n",
       "    </tr>\n",
       "  </thead>\n",
       "  <tbody>\n",
       "    <tr>\n",
       "      <th>0</th>\n",
       "      <td>1</td>\n",
       "      <td>Harvard University</td>\n",
       "      <td>1</td>\n",
       "      <td>100.0</td>\n",
       "      <td>http://www.shanghairanking.com/_uni/logo/032bd...</td>\n",
       "      <td>http://www.shanghairanking.com/institution/har...</td>\n",
       "    </tr>\n",
       "    <tr>\n",
       "      <th>1</th>\n",
       "      <td>2</td>\n",
       "      <td>Stanford University</td>\n",
       "      <td>2</td>\n",
       "      <td>76.8</td>\n",
       "      <td>http://www.shanghairanking.com/_uni/logo/13de8...</td>\n",
       "      <td>http://www.shanghairanking.com/institution/sta...</td>\n",
       "    </tr>\n",
       "    <tr>\n",
       "      <th>2</th>\n",
       "      <td>3</td>\n",
       "      <td>Massachusetts Institute of Technology (MIT)</td>\n",
       "      <td>3</td>\n",
       "      <td>70.1</td>\n",
       "      <td>http://www.shanghairanking.com/_uni/logo/79165...</td>\n",
       "      <td>http://www.shanghairanking.com/institution/mas...</td>\n",
       "    </tr>\n",
       "    <tr>\n",
       "      <th>3</th>\n",
       "      <td>4</td>\n",
       "      <td>University of Cambridge</td>\n",
       "      <td>1</td>\n",
       "      <td>69.6</td>\n",
       "      <td>http://www.shanghairanking.com/_uni/logo/8d986...</td>\n",
       "      <td>http://www.shanghairanking.com/institution/uni...</td>\n",
       "    </tr>\n",
       "    <tr>\n",
       "      <th>4</th>\n",
       "      <td>5</td>\n",
       "      <td>University of California, Berkeley</td>\n",
       "      <td>4</td>\n",
       "      <td>65.3</td>\n",
       "      <td>http://www.shanghairanking.com/_uni/logo/0ff17...</td>\n",
       "      <td>http://www.shanghairanking.com/institution/uni...</td>\n",
       "    </tr>\n",
       "  </tbody>\n",
       "</table>\n",
       "</div>"
      ],
      "text/plain": [
       "  Ranking                              University Name National/Regional Rank  \\\n",
       "0       1                           Harvard University                      1   \n",
       "1       2                          Stanford University                      2   \n",
       "2       3  Massachusetts Institute of Technology (MIT)                      3   \n",
       "3       4                      University of Cambridge                      1   \n",
       "4       5           University of California, Berkeley                      4   \n",
       "\n",
       "   Total Score                                               LOGO  \\\n",
       "0        100.0  http://www.shanghairanking.com/_uni/logo/032bd...   \n",
       "1         76.8  http://www.shanghairanking.com/_uni/logo/13de8...   \n",
       "2         70.1  http://www.shanghairanking.com/_uni/logo/79165...   \n",
       "3         69.6  http://www.shanghairanking.com/_uni/logo/8d986...   \n",
       "4         65.3  http://www.shanghairanking.com/_uni/logo/0ff17...   \n",
       "\n",
       "                                  University Detail   \n",
       "0  http://www.shanghairanking.com/institution/har...  \n",
       "1  http://www.shanghairanking.com/institution/sta...  \n",
       "2  http://www.shanghairanking.com/institution/mas...  \n",
       "3  http://www.shanghairanking.com/institution/uni...  \n",
       "4  http://www.shanghairanking.com/institution/uni...  "
      ]
     },
     "execution_count": 229,
     "metadata": {},
     "output_type": "execute_result"
    }
   ],
   "source": [
    "df_SR.head()"
   ]
  },
  {
   "cell_type": "code",
   "execution_count": null,
   "metadata": {},
   "outputs": [
    {
     "data": {
      "text/plain": [
       "(1000, 6)"
      ]
     },
     "execution_count": 230,
     "metadata": {},
     "output_type": "execute_result"
    }
   ],
   "source": [
    "df_SR.shape"
   ]
  },
  {
   "cell_type": "code",
   "execution_count": null,
   "metadata": {},
   "outputs": [
    {
     "name": "stdout",
     "output_type": "stream",
     "text": [
      "<class 'pandas.core.frame.DataFrame'>\n",
      "RangeIndex: 1000 entries, 0 to 999\n",
      "Data columns (total 6 columns):\n",
      " #   Column                  Non-Null Count  Dtype  \n",
      "---  ------                  --------------  -----  \n",
      " 0   Ranking                 1000 non-null   object \n",
      " 1   University Name         1000 non-null   object \n",
      " 2   National/Regional Rank  1000 non-null   object \n",
      " 3   Total Score             1000 non-null   float64\n",
      " 4   LOGO                    1000 non-null   object \n",
      " 5   University Detail       1000 non-null   object \n",
      "dtypes: float64(1), object(5)\n",
      "memory usage: 47.0+ KB\n"
     ]
    }
   ],
   "source": [
    "df_SR.info()"
   ]
  },
  {
   "cell_type": "code",
   "execution_count": null,
   "metadata": {},
   "outputs": [
    {
     "data": {
      "text/plain": [
       "Ranking                   0\n",
       "University Name           0\n",
       "National/Regional Rank    0\n",
       "Total Score               0\n",
       "LOGO                      0\n",
       "University Detail         0\n",
       "dtype: int64"
      ]
     },
     "execution_count": 13,
     "metadata": {},
     "output_type": "execute_result"
    }
   ],
   "source": [
    "df_SR.isnull().sum().sort_values(ascending = False)\n"
   ]
  },
  {
   "cell_type": "code",
   "execution_count": null,
   "metadata": {},
   "outputs": [
    {
     "data": {
      "text/plain": [
       "Index(['Ranking', 'University Name', 'National/Regional Rank', 'Total Score',\n",
       "       'LOGO', 'University Detail '],\n",
       "      dtype='object')"
      ]
     },
     "execution_count": 14,
     "metadata": {},
     "output_type": "execute_result"
    }
   ],
   "source": [
    "df_SR.columns"
   ]
  },
  {
   "cell_type": "code",
   "execution_count": null,
   "metadata": {},
   "outputs": [
    {
     "data": {
      "text/plain": [
       "(1000, 6)"
      ]
     },
     "execution_count": 15,
     "metadata": {},
     "output_type": "execute_result"
    }
   ],
   "source": [
    "df_SR.shape"
   ]
  },
  {
   "cell_type": "code",
   "execution_count": null,
   "metadata": {},
   "outputs": [
    {
     "name": "stdout",
     "output_type": "stream",
     "text": [
      "<class 'pandas.core.frame.DataFrame'>\n",
      "RangeIndex: 1000 entries, 0 to 999\n",
      "Data columns (total 6 columns):\n",
      " #   Column                  Non-Null Count  Dtype  \n",
      "---  ------                  --------------  -----  \n",
      " 0   Ranking                 1000 non-null   object \n",
      " 1   University Name         1000 non-null   object \n",
      " 2   National/Regional Rank  1000 non-null   object \n",
      " 3   Total Score             1000 non-null   float64\n",
      " 4   LOGO                    1000 non-null   object \n",
      " 5   University Detail       1000 non-null   object \n",
      "dtypes: float64(1), object(5)\n",
      "memory usage: 47.0+ KB\n"
     ]
    }
   ],
   "source": [
    "df_SR.info()"
   ]
  },
  {
   "cell_type": "markdown",
   "metadata": {},
   "source": [
    "##### 5- **Uniqueness**"
   ]
  },
  {
   "cell_type": "code",
   "execution_count": null,
   "metadata": {},
   "outputs": [
    {
     "data": {
      "text/plain": [
       "0"
      ]
     },
     "execution_count": 17,
     "metadata": {},
     "output_type": "execute_result"
    }
   ],
   "source": [
    "df_SR.duplicated().sum()"
   ]
  },
  {
   "cell_type": "markdown",
   "metadata": {},
   "source": [
    "##### 6- **Completeness**"
   ]
  },
  {
   "cell_type": "code",
   "execution_count": null,
   "metadata": {},
   "outputs": [
    {
     "data": {
      "text/plain": [
       "Ranking                   0\n",
       "University Name           0\n",
       "National/Regional Rank    0\n",
       "Total Score               0\n",
       "LOGO                      0\n",
       "University Detail         0\n",
       "dtype: int64"
      ]
     },
     "execution_count": 19,
     "metadata": {},
     "output_type": "execute_result"
    }
   ],
   "source": [
    "df_SR.isnull().sum().sort_values(ascending = False)\n"
   ]
  },
  {
   "cell_type": "markdown",
   "metadata": {},
   "source": [
    "##### 7- **Check Accuracy**"
   ]
  },
  {
   "cell_type": "code",
   "execution_count": null,
   "metadata": {},
   "outputs": [
    {
     "data": {
      "text/html": [
       "<div>\n",
       "<style scoped>\n",
       "    .dataframe tbody tr th:only-of-type {\n",
       "        vertical-align: middle;\n",
       "    }\n",
       "\n",
       "    .dataframe tbody tr th {\n",
       "        vertical-align: top;\n",
       "    }\n",
       "\n",
       "    .dataframe thead th {\n",
       "        text-align: right;\n",
       "    }\n",
       "</style>\n",
       "<table border=\"1\" class=\"dataframe\">\n",
       "  <thead>\n",
       "    <tr style=\"text-align: right;\">\n",
       "      <th></th>\n",
       "      <th>Ranking</th>\n",
       "      <th>University Name</th>\n",
       "      <th>National/Regional Rank</th>\n",
       "      <th>Total Score</th>\n",
       "      <th>LOGO</th>\n",
       "      <th>University Detail</th>\n",
       "    </tr>\n",
       "  </thead>\n",
       "  <tbody>\n",
       "    <tr>\n",
       "      <th>0</th>\n",
       "      <td>1</td>\n",
       "      <td>Harvard University</td>\n",
       "      <td>1</td>\n",
       "      <td>100.0</td>\n",
       "      <td>http://www.shanghairanking.com/_uni/logo/032bd...</td>\n",
       "      <td>http://www.shanghairanking.com/institution/har...</td>\n",
       "    </tr>\n",
       "    <tr>\n",
       "      <th>1</th>\n",
       "      <td>2</td>\n",
       "      <td>Stanford University</td>\n",
       "      <td>2</td>\n",
       "      <td>76.8</td>\n",
       "      <td>http://www.shanghairanking.com/_uni/logo/13de8...</td>\n",
       "      <td>http://www.shanghairanking.com/institution/sta...</td>\n",
       "    </tr>\n",
       "    <tr>\n",
       "      <th>2</th>\n",
       "      <td>3</td>\n",
       "      <td>Massachusetts Institute of Technology (MIT)</td>\n",
       "      <td>3</td>\n",
       "      <td>70.1</td>\n",
       "      <td>http://www.shanghairanking.com/_uni/logo/79165...</td>\n",
       "      <td>http://www.shanghairanking.com/institution/mas...</td>\n",
       "    </tr>\n",
       "    <tr>\n",
       "      <th>3</th>\n",
       "      <td>4</td>\n",
       "      <td>University of Cambridge</td>\n",
       "      <td>1</td>\n",
       "      <td>69.6</td>\n",
       "      <td>http://www.shanghairanking.com/_uni/logo/8d986...</td>\n",
       "      <td>http://www.shanghairanking.com/institution/uni...</td>\n",
       "    </tr>\n",
       "    <tr>\n",
       "      <th>4</th>\n",
       "      <td>5</td>\n",
       "      <td>University of California, Berkeley</td>\n",
       "      <td>4</td>\n",
       "      <td>65.3</td>\n",
       "      <td>http://www.shanghairanking.com/_uni/logo/0ff17...</td>\n",
       "      <td>http://www.shanghairanking.com/institution/uni...</td>\n",
       "    </tr>\n",
       "  </tbody>\n",
       "</table>\n",
       "</div>"
      ],
      "text/plain": [
       "  Ranking                              University Name National/Regional Rank  \\\n",
       "0       1                           Harvard University                      1   \n",
       "1       2                          Stanford University                      2   \n",
       "2       3  Massachusetts Institute of Technology (MIT)                      3   \n",
       "3       4                      University of Cambridge                      1   \n",
       "4       5           University of California, Berkeley                      4   \n",
       "\n",
       "   Total Score                                               LOGO  \\\n",
       "0        100.0  http://www.shanghairanking.com/_uni/logo/032bd...   \n",
       "1         76.8  http://www.shanghairanking.com/_uni/logo/13de8...   \n",
       "2         70.1  http://www.shanghairanking.com/_uni/logo/79165...   \n",
       "3         69.6  http://www.shanghairanking.com/_uni/logo/8d986...   \n",
       "4         65.3  http://www.shanghairanking.com/_uni/logo/0ff17...   \n",
       "\n",
       "                                  University Detail   \n",
       "0  http://www.shanghairanking.com/institution/har...  \n",
       "1  http://www.shanghairanking.com/institution/sta...  \n",
       "2  http://www.shanghairanking.com/institution/mas...  \n",
       "3  http://www.shanghairanking.com/institution/uni...  \n",
       "4  http://www.shanghairanking.com/institution/uni...  "
      ]
     },
     "execution_count": 20,
     "metadata": {},
     "output_type": "execute_result"
    }
   ],
   "source": [
    "df_SR.head()"
   ]
  },
  {
   "cell_type": "code",
   "execution_count": null,
   "metadata": {},
   "outputs": [
    {
     "data": {
      "text/plain": [
       "Ranking                    object\n",
       "University Name            object\n",
       "National/Regional Rank     object\n",
       "Total Score               float64\n",
       "LOGO                       object\n",
       "University Detail          object\n",
       "dtype: object"
      ]
     },
     "execution_count": 22,
     "metadata": {},
     "output_type": "execute_result"
    }
   ],
   "source": [
    "df_SR.dtypes"
   ]
  },
  {
   "cell_type": "code",
   "execution_count": null,
   "metadata": {},
   "outputs": [],
   "source": [
    "# Created new dataframe that only has these columns: 'Ranking', 'University Name', 'National/Regional Rank', 'Total Score'\n",
    "\n",
    "df_SR_choosen_col = df_SR[['Ranking', 'University Name', 'National/Regional Rank', 'Total Score']]"
   ]
  },
  {
   "cell_type": "code",
   "execution_count": null,
   "metadata": {},
   "outputs": [
    {
     "name": "stderr",
     "output_type": "stream",
     "text": [
      "C:\\Users\\alsau\\AppData\\Local\\Temp\\ipykernel_33712\\2663743202.py:3: SettingWithCopyWarning: \n",
      "A value is trying to be set on a copy of a slice from a DataFrame.\n",
      "Try using .loc[row_indexer,col_indexer] = value instead\n",
      "\n",
      "See the caveats in the documentation: https://pandas.pydata.org/pandas-docs/stable/user_guide/indexing.html#returning-a-view-versus-a-copy\n",
      "  df_SR_choosen_col['New_Rank'] = df_SR_choosen_col['Ranking'].apply(lambda x : int(x.split('-')[0]))\n"
     ]
    }
   ],
   "source": [
    "#  Becasue we have dash \" - \" in Ranking column  \n",
    "\n",
    "df_SR_choosen_col['New_Rank'] = df_SR_choosen_col['Ranking'].apply(lambda x : int(x.split('-')[0]))"
   ]
  },
  {
   "cell_type": "code",
   "execution_count": null,
   "metadata": {},
   "outputs": [
    {
     "name": "stderr",
     "output_type": "stream",
     "text": [
      "C:\\Users\\alsau\\AppData\\Local\\Temp\\ipykernel_33712\\3861517919.py:3: SettingWithCopyWarning: \n",
      "A value is trying to be set on a copy of a slice from a DataFrame\n",
      "\n",
      "See the caveats in the documentation: https://pandas.pydata.org/pandas-docs/stable/user_guide/indexing.html#returning-a-view-versus-a-copy\n",
      "  df_SR_choosen_col.drop(columns=['Ranking'], inplace=True)\n"
     ]
    }
   ],
   "source": [
    "# we dropped Ranking column because we already has the same values in: New_Rank\n",
    "\n",
    "df_SR_choosen_col.drop(columns=['Ranking'], inplace=True)"
   ]
  },
  {
   "cell_type": "markdown",
   "metadata": {},
   "source": [
    "# Ranking System:  To Verify use these codes below :\n",
    "\n",
    "- first 100 Universities are ranked indiviually from 1 - 100\n",
    "\n",
    "        # Code: df_SR_choosen_col[['Ranking','Total Score', 'New_Rank']][0:100]\n",
    "\n",
    "# The rest of universities are ranked in group category: \n",
    "\n",
    "\n",
    "- From 101 - 150 universities in the World will fall under 101 group category. \n",
    "\n",
    "        # Code: df_SR_choosen_col[['Ranking','Total Score', 'New_Rank']][100:150]\n",
    "\n",
    "- 151 - 200 universities in World ranking will fall under 151 group category.\n",
    "\n",
    "        # code: df_SR_choosen_col[['Ranking','Total Score', 'New_Rank']][150:200]\n",
    "\n",
    "- 201 - 300 universities in World ranking will fall under 201 group category.\n",
    "\n",
    "        # code: df_SR_choosen_col[['Ranking','Total Score', 'New_Rank']][200:299]\n",
    "        \n",
    "\n",
    "- 301 - 400 universities in World ranking will fall under 301 group category.\n",
    "- 401 - 500 universities in World ranking will fall under 401 group category.\n",
    "\n",
    "- 501 - 600 universities in World ranking will fall under 501 group category.\n",
    "- 601 - 700 universities in World ranking will fall under 601 group category.\n",
    "\n",
    "- 701 - 800 universities in World ranking will fall under 701 group category.\n",
    "- 801 - 900 universities in World ranking will fall under 801 group category.\n",
    "\n",
    "- 901 - 1000 universities in World ranking will fall under 901 group category."
   ]
  },
  {
   "cell_type": "code",
   "execution_count": null,
   "metadata": {},
   "outputs": [
    {
     "name": "stderr",
     "output_type": "stream",
     "text": [
      "C:\\Users\\alsau\\AppData\\Local\\Temp\\ipykernel_33712\\355499910.py:3: SettingWithCopyWarning: \n",
      "A value is trying to be set on a copy of a slice from a DataFrame.\n",
      "Try using .loc[row_indexer,col_indexer] = value instead\n",
      "\n",
      "See the caveats in the documentation: https://pandas.pydata.org/pandas-docs/stable/user_guide/indexing.html#returning-a-view-versus-a-copy\n",
      "  df_SR_choosen_col['New_National/Regional Rank'] = df_SR_choosen_col['National/Regional Rank'].apply(lambda x : int(x.split('-')[0]))\n"
     ]
    }
   ],
   "source": [
    "# Created new column for National/regional Rank  Becasue the original one has dash ('-') in column.\n",
    "\n",
    "df_SR_choosen_col['New_National/Regional Rank'] = df_SR_choosen_col['National/Regional Rank'].apply(lambda x : int(x.split('-')[0]))"
   ]
  },
  {
   "cell_type": "code",
   "execution_count": null,
   "metadata": {},
   "outputs": [
    {
     "name": "stderr",
     "output_type": "stream",
     "text": [
      "C:\\Users\\alsau\\AppData\\Local\\Temp\\ipykernel_33712\\2730236465.py:3: SettingWithCopyWarning: \n",
      "A value is trying to be set on a copy of a slice from a DataFrame\n",
      "\n",
      "See the caveats in the documentation: https://pandas.pydata.org/pandas-docs/stable/user_guide/indexing.html#returning-a-view-versus-a-copy\n",
      "  df_SR_choosen_col.drop(columns=['National/Regional Rank'], inplace=True)\n"
     ]
    }
   ],
   "source": [
    "# Dropped the old one to make it clear and orgranzied \n",
    "\n",
    "df_SR_choosen_col.drop(columns=['National/Regional Rank'], inplace=True)"
   ]
  },
  {
   "cell_type": "code",
   "execution_count": null,
   "metadata": {},
   "outputs": [
    {
     "data": {
      "image/png": "[encoded data removed]",
      "text/plain": [
       "<Figure size 800x600 with 1 Axes>"
      ]
     },
     "metadata": {},
     "output_type": "display_data"
    }
   ],
   "source": [
    "# To see Total Score of Universities\n",
    "\n",
    "plt.figure(figsize=(8, 6))\n",
    "plt.hist(df_SR_choosen_col['Total Score'], bins=10, color='skyblue', edgecolor='black')\n",
    "plt.xlabel('Universities Total Score')\n",
    "plt.ylabel('Universities Ranking group ')\n",
    "plt.title('Top Universities In the World')\n",
    "plt.show()"
   ]
  },
  {
   "cell_type": "code",
   "execution_count": null,
   "metadata": {},
   "outputs": [
    {
     "data": {
      "image/png": "[encoded data removed]",
      "text/plain": [
       "<Figure size 800x600 with 1 Axes>"
      ]
     },
     "metadata": {},
     "output_type": "display_data"
    }
   ],
   "source": [
    "# To look for an outliers in total scores\n",
    "\n",
    "plt.figure(figsize=(8, 6))\n",
    "df_SR_choosen_col.boxplot(column=['Total Score'])\n",
    "plt.title('University total ranking score out of 100 ')\n",
    "plt.ylabel(' Total Score ')\n",
    "plt.show()"
   ]
  },
  {
   "cell_type": "code",
   "execution_count": null,
   "metadata": {},
   "outputs": [
    {
     "data": {
      "text/plain": [
       "5.9435"
      ]
     },
     "execution_count": 119,
     "metadata": {},
     "output_type": "execute_result"
    }
   ],
   "source": [
    "# To see the mean of Universities total score:\n",
    "\n",
    "df_SR_choosen_col['Total Score'].mean()"
   ]
  },
  {
   "cell_type": "markdown",
   "metadata": {},
   "source": [
    "# check the code below::"
   ]
  },
  {
   "cell_type": "code",
   "execution_count": null,
   "metadata": {},
   "outputs": [
    {
     "name": "stdout",
     "output_type": "stream",
     "text": [
      "First Quartile (Q1): 0.0\n",
      "Second Quartile (Q2 or Median): 0.0\n",
      "Third Quartile (Q3): 7.5\n"
     ]
    }
   ],
   "source": [
    "# You will find that \"first quartile & second quartile\" is equal to zero\n",
    "# The reason Q1 & Q2 has  '' 0 Value '' because Some universities has  total score of Zero ' 0 '\n",
    "\n",
    "\n",
    "\n",
    "\n",
    "q1 = df_SR_choosen_col['Total Score'].quantile(0.25)\n",
    "\n",
    "# Calculate the second quartile (median or 50th percentile)\n",
    "q2 = df_SR_choosen_col['Total Score'].quantile(0.5)\n",
    "\n",
    "# Calculate the third quartile (75th percentile)\n",
    "q3 = df_SR_choosen_col['Total Score'].quantile(0.75)\n",
    "\n",
    "print(\"First Quartile (Q1):\", q1)\n",
    "print(\"Second Quartile (Q2 or Median):\", q2)\n",
    "print(\"Third Quartile (Q3):\", q3)"
   ]
  },
  {
   "cell_type": "code",
   "execution_count": null,
   "metadata": {},
   "outputs": [
    {
     "data": {
      "image/png": "[encoded data removed]",
      "text/plain": [
       "<Figure size 800x600 with 1 Axes>"
      ]
     },
     "metadata": {},
     "output_type": "display_data"
    }
   ],
   "source": [
    "# Create a boxplot\n",
    "plt.figure(figsize=(8, 6))\n",
    "df_SR_choosen_col.boxplot(column=['New_Rank', 'New_National/Regional Rank'])\n",
    "plt.title('World_Rank  &  National / Regional Rank')\n",
    "plt.ylabel('Universities rank')\n",
    "plt.show()"
   ]
  },
  {
   "cell_type": "code",
   "execution_count": null,
   "metadata": {},
   "outputs": [
    {
     "data": {
      "text/plain": [
       "458.429"
      ]
     },
     "execution_count": 120,
     "metadata": {},
     "output_type": "execute_result"
    }
   ],
   "source": [
    "\n",
    "# TO see the mean of World Rank\n",
    "\n",
    "df_SR_choosen_col['New_Rank'].mean()"
   ]
  },
  {
   "cell_type": "markdown",
   "metadata": {},
   "source": [
    "# The mean of World rank is: 458.429"
   ]
  },
  {
   "cell_type": "code",
   "execution_count": null,
   "metadata": {},
   "outputs": [
    {
     "data": {
      "image/png": "[encoded data removed]",
      "text/plain": [
       "<Figure size 800x600 with 1 Axes>"
      ]
     },
     "metadata": {},
     "output_type": "display_data"
    }
   ],
   "source": [
    "# To find the mean and standard deviation of the column\n",
    "\n",
    "column_data = df_SR_choosen_col['New_Rank']\n",
    "\n",
    "mean = df_SR_choosen_col['New_Rank'].mean()\n",
    "std_dev = df_SR_choosen_col['New_Rank'].std()\n",
    "\n",
    "# To Generate random samples from a normal distribution with the calculated mean and standard deviation\n",
    "samples = np.random.normal(mean, std_dev, size=len(column_data))\n",
    "\n",
    "#normal distribution chart\n",
    "plt.figure(figsize=(8, 6))\n",
    "plt.hist(samples, bins=30, density=True, alpha=0.6, color='darkblue')\n",
    "\n",
    "# Adding a vertical line for the mean\n",
    "plt.axvline(mean, color='k', linestyle='dashed', linewidth=1)\n",
    "\n",
    "plt.title('Normal Distribution Chart')\n",
    "plt.xlabel('Value')\n",
    "plt.ylabel('Density')\n",
    "\n",
    "# Adding a legend\n",
    "plt.legend(['Mean', 'Distribution'])\n",
    "\n",
    "# Show plot\n",
    "plt.show()\n",
    "\n",
    "\n",
    "# Big percentage of Universities falls under this Universities range ranking: (200)-(600) because of the per capita academic performance of an institution or \n",
    "# the Nobel Laureates(winners), Fields Medalists, Highly Cited Researchers, and Papers published in Nature, or Science fields"
   ]
  },
  {
   "cell_type": "code",
   "execution_count": null,
   "metadata": {},
   "outputs": [
    {
     "data": {
      "image/png": "[encoded data removed]",
      "text/plain": [
       "<Figure size 800x600 with 1 Axes>"
      ]
     },
     "metadata": {},
     "output_type": "display_data"
    }
   ],
   "source": [
    "# To see the outliers for National/Regional Rank score\n",
    "plt.figure(figsize=(8, 6))\n",
    "df_SR_choosen_col.boxplot(column=['New_National/Regional Rank'])\n",
    "plt.title('Boxplot of National/Regional Rank')\n",
    "plt.ylabel('Universities Rank')\n",
    "plt.show()"
   ]
  },
  {
   "cell_type": "code",
   "execution_count": null,
   "metadata": {},
   "outputs": [
    {
     "data": {
      "text/plain": [
       "38.244"
      ]
     },
     "execution_count": 185,
     "metadata": {},
     "output_type": "execute_result"
    }
   ],
   "source": [
    "# Mean Because of the outliers \n",
    "\n",
    "df_SR_choosen_col['New_National/Regional Rank'].mean()"
   ]
  },
  {
   "cell_type": "markdown",
   "metadata": {},
   "source": [
    "# mean of National/Regional Rank is:  38.244"
   ]
  },
  {
   "cell_type": "code",
   "execution_count": null,
   "metadata": {},
   "outputs": [
    {
     "data": {
      "image/png": "[encoded data removed]",
      "text/plain": [
       "<Figure size 800x600 with 1 Axes>"
      ]
     },
     "metadata": {},
     "output_type": "display_data"
    }
   ],
   "source": [
    "# To see if the data is normally distributed for National Rank\n",
    "\n",
    "column_data = df_SR_choosen_col['New_National/Regional Rank']\n",
    "\n",
    "# To find the mean and standard deviation\n",
    "mean = df_SR_choosen_col['New_National/Regional Rank'].mean()\n",
    "std_dev = df_SR_choosen_col['New_National/Regional Rank'].std()\n",
    "\n",
    "# To Generate random samples from a normal distribution with the calculated mean and standard deviation\n",
    "samples = np.random.normal(mean, std_dev, size=len(column_data))\n",
    "\n",
    "#normal distribution chart\n",
    "plt.figure(figsize=(8, 6))\n",
    "plt.hist(samples, bins=30, density=True, alpha=0.6, color='g')\n",
    "\n",
    "# Adding a vertical line for the mean\n",
    "plt.axvline(mean, color='k', linestyle='dashed', linewidth=1)\n",
    "\n",
    "\n",
    "plt.title('Normal Distribution Chart')\n",
    "plt.xlabel('Value')\n",
    "plt.ylabel('Density')\n",
    "\n",
    "# Adding a legend\n",
    "plt.legend(['Mean', 'Distribution'])\n",
    "\n",
    "# Show plot\n",
    "plt.show()\n",
    "\n",
    "\n",
    "# high number of National/Regional Universities were giving a rank of zero. Because they dont have any of these : Nobel Laureates(winners), Fields Medalists, Highly Cited Researchers, or Papers published in Nature, or Science, and the per capita academic performance of an institution.\n",
    "\n"
   ]
  },
  {
   "cell_type": "code",
   "execution_count": null,
   "metadata": {},
   "outputs": [
    {
     "data": {
      "text/html": [
       "<div>\n",
       "<style scoped>\n",
       "    .dataframe tbody tr th:only-of-type {\n",
       "        vertical-align: middle;\n",
       "    }\n",
       "\n",
       "    .dataframe tbody tr th {\n",
       "        vertical-align: top;\n",
       "    }\n",
       "\n",
       "    .dataframe thead th {\n",
       "        text-align: right;\n",
       "    }\n",
       "</style>\n",
       "<table border=\"1\" class=\"dataframe\">\n",
       "  <thead>\n",
       "    <tr style=\"text-align: right;\">\n",
       "      <th></th>\n",
       "      <th>University Name</th>\n",
       "      <th>Total Score</th>\n",
       "      <th>New_Rank</th>\n",
       "      <th>New_National/Regional Rank</th>\n",
       "    </tr>\n",
       "  </thead>\n",
       "  <tbody>\n",
       "    <tr>\n",
       "      <th>0</th>\n",
       "      <td>Harvard University</td>\n",
       "      <td>100.0</td>\n",
       "      <td>1</td>\n",
       "      <td>1</td>\n",
       "    </tr>\n",
       "    <tr>\n",
       "      <th>1</th>\n",
       "      <td>Stanford University</td>\n",
       "      <td>76.8</td>\n",
       "      <td>2</td>\n",
       "      <td>2</td>\n",
       "    </tr>\n",
       "    <tr>\n",
       "      <th>2</th>\n",
       "      <td>Massachusetts Institute of Technology (MIT)</td>\n",
       "      <td>70.1</td>\n",
       "      <td>3</td>\n",
       "      <td>3</td>\n",
       "    </tr>\n",
       "    <tr>\n",
       "      <th>3</th>\n",
       "      <td>University of Cambridge</td>\n",
       "      <td>69.6</td>\n",
       "      <td>4</td>\n",
       "      <td>1</td>\n",
       "    </tr>\n",
       "    <tr>\n",
       "      <th>4</th>\n",
       "      <td>University of California, Berkeley</td>\n",
       "      <td>65.3</td>\n",
       "      <td>5</td>\n",
       "      <td>4</td>\n",
       "    </tr>\n",
       "    <tr>\n",
       "      <th>...</th>\n",
       "      <td>...</td>\n",
       "      <td>...</td>\n",
       "      <td>...</td>\n",
       "      <td>...</td>\n",
       "    </tr>\n",
       "    <tr>\n",
       "      <th>995</th>\n",
       "      <td>University of Wuppertal</td>\n",
       "      <td>0.0</td>\n",
       "      <td>901</td>\n",
       "      <td>46</td>\n",
       "    </tr>\n",
       "    <tr>\n",
       "      <th>996</th>\n",
       "      <td>Warsaw University of Technology</td>\n",
       "      <td>0.0</td>\n",
       "      <td>901</td>\n",
       "      <td>7</td>\n",
       "    </tr>\n",
       "    <tr>\n",
       "      <th>997</th>\n",
       "      <td>Western Norway University of Applied Sciences</td>\n",
       "      <td>0.0</td>\n",
       "      <td>901</td>\n",
       "      <td>6</td>\n",
       "    </tr>\n",
       "    <tr>\n",
       "      <th>998</th>\n",
       "      <td>Wroclaw University of Science and Technology</td>\n",
       "      <td>0.0</td>\n",
       "      <td>901</td>\n",
       "      <td>7</td>\n",
       "    </tr>\n",
       "    <tr>\n",
       "      <th>999</th>\n",
       "      <td>Yantai University</td>\n",
       "      <td>0.0</td>\n",
       "      <td>901</td>\n",
       "      <td>148</td>\n",
       "    </tr>\n",
       "  </tbody>\n",
       "</table>\n",
       "<p>1000 rows × 4 columns</p>\n",
       "</div>"
      ],
      "text/plain": [
       "                                   University Name  Total Score  New_Rank  \\\n",
       "0                               Harvard University        100.0         1   \n",
       "1                              Stanford University         76.8         2   \n",
       "2      Massachusetts Institute of Technology (MIT)         70.1         3   \n",
       "3                          University of Cambridge         69.6         4   \n",
       "4               University of California, Berkeley         65.3         5   \n",
       "..                                             ...          ...       ...   \n",
       "995                        University of Wuppertal          0.0       901   \n",
       "996                Warsaw University of Technology          0.0       901   \n",
       "997  Western Norway University of Applied Sciences          0.0       901   \n",
       "998   Wroclaw University of Science and Technology          0.0       901   \n",
       "999                              Yantai University          0.0       901   \n",
       "\n",
       "     New_National/Regional Rank  \n",
       "0                             1  \n",
       "1                             2  \n",
       "2                             3  \n",
       "3                             1  \n",
       "4                             4  \n",
       "..                          ...  \n",
       "995                          46  \n",
       "996                           7  \n",
       "997                           6  \n",
       "998                           7  \n",
       "999                         148  \n",
       "\n",
       "[1000 rows x 4 columns]"
      ]
     },
     "execution_count": 104,
     "metadata": {},
     "output_type": "execute_result"
    }
   ],
   "source": [
    "Uni_group_RK_all = df_SR_choosen_col[['University Name','Total Score', 'New_Rank','New_National/Regional Rank']]\n",
    "\n",
    "Uni_group_RK_all"
   ]
  },
  {
   "cell_type": "markdown",
   "metadata": {},
   "source": [
    "# Is there a correlation between national and global university rankings?"
   ]
  },
  {
   "cell_type": "markdown",
   "metadata": {},
   "source": [
    " - there is a small positive correlation between national and global Universities"
   ]
  },
  {
   "cell_type": "code",
   "execution_count": null,
   "metadata": {},
   "outputs": [
    {
     "data": {
      "image/png": "[encoded data removed]",
      "text/plain": [
       "<Figure size 640x480 with 2 Axes>"
      ]
     },
     "metadata": {},
     "output_type": "display_data"
    }
   ],
   "source": [
    "selected_columns = Uni_group_RK_all[['Total Score', 'New_Rank','New_National/Regional Rank']]\n",
    "\n",
    "correlation_matrix = selected_columns.corr()\n",
    "\n",
    "sns.heatmap(correlation_matrix, annot=True, cmap='coolwarm', fmt=\".2f\")\n",
    "\n",
    "\n",
    "plt.title('Correlation Heatmap')\n",
    "\n",
    "# Show plot\n",
    "plt.show()"
   ]
  },
  {
   "cell_type": "code",
   "execution_count": null,
   "metadata": {},
   "outputs": [
    {
     "data": {
      "text/html": [
       "<div>\n",
       "<style scoped>\n",
       "    .dataframe tbody tr th:only-of-type {\n",
       "        vertical-align: middle;\n",
       "    }\n",
       "\n",
       "    .dataframe tbody tr th {\n",
       "        vertical-align: top;\n",
       "    }\n",
       "\n",
       "    .dataframe thead th {\n",
       "        text-align: right;\n",
       "    }\n",
       "</style>\n",
       "<table border=\"1\" class=\"dataframe\">\n",
       "  <thead>\n",
       "    <tr style=\"text-align: right;\">\n",
       "      <th></th>\n",
       "      <th>University Name</th>\n",
       "      <th>Total Score</th>\n",
       "      <th>New_Rank</th>\n",
       "    </tr>\n",
       "  </thead>\n",
       "  <tbody>\n",
       "    <tr>\n",
       "      <th>0</th>\n",
       "      <td>Harvard University</td>\n",
       "      <td>100.0</td>\n",
       "      <td>1</td>\n",
       "    </tr>\n",
       "    <tr>\n",
       "      <th>1</th>\n",
       "      <td>Stanford University</td>\n",
       "      <td>76.8</td>\n",
       "      <td>2</td>\n",
       "    </tr>\n",
       "    <tr>\n",
       "      <th>2</th>\n",
       "      <td>Massachusetts Institute of Technology (MIT)</td>\n",
       "      <td>70.1</td>\n",
       "      <td>3</td>\n",
       "    </tr>\n",
       "    <tr>\n",
       "      <th>3</th>\n",
       "      <td>University of Cambridge</td>\n",
       "      <td>69.6</td>\n",
       "      <td>4</td>\n",
       "    </tr>\n",
       "    <tr>\n",
       "      <th>4</th>\n",
       "      <td>University of California, Berkeley</td>\n",
       "      <td>65.3</td>\n",
       "      <td>5</td>\n",
       "    </tr>\n",
       "    <tr>\n",
       "      <th>5</th>\n",
       "      <td>Princeton University</td>\n",
       "      <td>60.0</td>\n",
       "      <td>6</td>\n",
       "    </tr>\n",
       "    <tr>\n",
       "      <th>6</th>\n",
       "      <td>University of Oxford</td>\n",
       "      <td>58.7</td>\n",
       "      <td>7</td>\n",
       "    </tr>\n",
       "    <tr>\n",
       "      <th>7</th>\n",
       "      <td>Columbia University</td>\n",
       "      <td>57.2</td>\n",
       "      <td>8</td>\n",
       "    </tr>\n",
       "    <tr>\n",
       "      <th>8</th>\n",
       "      <td>California Institute of Technology</td>\n",
       "      <td>56.1</td>\n",
       "      <td>9</td>\n",
       "    </tr>\n",
       "    <tr>\n",
       "      <th>9</th>\n",
       "      <td>University of Chicago</td>\n",
       "      <td>55.1</td>\n",
       "      <td>10</td>\n",
       "    </tr>\n",
       "  </tbody>\n",
       "</table>\n",
       "</div>"
      ],
      "text/plain": [
       "                               University Name  Total Score  New_Rank\n",
       "0                           Harvard University        100.0         1\n",
       "1                          Stanford University         76.8         2\n",
       "2  Massachusetts Institute of Technology (MIT)         70.1         3\n",
       "3                      University of Cambridge         69.6         4\n",
       "4           University of California, Berkeley         65.3         5\n",
       "5                         Princeton University         60.0         6\n",
       "6                         University of Oxford         58.7         7\n",
       "7                          Columbia University         57.2         8\n",
       "8           California Institute of Technology         56.1         9\n",
       "9                        University of Chicago         55.1        10"
      ]
     },
     "execution_count": 107,
     "metadata": {},
     "output_type": "execute_result"
    }
   ],
   "source": [
    "Uni_group_World_RK_10 = Uni_group_RK_all[['University Name','Total Score', 'New_Rank']][0:10]\n",
    "Uni_group_World_RK_10"
   ]
  },
  {
   "cell_type": "markdown",
   "metadata": {},
   "source": [
    "# Which universities are ranked in the top 10 globally?\n"
   ]
  },
  {
   "cell_type": "code",
   "execution_count": null,
   "metadata": {},
   "outputs": [
    {
     "data": {
      "image/png": "[encoded data removed]",
      "text/plain": [
       "<Figure size 1000x600 with 1 Axes>"
      ]
     },
     "metadata": {},
     "output_type": "display_data"
    }
   ],
   "source": [
    "# To show the top 10 universities in the world\n",
    "\n",
    "plt.figure(figsize=(10, 6))  # Adjust the figure size as needed\n",
    "plt.bar(Uni_group_World_RK_10['University Name'], Uni_group_World_RK_10['Total Score'], color='skyblue')\n",
    "\n",
    "# Adding title and labels\n",
    "plt.title('Top 10 Universities In The World')\n",
    "plt.xlabel('University')\n",
    "plt.ylabel('Total Score')\n",
    "\n",
    "# Rotating x-axis labels for better readability if needed\n",
    "plt.xticks(rotation=90)\n",
    "\n",
    "# Show plot\n",
    "plt.show()"
   ]
  },
  {
   "cell_type": "code",
   "execution_count": null,
   "metadata": {},
   "outputs": [
    {
     "data": {
      "text/html": [
       "<div>\n",
       "<style scoped>\n",
       "    .dataframe tbody tr th:only-of-type {\n",
       "        vertical-align: middle;\n",
       "    }\n",
       "\n",
       "    .dataframe tbody tr th {\n",
       "        vertical-align: top;\n",
       "    }\n",
       "\n",
       "    .dataframe thead th {\n",
       "        text-align: right;\n",
       "    }\n",
       "</style>\n",
       "<table border=\"1\" class=\"dataframe\">\n",
       "  <thead>\n",
       "    <tr style=\"text-align: right;\">\n",
       "      <th></th>\n",
       "      <th>University Name</th>\n",
       "      <th>Total Score</th>\n",
       "      <th>New_National/Regional Rank</th>\n",
       "    </tr>\n",
       "  </thead>\n",
       "  <tbody>\n",
       "    <tr>\n",
       "      <th>0</th>\n",
       "      <td>Harvard University</td>\n",
       "      <td>100.0</td>\n",
       "      <td>1</td>\n",
       "    </tr>\n",
       "    <tr>\n",
       "      <th>1</th>\n",
       "      <td>Stanford University</td>\n",
       "      <td>76.8</td>\n",
       "      <td>2</td>\n",
       "    </tr>\n",
       "    <tr>\n",
       "      <th>2</th>\n",
       "      <td>Massachusetts Institute of Technology (MIT)</td>\n",
       "      <td>70.1</td>\n",
       "      <td>3</td>\n",
       "    </tr>\n",
       "    <tr>\n",
       "      <th>3</th>\n",
       "      <td>University of Cambridge</td>\n",
       "      <td>69.6</td>\n",
       "      <td>1</td>\n",
       "    </tr>\n",
       "    <tr>\n",
       "      <th>4</th>\n",
       "      <td>University of California, Berkeley</td>\n",
       "      <td>65.3</td>\n",
       "      <td>4</td>\n",
       "    </tr>\n",
       "    <tr>\n",
       "      <th>5</th>\n",
       "      <td>Princeton University</td>\n",
       "      <td>60.0</td>\n",
       "      <td>5</td>\n",
       "    </tr>\n",
       "    <tr>\n",
       "      <th>6</th>\n",
       "      <td>University of Oxford</td>\n",
       "      <td>58.7</td>\n",
       "      <td>2</td>\n",
       "    </tr>\n",
       "    <tr>\n",
       "      <th>7</th>\n",
       "      <td>Columbia University</td>\n",
       "      <td>57.2</td>\n",
       "      <td>6</td>\n",
       "    </tr>\n",
       "    <tr>\n",
       "      <th>8</th>\n",
       "      <td>California Institute of Technology</td>\n",
       "      <td>56.1</td>\n",
       "      <td>7</td>\n",
       "    </tr>\n",
       "    <tr>\n",
       "      <th>9</th>\n",
       "      <td>University of Chicago</td>\n",
       "      <td>55.1</td>\n",
       "      <td>8</td>\n",
       "    </tr>\n",
       "  </tbody>\n",
       "</table>\n",
       "</div>"
      ],
      "text/plain": [
       "                               University Name  Total Score  \\\n",
       "0                           Harvard University        100.0   \n",
       "1                          Stanford University         76.8   \n",
       "2  Massachusetts Institute of Technology (MIT)         70.1   \n",
       "3                      University of Cambridge         69.6   \n",
       "4           University of California, Berkeley         65.3   \n",
       "5                         Princeton University         60.0   \n",
       "6                         University of Oxford         58.7   \n",
       "7                          Columbia University         57.2   \n",
       "8           California Institute of Technology         56.1   \n",
       "9                        University of Chicago         55.1   \n",
       "\n",
       "   New_National/Regional Rank  \n",
       "0                           1  \n",
       "1                           2  \n",
       "2                           3  \n",
       "3                           1  \n",
       "4                           4  \n",
       "5                           5  \n",
       "6                           2  \n",
       "7                           6  \n",
       "8                           7  \n",
       "9                           8  "
      ]
     },
     "execution_count": 109,
     "metadata": {},
     "output_type": "execute_result"
    }
   ],
   "source": [
    "Uni_group_World_National_RK = Uni_group_RK_all[['University Name','Total Score','New_National/Regional Rank']][0:10]\n",
    "Uni_group_World_National_RK"
   ]
  },
  {
   "cell_type": "markdown",
   "metadata": {},
   "source": [
    "# What positions do universities in Saudi Arabia hold within the global rankings?"
   ]
  },
  {
   "cell_type": "code",
   "execution_count": null,
   "metadata": {},
   "outputs": [
    {
     "data": {
      "text/html": [
       "<div>\n",
       "<style scoped>\n",
       "    .dataframe tbody tr th:only-of-type {\n",
       "        vertical-align: middle;\n",
       "    }\n",
       "\n",
       "    .dataframe tbody tr th {\n",
       "        vertical-align: top;\n",
       "    }\n",
       "\n",
       "    .dataframe thead th {\n",
       "        text-align: right;\n",
       "    }\n",
       "</style>\n",
       "<table border=\"1\" class=\"dataframe\">\n",
       "  <thead>\n",
       "    <tr style=\"text-align: right;\">\n",
       "      <th></th>\n",
       "      <th>University Name</th>\n",
       "      <th>Total Score</th>\n",
       "      <th>New_Rank</th>\n",
       "      <th>New_National/Regional Rank</th>\n",
       "    </tr>\n",
       "  </thead>\n",
       "  <tbody>\n",
       "    <tr>\n",
       "      <th>109</th>\n",
       "      <td>King Abdulaziz University</td>\n",
       "      <td>0.0</td>\n",
       "      <td>101</td>\n",
       "      <td>1</td>\n",
       "    </tr>\n",
       "    <tr>\n",
       "      <th>110</th>\n",
       "      <td>King Saud University</td>\n",
       "      <td>0.0</td>\n",
       "      <td>101</td>\n",
       "      <td>1</td>\n",
       "    </tr>\n",
       "    <tr>\n",
       "      <th>222</th>\n",
       "      <td>King Abdullah University of Science and Techno...</td>\n",
       "      <td>0.0</td>\n",
       "      <td>201</td>\n",
       "      <td>3</td>\n",
       "    </tr>\n",
       "    <tr>\n",
       "      <th>423</th>\n",
       "      <td>King Fahd University of Petroleum &amp; Minerals</td>\n",
       "      <td>0.0</td>\n",
       "      <td>401</td>\n",
       "      <td>4</td>\n",
       "    </tr>\n",
       "    <tr>\n",
       "      <th>446</th>\n",
       "      <td>Taif University</td>\n",
       "      <td>0.0</td>\n",
       "      <td>401</td>\n",
       "      <td>4</td>\n",
       "    </tr>\n",
       "    <tr>\n",
       "      <th>631</th>\n",
       "      <td>King Khalid University</td>\n",
       "      <td>0.0</td>\n",
       "      <td>601</td>\n",
       "      <td>6</td>\n",
       "    </tr>\n",
       "    <tr>\n",
       "      <th>855</th>\n",
       "      <td>Prince Sattam Bin Abdulaziz University</td>\n",
       "      <td>0.0</td>\n",
       "      <td>801</td>\n",
       "      <td>7</td>\n",
       "    </tr>\n",
       "  </tbody>\n",
       "</table>\n",
       "</div>"
      ],
      "text/plain": [
       "                                       University Name  Total Score  New_Rank  \\\n",
       "109                          King Abdulaziz University          0.0       101   \n",
       "110                               King Saud University          0.0       101   \n",
       "222  King Abdullah University of Science and Techno...          0.0       201   \n",
       "423       King Fahd University of Petroleum & Minerals          0.0       401   \n",
       "446                                    Taif University          0.0       401   \n",
       "631                             King Khalid University          0.0       601   \n",
       "855             Prince Sattam Bin Abdulaziz University          0.0       801   \n",
       "\n",
       "     New_National/Regional Rank  \n",
       "109                           1  \n",
       "110                           1  \n",
       "222                           3  \n",
       "423                           4  \n",
       "446                           4  \n",
       "631                           6  \n",
       "855                           7  "
      ]
     },
     "execution_count": 132,
     "metadata": {},
     "output_type": "execute_result"
    }
   ],
   "source": [
    "uni_names = [\n",
    "    'King Abdullah University of Science and Technology',\n",
    "    'King Abdulaziz University',\n",
    "    'King Saud University',\n",
    "    'King Fahd University of Petroleum & Minerals',\n",
    "    'Taif University',\n",
    "    'King Khalid University',\n",
    "    'Prince Sattam Bin Abdulaziz University'\n",
    "]\n",
    "\n",
    "selected_rows = Uni_group_RK_all.loc[Uni_group_RK_all['University Name'].isin(uni_names)]\n",
    "\n",
    "selected_rows"
   ]
  },
  {
   "cell_type": "code",
   "execution_count": 236,
   "metadata": {},
   "outputs": [
    {
     "data": {
      "image/png": "[encoded data removed]",
      "text/plain": [
       "<Figure size 1000x600 with 1 Axes>"
      ]
     },
     "metadata": {},
     "output_type": "display_data"
    }
   ],
   "source": [
    "# To display the ranking of Saudi Universities in The World \n",
    "\n",
    "\n",
    "plt.figure(figsize=(10, 6))  # Adjust figure size if needed\n",
    "plt.bar(selected_rows['University Name'], selected_rows['New_Rank'], color='skyblue')\n",
    "\n",
    "\n",
    "plt.title('Rank Comparison for Selected Universities')\n",
    "plt.xlabel('University Name ')\n",
    "plt.ylabel('University Rank')\n",
    "\n",
    "\n",
    "plt.xticks(rotation=90)\n",
    "\n",
    "# Show plot\n",
    "\n",
    "plt.show()"
   ]
  }
 ],
 "metadata": {
  "kernelspec": {
   "display_name": "Python 3",
   "language": "python",
   "name": "python3"
  },
  "language_info": {
   "codemirror_mode": {
    "name": "ipython",
    "version": 3
   },
   "file_extension": ".py",
   "mimetype": "text/x-python",
   "name": "python",
   "nbconvert_exporter": "python",
   "pygments_lexer": "ipython3",
   "version": "3.11.9"
  }
 },
 "nbformat": 4,
 "nbformat_minor": 2
}
